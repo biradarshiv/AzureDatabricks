{
 "cells": [
  {
   "cell_type": "code",
   "execution_count": 0,
   "metadata": {
    "application/vnd.databricks.v1+cell": {
     "cellMetadata": {
      "byteLimit": 2048000,
      "rowLimit": 10000
     },
     "inputWidgets": {},
     "nuid": "88209b0b-05ee-4868-9b2b-5aaedb0d9387",
     "showTitle": false,
     "tableResultSettingsMap": {},
     "title": ""
    }
   },
   "outputs": [
    {
     "output_type": "stream",
     "name": "stdout",
     "output_type": "stream",
     "text": [
      "Connection to datalakeshiva88 is successful\n"
     ]
    }
   ],
   "source": [
    "# run this code before using the dbutils.fs.ls() command \n",
    "\n",
    "# Get secret key for the service principal from the key vault\n",
    "v_secretKey = dbutils.secrets.get(scope = 'shivascope', key = 'app-secret')\n",
    "\n",
    "spark.conf.set(\"fs.azure.account.auth.type.datalakeshiva88.dfs.core.windows.net\", \"OAuth\")\n",
    "spark.conf.set(\"fs.azure.account.oauth.provider.type.datalakeshiva88.dfs.core.windows.net\", \"org.apache.hadoop.fs.azurebfs.oauth2.ClientCredsTokenProvider\")\n",
    "spark.conf.set(\"fs.azure.account.oauth2.client.id.datalakeshiva88.dfs.core.windows.net\", \"dca1f602-c72a-415b-b51a-ca03681be8bd\")\n",
    "spark.conf.set(\"fs.azure.account.oauth2.client.secret.datalakeshiva88.dfs.core.windows.net\", v_secretKey)\n",
    "spark.conf.set(\"fs.azure.account.oauth2.client.endpoint.datalakeshiva88.dfs.core.windows.net\", \"https://login.microsoftonline.com/6790180a-41ee-4792-b0af-04995baf0de1/oauth2/token\")\n",
    "\n",
    "print(\"Connection to datalakeshiva88 is successful\")"
   ]
  },
  {
   "cell_type": "code",
   "execution_count": 0,
   "metadata": {
    "application/vnd.databricks.v1+cell": {
     "cellMetadata": {
      "byteLimit": 2048000,
      "rowLimit": 10000
     },
     "inputWidgets": {},
     "nuid": "573299f6-6cc2-414d-9015-3791f2628937",
     "showTitle": false,
     "tableResultSettingsMap": {},
     "title": ""
    }
   },
   "outputs": [
    {
     "output_type": "execute_result",
     "data": {
      "text/plain": [
       "[FileInfo(path='abfss://source@datalakeshiva88.dfs.core.windows.net/Sales.csv', name='Sales.csv', size=869537, modificationTime=1757579335000)]"
      ]
     },
     "execution_count": 2,
     "metadata": {},
     "output_type": "execute_result"
    }
   ],
   "source": [
    "dbutils.fs.ls(\"abfss://source@datalakeshiva88.dfs.core.windows.net/\")"
   ]
  },
  {
   "cell_type": "code",
   "execution_count": 0,
   "metadata": {
    "application/vnd.databricks.v1+cell": {
     "cellMetadata": {},
     "inputWidgets": {},
     "nuid": "1c437f17-7649-4e19-8592-c1fc87b3c229",
     "showTitle": false,
     "tableResultSettingsMap": {},
     "title": ""
    }
   },
   "outputs": [],
   "source": [
    "df_sales = spark.read.csv(\"abfss://source@datalakeshiva88.dfs.core.windows.net/Sales.csv\")\n",
    "#df_sales.display()\n",
    "print('df_sales hs the data from Sales.csv')"
   ]
  }
 ],
 "metadata": {
  "application/vnd.databricks.v1+notebook": {
   "computePreferences": null,
   "dashboards": [],
   "environmentMetadata": {
    "base_environment": "",
    "environment_version": "3"
   },
   "inputWidgetPreferences": null,
   "language": "python",
   "notebookMetadata": {
    "pythonIndentUnit": 4
   },
   "notebookName": "ConnectToDataLake",
   "widgets": {}
  },
  "language_info": {
   "name": "python"
  }
 },
 "nbformat": 4,
 "nbformat_minor": 0
}