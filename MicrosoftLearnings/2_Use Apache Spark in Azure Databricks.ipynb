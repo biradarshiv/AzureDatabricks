{
 "cells": [
  {
   "cell_type": "markdown",
   "metadata": {
    "application/vnd.databricks.v1+cell": {
     "cellMetadata": {},
     "inputWidgets": {},
     "nuid": "12fec590-bc8c-4804-a507-f252e77cfba2",
     "showTitle": false,
     "tableResultSettingsMap": {},
     "title": ""
    }
   },
   "source": [
    "# Loading data into a dataframe"
   ]
  },
  {
   "cell_type": "code",
   "execution_count": 0,
   "metadata": {
    "application/vnd.databricks.v1+cell": {
     "cellMetadata": {
      "byteLimit": 2048000,
      "rowLimit": 10000
     },
     "inputWidgets": {},
     "nuid": "6efe34a1-0d76-4e05-b672-95e09b9b2c61",
     "showTitle": false,
     "tableResultSettingsMap": {},
     "title": ""
    }
   },
   "outputs": [
    {
     "output_type": "display_data",
     "data": {
      "text/html": [
       "<style scoped>\n",
       "  .table-result-container {\n",
       "    max-height: 300px;\n",
       "    overflow: auto;\n",
       "  }\n",
       "  table, th, td {\n",
       "    border: 1px solid black;\n",
       "    border-collapse: collapse;\n",
       "  }\n",
       "  th, td {\n",
       "    padding: 5px;\n",
       "  }\n",
       "  th {\n",
       "    text-align: left;\n",
       "  }\n",
       "</style><div class='table-result-container'><table class='table-result'><thead style='background-color: white'><tr><th>path</th><th>name</th><th>size</th><th>modificationTime</th></tr></thead><tbody><tr><td>dbfs:/Volumes/databricksmaster_workspace/salesdb/volume_products/products.csv</td><td>products.csv</td><td>14372</td><td>1758195260000</td></tr></tbody></table></div>"
      ]
     },
     "metadata": {
      "application/vnd.databricks.v1+output": {
       "addedWidgets": {},
       "aggData": [],
       "aggError": "",
       "aggOverflow": false,
       "aggSchema": [],
       "aggSeriesLimitReached": false,
       "aggType": "",
       "arguments": {},
       "columnCustomDisplayInfos": {},
       "data": [
        [
         "dbfs:/Volumes/databricksmaster_workspace/salesdb/volume_products/products.csv",
         "products.csv",
         14372,
         1758195260000
        ]
       ],
       "datasetInfos": [],
       "dbfsResultPath": null,
       "isJsonSchema": true,
       "metadata": {},
       "overflow": false,
       "plotOptions": {
        "customPlotOptions": {},
        "displayType": "table",
        "pivotAggregation": null,
        "pivotColumns": null,
        "xColumns": null,
        "yColumns": null
       },
       "removedWidgets": [],
       "schema": [
        {
         "metadata": "{}",
         "name": "path",
         "type": "\"string\""
        },
        {
         "metadata": "{}",
         "name": "name",
         "type": "\"string\""
        },
        {
         "metadata": "{}",
         "name": "size",
         "type": "\"long\""
        },
        {
         "metadata": "{}",
         "name": "modificationTime",
         "type": "\"long\""
        }
       ],
       "type": "table"
      }
     },
     "output_type": "display_data"
    }
   ],
   "source": [
    "display(dbutils.fs.ls(\"/Volumes/databricksmaster_workspace/salesdb/volume_products\"))"
   ]
  },
  {
   "cell_type": "code",
   "execution_count": 0,
   "metadata": {
    "application/vnd.databricks.v1+cell": {
     "cellMetadata": {
      "byteLimit": 2048000,
      "rowLimit": 10000
     },
     "inputWidgets": {},
     "nuid": "dfdd7048-7a6e-47ac-a179-9f374ecf6d57",
     "showTitle": false,
     "tableResultSettingsMap": {},
     "title": ""
    }
   },
   "outputs": [
    {
     "output_type": "display_data",
     "data": {
      "text/html": [
       "<style scoped>\n",
       "  .table-result-container {\n",
       "    max-height: 300px;\n",
       "    overflow: auto;\n",
       "  }\n",
       "  table, th, td {\n",
       "    border: 1px solid black;\n",
       "    border-collapse: collapse;\n",
       "  }\n",
       "  th, td {\n",
       "    padding: 5px;\n",
       "  }\n",
       "  th {\n",
       "    text-align: left;\n",
       "  }\n",
       "</style><div class='table-result-container'><table class='table-result'><thead style='background-color: white'><tr><th>ProductID</th><th>ProductName</th><th>Category</th><th>ListPrice</th></tr></thead><tbody><tr><td>771</td><td>Mountain-100 Silver, 38</td><td>Mountain Bikes</td><td>3399.9900</td></tr><tr><td>772</td><td>Mountain-100 Silver, 42</td><td>Mountain Bikes</td><td>3399.9900</td></tr><tr><td>773</td><td>Mountain-100 Silver, 44</td><td>Mountain Bikes</td><td>3399.9900</td></tr><tr><td>774</td><td>Mountain-100 Silver, 48</td><td>Mountain Bikes</td><td>3399.9900</td></tr><tr><td>775</td><td>Mountain-100 Black, 38</td><td>Mountain Bikes</td><td>3374.9900</td></tr><tr><td>776</td><td>Mountain-100 Black, 42</td><td>Mountain Bikes</td><td>3374.9900</td></tr><tr><td>777</td><td>Mountain-100 Black, 44</td><td>Mountain Bikes</td><td>3374.9900</td></tr><tr><td>778</td><td>Mountain-100 Black, 48</td><td>Mountain Bikes</td><td>3374.9900</td></tr><tr><td>779</td><td>Mountain-200 Silver, 38</td><td>Mountain Bikes</td><td>2319.9900</td></tr><tr><td>780</td><td>Mountain-200 Silver, 42</td><td>Mountain Bikes</td><td>2319.9900</td></tr></tbody></table></div>"
      ]
     },
     "metadata": {
      "application/vnd.databricks.v1+output": {
       "addedWidgets": {},
       "aggData": [],
       "aggError": "",
       "aggOverflow": false,
       "aggSchema": [],
       "aggSeriesLimitReached": false,
       "aggType": "",
       "arguments": {},
       "columnCustomDisplayInfos": {},
       "data": [
        [
         "771",
         "Mountain-100 Silver, 38",
         "Mountain Bikes",
         "3399.9900"
        ],
        [
         "772",
         "Mountain-100 Silver, 42",
         "Mountain Bikes",
         "3399.9900"
        ],
        [
         "773",
         "Mountain-100 Silver, 44",
         "Mountain Bikes",
         "3399.9900"
        ],
        [
         "774",
         "Mountain-100 Silver, 48",
         "Mountain Bikes",
         "3399.9900"
        ],
        [
         "775",
         "Mountain-100 Black, 38",
         "Mountain Bikes",
         "3374.9900"
        ],
        [
         "776",
         "Mountain-100 Black, 42",
         "Mountain Bikes",
         "3374.9900"
        ],
        [
         "777",
         "Mountain-100 Black, 44",
         "Mountain Bikes",
         "3374.9900"
        ],
        [
         "778",
         "Mountain-100 Black, 48",
         "Mountain Bikes",
         "3374.9900"
        ],
        [
         "779",
         "Mountain-200 Silver, 38",
         "Mountain Bikes",
         "2319.9900"
        ],
        [
         "780",
         "Mountain-200 Silver, 42",
         "Mountain Bikes",
         "2319.9900"
        ]
       ],
       "datasetInfos": [],
       "dbfsResultPath": null,
       "isJsonSchema": true,
       "metadata": {},
       "overflow": false,
       "plotOptions": {
        "customPlotOptions": {},
        "displayType": "table",
        "pivotAggregation": null,
        "pivotColumns": null,
        "xColumns": null,
        "yColumns": null
       },
       "removedWidgets": [],
       "schema": [
        {
         "metadata": "{}",
         "name": "ProductID",
         "type": "\"string\""
        },
        {
         "metadata": "{}",
         "name": "ProductName",
         "type": "\"string\""
        },
        {
         "metadata": "{}",
         "name": "Category",
         "type": "\"string\""
        },
        {
         "metadata": "{}",
         "name": "ListPrice",
         "type": "\"string\""
        }
       ],
       "type": "table"
      }
     },
     "output_type": "display_data"
    }
   ],
   "source": [
    "#%pyspark\n",
    "\n",
    "df = spark.read.load('/Volumes/databricksmaster_workspace/salesdb/volume_products/products.csv',\n",
    "    format='csv',\n",
    "    header=True);\n",
    "display(df.limit(10));    \n",
    "\n",
    "\n"
   ]
  },
  {
   "cell_type": "code",
   "execution_count": 0,
   "metadata": {
    "application/vnd.databricks.v1+cell": {
     "cellMetadata": {
      "byteLimit": 2048000,
      "rowLimit": 10000
     },
     "inputWidgets": {},
     "nuid": "fd6e2de8-0ea9-4e11-8349-a2aab58f1b35",
     "showTitle": false,
     "tableResultSettingsMap": {},
     "title": ""
    }
   },
   "outputs": [
    {
     "output_type": "display_data",
     "data": {
      "text/html": [
       "<style scoped>\n",
       "  .table-result-container {\n",
       "    max-height: 300px;\n",
       "    overflow: auto;\n",
       "  }\n",
       "  table, th, td {\n",
       "    border: 1px solid black;\n",
       "    border-collapse: collapse;\n",
       "  }\n",
       "  th, td {\n",
       "    padding: 5px;\n",
       "  }\n",
       "  th {\n",
       "    text-align: left;\n",
       "  }\n",
       "</style><div class='table-result-container'><table class='table-result'><thead style='background-color: white'><tr><th>ProductID</th><th>ProductName</th><th>Category</th><th>ListPrice</th></tr></thead><tbody><tr><td>771</td><td>Mountain-100 Silver, 38</td><td>Mountain Bikes</td><td>3399.9900</td></tr><tr><td>772</td><td>Mountain-100 Silver, 42</td><td>Mountain Bikes</td><td>3399.9900</td></tr><tr><td>773</td><td>Mountain-100 Silver, 44</td><td>Mountain Bikes</td><td>3399.9900</td></tr><tr><td>774</td><td>Mountain-100 Silver, 48</td><td>Mountain Bikes</td><td>3399.9900</td></tr><tr><td>775</td><td>Mountain-100 Black, 38</td><td>Mountain Bikes</td><td>3374.9900</td></tr><tr><td>776</td><td>Mountain-100 Black, 42</td><td>Mountain Bikes</td><td>3374.9900</td></tr><tr><td>777</td><td>Mountain-100 Black, 44</td><td>Mountain Bikes</td><td>3374.9900</td></tr><tr><td>778</td><td>Mountain-100 Black, 48</td><td>Mountain Bikes</td><td>3374.9900</td></tr><tr><td>779</td><td>Mountain-200 Silver, 38</td><td>Mountain Bikes</td><td>2319.9900</td></tr><tr><td>780</td><td>Mountain-200 Silver, 42</td><td>Mountain Bikes</td><td>2319.9900</td></tr></tbody></table></div>"
      ]
     },
     "metadata": {
      "application/vnd.databricks.v1+output": {
       "addedWidgets": {},
       "aggData": [],
       "aggError": "",
       "aggOverflow": false,
       "aggSchema": [],
       "aggSeriesLimitReached": false,
       "aggType": "",
       "arguments": {},
       "columnCustomDisplayInfos": {},
       "data": [
        [
         "771",
         "Mountain-100 Silver, 38",
         "Mountain Bikes",
         "3399.9900"
        ],
        [
         "772",
         "Mountain-100 Silver, 42",
         "Mountain Bikes",
         "3399.9900"
        ],
        [
         "773",
         "Mountain-100 Silver, 44",
         "Mountain Bikes",
         "3399.9900"
        ],
        [
         "774",
         "Mountain-100 Silver, 48",
         "Mountain Bikes",
         "3399.9900"
        ],
        [
         "775",
         "Mountain-100 Black, 38",
         "Mountain Bikes",
         "3374.9900"
        ],
        [
         "776",
         "Mountain-100 Black, 42",
         "Mountain Bikes",
         "3374.9900"
        ],
        [
         "777",
         "Mountain-100 Black, 44",
         "Mountain Bikes",
         "3374.9900"
        ],
        [
         "778",
         "Mountain-100 Black, 48",
         "Mountain Bikes",
         "3374.9900"
        ],
        [
         "779",
         "Mountain-200 Silver, 38",
         "Mountain Bikes",
         "2319.9900"
        ],
        [
         "780",
         "Mountain-200 Silver, 42",
         "Mountain Bikes",
         "2319.9900"
        ]
       ],
       "datasetInfos": [],
       "dbfsResultPath": null,
       "isJsonSchema": true,
       "metadata": {},
       "overflow": false,
       "plotOptions": {
        "customPlotOptions": {},
        "displayType": "table",
        "pivotAggregation": null,
        "pivotColumns": null,
        "xColumns": null,
        "yColumns": null
       },
       "removedWidgets": [],
       "schema": [
        {
         "metadata": "{}",
         "name": "ProductID",
         "type": "\"string\""
        },
        {
         "metadata": "{}",
         "name": "ProductName",
         "type": "\"string\""
        },
        {
         "metadata": "{}",
         "name": "Category",
         "type": "\"string\""
        },
        {
         "metadata": "{}",
         "name": "ListPrice",
         "type": "\"string\""
        }
       ],
       "type": "table"
      }
     },
     "output_type": "display_data"
    }
   ],
   "source": [
    "#%spark\n",
    "file_path = \"/Volumes/databricksmaster_workspace/salesdb/volume_products/products.csv\"\n",
    "\n",
    "df = spark.read.format(\"csv\").option(\"header\", \"true\").load(file_path)\n",
    "display(df.limit(10))"
   ]
  },
  {
   "cell_type": "code",
   "execution_count": 0,
   "metadata": {
    "application/vnd.databricks.v1+cell": {
     "cellMetadata": {
      "byteLimit": 2048000,
      "rowLimit": 10000
     },
     "inputWidgets": {},
     "nuid": "c3bb4697-1e91-4d79-8830-3051f1dc0f3c",
     "showTitle": false,
     "tableResultSettingsMap": {},
     "title": ""
    }
   },
   "outputs": [
    {
     "output_type": "display_data",
     "data": {
      "text/html": [
       "<style scoped>\n",
       "  .table-result-container {\n",
       "    max-height: 300px;\n",
       "    overflow: auto;\n",
       "  }\n",
       "  table, th, td {\n",
       "    border: 1px solid black;\n",
       "    border-collapse: collapse;\n",
       "  }\n",
       "  th, td {\n",
       "    padding: 5px;\n",
       "  }\n",
       "  th {\n",
       "    text-align: left;\n",
       "  }\n",
       "</style><div class='table-result-container'><table class='table-result'><thead style='background-color: white'><tr><th>ProductID</th><th>ProductName</th><th>Category</th><th>ListPrice</th></tr></thead><tbody><tr><td>null</td><td>ProductName</td><td>Category</td><td>null</td></tr><tr><td>771</td><td>Mountain-100 Silver, 38</td><td>Mountain Bikes</td><td>3399.99</td></tr><tr><td>772</td><td>Mountain-100 Silver, 42</td><td>Mountain Bikes</td><td>3399.99</td></tr><tr><td>773</td><td>Mountain-100 Silver, 44</td><td>Mountain Bikes</td><td>3399.99</td></tr><tr><td>774</td><td>Mountain-100 Silver, 48</td><td>Mountain Bikes</td><td>3399.99</td></tr><tr><td>775</td><td>Mountain-100 Black, 38</td><td>Mountain Bikes</td><td>3374.99</td></tr><tr><td>776</td><td>Mountain-100 Black, 42</td><td>Mountain Bikes</td><td>3374.99</td></tr><tr><td>777</td><td>Mountain-100 Black, 44</td><td>Mountain Bikes</td><td>3374.99</td></tr><tr><td>778</td><td>Mountain-100 Black, 48</td><td>Mountain Bikes</td><td>3374.99</td></tr><tr><td>779</td><td>Mountain-200 Silver, 38</td><td>Mountain Bikes</td><td>2319.99</td></tr></tbody></table></div>"
      ]
     },
     "metadata": {
      "application/vnd.databricks.v1+output": {
       "addedWidgets": {},
       "aggData": [],
       "aggError": "",
       "aggOverflow": false,
       "aggSchema": [],
       "aggSeriesLimitReached": false,
       "aggType": "",
       "arguments": {},
       "columnCustomDisplayInfos": {},
       "data": [
        [
         null,
         "ProductName",
         "Category",
         null
        ],
        [
         771,
         "Mountain-100 Silver, 38",
         "Mountain Bikes",
         3399.99
        ],
        [
         772,
         "Mountain-100 Silver, 42",
         "Mountain Bikes",
         3399.99
        ],
        [
         773,
         "Mountain-100 Silver, 44",
         "Mountain Bikes",
         3399.99
        ],
        [
         774,
         "Mountain-100 Silver, 48",
         "Mountain Bikes",
         3399.99
        ],
        [
         775,
         "Mountain-100 Black, 38",
         "Mountain Bikes",
         3374.99
        ],
        [
         776,
         "Mountain-100 Black, 42",
         "Mountain Bikes",
         3374.99
        ],
        [
         777,
         "Mountain-100 Black, 44",
         "Mountain Bikes",
         3374.99
        ],
        [
         778,
         "Mountain-100 Black, 48",
         "Mountain Bikes",
         3374.99
        ],
        [
         779,
         "Mountain-200 Silver, 38",
         "Mountain Bikes",
         2319.99
        ]
       ],
       "datasetInfos": [],
       "dbfsResultPath": null,
       "isJsonSchema": true,
       "metadata": {},
       "overflow": false,
       "plotOptions": {
        "customPlotOptions": {},
        "displayType": "table",
        "pivotAggregation": null,
        "pivotColumns": null,
        "xColumns": null,
        "yColumns": null
       },
       "removedWidgets": [],
       "schema": [
        {
         "metadata": "{}",
         "name": "ProductID",
         "type": "\"integer\""
        },
        {
         "metadata": "{}",
         "name": "ProductName",
         "type": "\"string\""
        },
        {
         "metadata": "{}",
         "name": "Category",
         "type": "\"string\""
        },
        {
         "metadata": "{}",
         "name": "ListPrice",
         "type": "\"float\""
        }
       ],
       "type": "table"
      }
     },
     "output_type": "display_data"
    }
   ],
   "source": [
    "from pyspark.sql.types import *\n",
    "from pyspark.sql.functions import *\n",
    "\n",
    "productSchema = StructType([\n",
    "    StructField(\"ProductID\", IntegerType()),\n",
    "    StructField(\"ProductName\", StringType()),\n",
    "    StructField(\"Category\", StringType()),\n",
    "    StructField(\"ListPrice\", FloatType())\n",
    "    ])\n",
    "\n",
    "df = spark.read.load('/Volumes/databricksmaster_workspace/salesdb/volume_products/products.csv',\n",
    "    format='csv',\n",
    "    schema=productSchema,\n",
    "    header=False)\n",
    "display(df.limit(10))"
   ]
  },
  {
   "cell_type": "code",
   "execution_count": 0,
   "metadata": {
    "application/vnd.databricks.v1+cell": {
     "cellMetadata": {
      "byteLimit": 2048000,
      "rowLimit": 10000
     },
     "inputWidgets": {},
     "nuid": "33227901-0e90-4ad9-9156-c220fb19d615",
     "showTitle": false,
     "tableResultSettingsMap": {},
     "title": ""
    }
   },
   "outputs": [
    {
     "output_type": "display_data",
     "data": {
      "text/html": [
       "<style scoped>\n",
       "  .table-result-container {\n",
       "    max-height: 300px;\n",
       "    overflow: auto;\n",
       "  }\n",
       "  table, th, td {\n",
       "    border: 1px solid black;\n",
       "    border-collapse: collapse;\n",
       "  }\n",
       "  th, td {\n",
       "    padding: 5px;\n",
       "  }\n",
       "  th {\n",
       "    text-align: left;\n",
       "  }\n",
       "</style><div class='table-result-container'><table class='table-result'><thead style='background-color: white'><tr><th>ProductID</th><th>ListPrice</th></tr></thead><tbody><tr><td>null</td><td>null</td></tr><tr><td>771</td><td>3399.99</td></tr><tr><td>772</td><td>3399.99</td></tr><tr><td>773</td><td>3399.99</td></tr><tr><td>774</td><td>3399.99</td></tr><tr><td>775</td><td>3374.99</td></tr><tr><td>776</td><td>3374.99</td></tr><tr><td>777</td><td>3374.99</td></tr><tr><td>778</td><td>3374.99</td></tr><tr><td>779</td><td>2319.99</td></tr></tbody></table></div>"
      ]
     },
     "metadata": {
      "application/vnd.databricks.v1+output": {
       "addedWidgets": {},
       "aggData": [],
       "aggError": "",
       "aggOverflow": false,
       "aggSchema": [],
       "aggSeriesLimitReached": false,
       "aggType": "",
       "arguments": {},
       "columnCustomDisplayInfos": {},
       "data": [
        [
         null,
         null
        ],
        [
         771,
         3399.99
        ],
        [
         772,
         3399.99
        ],
        [
         773,
         3399.99
        ],
        [
         774,
         3399.99
        ],
        [
         775,
         3374.99
        ],
        [
         776,
         3374.99
        ],
        [
         777,
         3374.99
        ],
        [
         778,
         3374.99
        ],
        [
         779,
         2319.99
        ]
       ],
       "datasetInfos": [],
       "dbfsResultPath": null,
       "isJsonSchema": true,
       "metadata": {},
       "overflow": false,
       "plotOptions": {
        "customPlotOptions": {},
        "displayType": "table",
        "pivotAggregation": null,
        "pivotColumns": null,
        "xColumns": null,
        "yColumns": null
       },
       "removedWidgets": [],
       "schema": [
        {
         "metadata": "{}",
         "name": "ProductID",
         "type": "\"integer\""
        },
        {
         "metadata": "{}",
         "name": "ListPrice",
         "type": "\"float\""
        }
       ],
       "type": "table"
      }
     },
     "output_type": "display_data"
    }
   ],
   "source": [
    "pricelist_df = df.select(\"ProductID\", \"ListPrice\")\n",
    "display(pricelist_df.limit(10))"
   ]
  },
  {
   "cell_type": "code",
   "execution_count": 0,
   "metadata": {
    "application/vnd.databricks.v1+cell": {
     "cellMetadata": {
      "byteLimit": 2048000,
      "rowLimit": 10000
     },
     "inputWidgets": {},
     "nuid": "f3eada77-4eb8-41be-9bcc-b3acea9938ed",
     "showTitle": false,
     "tableResultSettingsMap": {},
     "title": ""
    }
   },
   "outputs": [
    {
     "output_type": "display_data",
     "data": {
      "text/html": [
       "<style scoped>\n",
       "  .table-result-container {\n",
       "    max-height: 300px;\n",
       "    overflow: auto;\n",
       "  }\n",
       "  table, th, td {\n",
       "    border: 1px solid black;\n",
       "    border-collapse: collapse;\n",
       "  }\n",
       "  th, td {\n",
       "    padding: 5px;\n",
       "  }\n",
       "  th {\n",
       "    text-align: left;\n",
       "  }\n",
       "</style><div class='table-result-container'><table class='table-result'><thead style='background-color: white'><tr><th>ProductName</th><th>ListPrice</th></tr></thead><tbody><tr><td>Mountain-100 Silver, 38</td><td>3399.99</td></tr><tr><td>Mountain-100 Silver, 42</td><td>3399.99</td></tr><tr><td>Mountain-100 Silver, 44</td><td>3399.99</td></tr><tr><td>Mountain-100 Silver, 48</td><td>3399.99</td></tr><tr><td>Mountain-100 Black, 38</td><td>3374.99</td></tr><tr><td>Mountain-100 Black, 42</td><td>3374.99</td></tr><tr><td>Mountain-100 Black, 44</td><td>3374.99</td></tr><tr><td>Mountain-100 Black, 48</td><td>3374.99</td></tr><tr><td>Mountain-200 Silver, 38</td><td>2319.99</td></tr><tr><td>Mountain-200 Silver, 42</td><td>2319.99</td></tr></tbody></table></div>"
      ]
     },
     "metadata": {
      "application/vnd.databricks.v1+output": {
       "addedWidgets": {},
       "aggData": [],
       "aggError": "",
       "aggOverflow": false,
       "aggSchema": [],
       "aggSeriesLimitReached": false,
       "aggType": "",
       "arguments": {},
       "columnCustomDisplayInfos": {},
       "data": [
        [
         "Mountain-100 Silver, 38",
         3399.99
        ],
        [
         "Mountain-100 Silver, 42",
         3399.99
        ],
        [
         "Mountain-100 Silver, 44",
         3399.99
        ],
        [
         "Mountain-100 Silver, 48",
         3399.99
        ],
        [
         "Mountain-100 Black, 38",
         3374.99
        ],
        [
         "Mountain-100 Black, 42",
         3374.99
        ],
        [
         "Mountain-100 Black, 44",
         3374.99
        ],
        [
         "Mountain-100 Black, 48",
         3374.99
        ],
        [
         "Mountain-200 Silver, 38",
         2319.99
        ],
        [
         "Mountain-200 Silver, 42",
         2319.99
        ]
       ],
       "datasetInfos": [],
       "dbfsResultPath": null,
       "isJsonSchema": true,
       "metadata": {},
       "overflow": false,
       "plotOptions": {
        "customPlotOptions": {},
        "displayType": "table",
        "pivotAggregation": null,
        "pivotColumns": null,
        "xColumns": null,
        "yColumns": null
       },
       "removedWidgets": [],
       "schema": [
        {
         "metadata": "{}",
         "name": "ProductName",
         "type": "\"string\""
        },
        {
         "metadata": "{}",
         "name": "ListPrice",
         "type": "\"float\""
        }
       ],
       "type": "table"
      }
     },
     "output_type": "display_data"
    }
   ],
   "source": [
    "bikes_df = df.select(\"ProductName\", \"ListPrice\").where((df[\"Category\"]==\"Mountain Bikes\") | (df[\"Category\"]==\"Road Bikes\"))\n",
    "display(bikes_df.limit(10))"
   ]
  },
  {
   "cell_type": "code",
   "execution_count": 0,
   "metadata": {
    "application/vnd.databricks.v1+cell": {
     "cellMetadata": {
      "byteLimit": 2048000,
      "rowLimit": 10000
     },
     "inputWidgets": {},
     "nuid": "c54c1170-aafc-4456-9040-9625b0a6fbbd",
     "showTitle": false,
     "tableResultSettingsMap": {},
     "title": ""
    }
   },
   "outputs": [
    {
     "output_type": "display_data",
     "data": {
      "text/html": [
       "<style scoped>\n",
       "  .table-result-container {\n",
       "    max-height: 300px;\n",
       "    overflow: auto;\n",
       "  }\n",
       "  table, th, td {\n",
       "    border: 1px solid black;\n",
       "    border-collapse: collapse;\n",
       "  }\n",
       "  th, td {\n",
       "    padding: 5px;\n",
       "  }\n",
       "  th {\n",
       "    text-align: left;\n",
       "  }\n",
       "</style><div class='table-result-container'><table class='table-result'><thead style='background-color: white'><tr><th>Category</th><th>count</th></tr></thead><tbody><tr><td>Headsets</td><td>3</td></tr><tr><td>Wheels</td><td>14</td></tr><tr><td>Bottom Brackets</td><td>3</td></tr><tr><td>Touring Frames</td><td>18</td></tr><tr><td>Mountain Bikes</td><td>32</td></tr><tr><td>Pedals</td><td>7</td></tr><tr><td>Derailleurs</td><td>2</td></tr><tr><td>Chains</td><td>1</td></tr><tr><td>Pumps</td><td>2</td></tr><tr><td>Hydration Packs</td><td>1</td></tr></tbody></table></div>"
      ]
     },
     "metadata": {
      "application/vnd.databricks.v1+output": {
       "addedWidgets": {},
       "aggData": [],
       "aggError": "",
       "aggOverflow": false,
       "aggSchema": [],
       "aggSeriesLimitReached": false,
       "aggType": "",
       "arguments": {},
       "columnCustomDisplayInfos": {},
       "data": [
        [
         "Headsets",
         3
        ],
        [
         "Wheels",
         14
        ],
        [
         "Bottom Brackets",
         3
        ],
        [
         "Touring Frames",
         18
        ],
        [
         "Mountain Bikes",
         32
        ],
        [
         "Pedals",
         7
        ],
        [
         "Derailleurs",
         2
        ],
        [
         "Chains",
         1
        ],
        [
         "Pumps",
         2
        ],
        [
         "Hydration Packs",
         1
        ]
       ],
       "datasetInfos": [],
       "dbfsResultPath": null,
       "isJsonSchema": true,
       "metadata": {},
       "overflow": false,
       "plotOptions": {
        "customPlotOptions": {},
        "displayType": "table",
        "pivotAggregation": null,
        "pivotColumns": null,
        "xColumns": null,
        "yColumns": null
       },
       "removedWidgets": [],
       "schema": [
        {
         "metadata": "{}",
         "name": "Category",
         "type": "\"string\""
        },
        {
         "metadata": "{}",
         "name": "count",
         "type": "\"long\""
        }
       ],
       "type": "table"
      }
     },
     "output_type": "display_data"
    }
   ],
   "source": [
    "counts_df = df.select(\"ProductID\", \"Category\").groupBy(\"Category\").count()\n",
    "display(counts_df.limit(10))"
   ]
  },
  {
   "cell_type": "markdown",
   "metadata": {
    "application/vnd.databricks.v1+cell": {
     "cellMetadata": {},
     "inputWidgets": {},
     "nuid": "56222fad-0434-4774-8444-3041661d750b",
     "showTitle": false,
     "tableResultSettingsMap": {},
     "title": ""
    }
   },
   "source": [
    "**Note**\n",
    "Spark DataFrames are declarative and immutable. Each transformation (like select, filter, or groupBy) creates a new DataFrame that represents what you want, not how it runs. This makes code reusable, optimizable, and free of side effects. But none of these transformations actually execute until you trigger an action (for example, display, collect, write), at which point Spark runs the full optimized plan."
   ]
  },
  {
   "cell_type": "markdown",
   "metadata": {
    "application/vnd.databricks.v1+cell": {
     "cellMetadata": {},
     "inputWidgets": {},
     "nuid": "03fde87e-4981-4b90-8fee-7b4fd9a04e5a",
     "showTitle": false,
     "tableResultSettingsMap": {},
     "title": ""
    }
   },
   "source": [
    "# Using SQL expressions in Spark"
   ]
  },
  {
   "cell_type": "markdown",
   "metadata": {
    "application/vnd.databricks.v1+cell": {
     "cellMetadata": {},
     "inputWidgets": {},
     "nuid": "a9a21b6b-b16a-4b17-a196-16cdfb44814e",
     "showTitle": false,
     "tableResultSettingsMap": {},
     "title": ""
    }
   },
   "source": [
    "\n",
    "You can create an empty table by using the **spark.catalog.createTable** method. Tables are metadata structures that store their underlying data in the storage location associated with the catalog. Deleting a table also deletes its underlying data.\n",
    "\n",
    "You can save a dataframe as a table by using its **saveAsTable** method.\n",
    "\n",
    "You can create an external table by using the **spark.catalog.createExternalTable** method. External tables define metadata in the catalog but get their underlying data from an external storage location; typically a folder in a data lake. Deleting an external table doesn't delete the underlying data."
   ]
  },
  {
   "cell_type": "code",
   "execution_count": 0,
   "metadata": {
    "application/vnd.databricks.v1+cell": {
     "cellMetadata": {
      "byteLimit": 2048000,
      "implicitDf": true,
      "rowLimit": 10000
     },
     "inputWidgets": {},
     "nuid": "15ab70d4-67b9-4b0c-a27f-06f7596b8900",
     "showTitle": false,
     "tableResultSettingsMap": {},
     "title": ""
    }
   },
   "outputs": [
    {
     "output_type": "display_data",
     "data": {
      "text/html": [
       "<style scoped>\n",
       "  .table-result-container {\n",
       "    max-height: 300px;\n",
       "    overflow: auto;\n",
       "  }\n",
       "  table, th, td {\n",
       "    border: 1px solid black;\n",
       "    border-collapse: collapse;\n",
       "  }\n",
       "  th, td {\n",
       "    padding: 5px;\n",
       "  }\n",
       "  th {\n",
       "    text-align: left;\n",
       "  }\n",
       "</style><div class='table-result-container'><table class='table-result'><thead style='background-color: white'><tr><th>_c0</th><th>_c1</th><th>_c2</th><th>_c3</th></tr></thead><tbody><tr><td>680</td><td>HL Road Frame - Black, 58</td><td>Road Frames</td><td>1431.5000</td></tr><tr><td>706</td><td>HL Road Frame - Red, 58</td><td>Road Frames</td><td>1431.5000</td></tr><tr><td>709</td><td>Mountain Bike Socks, M</td><td>Socks</td><td>9.5000</td></tr><tr><td>707</td><td>Sport-100 Helmet, Red</td><td>Helmets</td><td>34.9900</td></tr><tr><td>708</td><td>Sport-100 Helmet, Black</td><td>Helmets</td><td>34.9900</td></tr></tbody></table></div>"
      ]
     },
     "metadata": {
      "application/vnd.databricks.v1+output": {
       "addedWidgets": {},
       "aggData": [],
       "aggError": "",
       "aggOverflow": false,
       "aggSchema": [],
       "aggSeriesLimitReached": false,
       "aggType": "",
       "arguments": {},
       "columnCustomDisplayInfos": {},
       "data": [
        [
         "680",
         "HL Road Frame - Black, 58",
         "Road Frames",
         "1431.5000"
        ],
        [
         "706",
         "HL Road Frame - Red, 58",
         "Road Frames",
         "1431.5000"
        ],
        [
         "709",
         "Mountain Bike Socks, M",
         "Socks",
         "9.5000"
        ],
        [
         "707",
         "Sport-100 Helmet, Red",
         "Helmets",
         "34.9900"
        ],
        [
         "708",
         "Sport-100 Helmet, Black",
         "Helmets",
         "34.9900"
        ]
       ],
       "datasetInfos": [
        {
         "name": "_sqldf",
         "schema": {
          "fields": [
           {
            "metadata": {},
            "name": "_c0",
            "nullable": true,
            "type": "string"
           },
           {
            "metadata": {},
            "name": "_c1",
            "nullable": true,
            "type": "string"
           },
           {
            "metadata": {},
            "name": "_c2",
            "nullable": true,
            "type": "string"
           },
           {
            "metadata": {},
            "name": "_c3",
            "nullable": true,
            "type": "string"
           }
          ],
          "type": "struct"
         },
         "tableIdentifier": null,
         "typeStr": "pyspark.sql.connect.dataframe.DataFrame"
        }
       ],
       "dbfsResultPath": null,
       "isJsonSchema": true,
       "metadata": {
        "createTempViewForImplicitDf": true,
        "dataframeName": "_sqldf",
        "executionCount": 51
       },
       "overflow": false,
       "plotOptions": {
        "customPlotOptions": {},
        "displayType": "table",
        "pivotAggregation": null,
        "pivotColumns": null,
        "xColumns": null,
        "yColumns": null
       },
       "removedWidgets": [],
       "schema": [
        {
         "metadata": "{}",
         "name": "_c0",
         "type": "\"string\""
        },
        {
         "metadata": "{}",
         "name": "_c1",
         "type": "\"string\""
        },
        {
         "metadata": "{}",
         "name": "_c2",
         "type": "\"string\""
        },
        {
         "metadata": "{}",
         "name": "_c3",
         "type": "\"string\""
        }
       ],
       "type": "table"
      }
     },
     "output_type": "display_data"
    }
   ],
   "source": [
    "%sql\n",
    "SELECT *\n",
    "FROM csv.`/Volumes/databricksmaster_workspace/salesdb/volume_products/products.csv`\n",
    "where _c0 < 710"
   ]
  },
  {
   "cell_type": "code",
   "execution_count": 0,
   "metadata": {
    "application/vnd.databricks.v1+cell": {
     "cellMetadata": {
      "byteLimit": 2048000,
      "rowLimit": 10000
     },
     "inputWidgets": {},
     "nuid": "6b6214eb-b6bd-4d45-b55b-c75ae5df2c4e",
     "showTitle": false,
     "tableResultSettingsMap": {},
     "title": ""
    }
   },
   "outputs": [
    {
     "output_type": "display_data",
     "data": {
      "text/html": [
       "<style scoped>\n",
       "  .table-result-container {\n",
       "    max-height: 300px;\n",
       "    overflow: auto;\n",
       "  }\n",
       "  table, th, td {\n",
       "    border: 1px solid black;\n",
       "    border-collapse: collapse;\n",
       "  }\n",
       "  th, td {\n",
       "    padding: 5px;\n",
       "  }\n",
       "  th {\n",
       "    text-align: left;\n",
       "  }\n",
       "</style><div class='table-result-container'><table class='table-result'><thead style='background-color: white'><tr><th>ProductID</th><th>ProductName</th><th>ListPrice</th></tr></thead><tbody><tr><td>771</td><td>Mountain-100 Silver, 38</td><td>3399.99</td></tr><tr><td>772</td><td>Mountain-100 Silver, 42</td><td>3399.99</td></tr><tr><td>773</td><td>Mountain-100 Silver, 44</td><td>3399.99</td></tr><tr><td>774</td><td>Mountain-100 Silver, 48</td><td>3399.99</td></tr><tr><td>775</td><td>Mountain-100 Black, 38</td><td>3374.99</td></tr><tr><td>776</td><td>Mountain-100 Black, 42</td><td>3374.99</td></tr><tr><td>777</td><td>Mountain-100 Black, 44</td><td>3374.99</td></tr><tr><td>778</td><td>Mountain-100 Black, 48</td><td>3374.99</td></tr><tr><td>779</td><td>Mountain-200 Silver, 38</td><td>2319.99</td></tr><tr><td>780</td><td>Mountain-200 Silver, 42</td><td>2319.99</td></tr></tbody></table></div>"
      ]
     },
     "metadata": {
      "application/vnd.databricks.v1+output": {
       "addedWidgets": {},
       "aggData": [],
       "aggError": "",
       "aggOverflow": false,
       "aggSchema": [],
       "aggSeriesLimitReached": false,
       "aggType": "",
       "arguments": {},
       "columnCustomDisplayInfos": {},
       "data": [
        [
         771,
         "Mountain-100 Silver, 38",
         3399.99
        ],
        [
         772,
         "Mountain-100 Silver, 42",
         3399.99
        ],
        [
         773,
         "Mountain-100 Silver, 44",
         3399.99
        ],
        [
         774,
         "Mountain-100 Silver, 48",
         3399.99
        ],
        [
         775,
         "Mountain-100 Black, 38",
         3374.99
        ],
        [
         776,
         "Mountain-100 Black, 42",
         3374.99
        ],
        [
         777,
         "Mountain-100 Black, 44",
         3374.99
        ],
        [
         778,
         "Mountain-100 Black, 48",
         3374.99
        ],
        [
         779,
         "Mountain-200 Silver, 38",
         2319.99
        ],
        [
         780,
         "Mountain-200 Silver, 42",
         2319.99
        ]
       ],
       "datasetInfos": [],
       "dbfsResultPath": null,
       "isJsonSchema": true,
       "metadata": {},
       "overflow": false,
       "plotOptions": {
        "customPlotOptions": {},
        "displayType": "table",
        "pivotAggregation": null,
        "pivotColumns": null,
        "xColumns": null,
        "yColumns": null
       },
       "removedWidgets": [],
       "schema": [
        {
         "metadata": "{}",
         "name": "ProductID",
         "type": "\"integer\""
        },
        {
         "metadata": "{}",
         "name": "ProductName",
         "type": "\"string\""
        },
        {
         "metadata": "{}",
         "name": "ListPrice",
         "type": "\"double\""
        }
       ],
       "type": "table"
      }
     },
     "output_type": "display_data"
    }
   ],
   "source": [
    "#bikes_df = spark.sql(\"SELECT ProductID, ProductName, ListPrice \\\n",
    "#                      FROM  `/Volumes/databricksmaster_workspace/salesdb/volume_products/products.csv` \\\n",
    "#                      WHERE Category IN ('Mountain Bikes', 'Road Bikes')\")\n",
    "# You cannot use the FROM clause in Spark SQL to directly query a CSV file on a Unity Catalog volume as if it were a table. Instead, you should use the csv data source syntax in Spark SQL, or use PySpark DataFrame APIs to read the CSV file.\n",
    "\n",
    "\n",
    "\n",
    "#Here is the correct way to read the CSV file from a Unity Catalog volume using PySpark DataFrame API, and then filter and select the desired columns:\n",
    "\n",
    "bikes_df = (\n",
    "    spark.read.format(\"csv\")\n",
    "    .option(\"header\", \"true\")\n",
    "    .option(\"inferSchema\", \"true\")\n",
    "    .load(\"/Volumes/databricksmaster_workspace/salesdb/volume_products/products.csv\")\n",
    "    .filter(\"Category IN ('Mountain Bikes', 'Road Bikes') \")\n",
    "    .select(\"ProductID\", \"ProductName\", \"ListPrice\")\n",
    ")\n",
    "\n",
    "display(bikes_df.limit(10))"
   ]
  },
  {
   "cell_type": "code",
   "execution_count": 0,
   "metadata": {
    "application/vnd.databricks.v1+cell": {
     "cellMetadata": {
      "byteLimit": 2048000,
      "rowLimit": 10000
     },
     "inputWidgets": {},
     "nuid": "0a82dd76-9cf6-4abd-818b-51beeaceb524",
     "showTitle": false,
     "tableResultSettingsMap": {},
     "title": ""
    }
   },
   "outputs": [
    {
     "output_type": "display_data",
     "data": {
      "text/html": [
       "<style scoped>\n",
       "  .table-result-container {\n",
       "    max-height: 300px;\n",
       "    overflow: auto;\n",
       "  }\n",
       "  table, th, td {\n",
       "    border: 1px solid black;\n",
       "    border-collapse: collapse;\n",
       "  }\n",
       "  th, td {\n",
       "    padding: 5px;\n",
       "  }\n",
       "  th {\n",
       "    text-align: left;\n",
       "  }\n",
       "</style><div class='table-result-container'><table class='table-result'><thead style='background-color: white'><tr><th>id</th><th>name</th><th>marks</th></tr></thead><tbody><tr><td>1</td><td>aa</td><td>30</td></tr><tr><td>2</td><td>aa</td><td>33</td></tr><tr><td>3</td><td>aa</td><td>35</td></tr><tr><td>4</td><td>aa</td><td>40</td></tr><tr><td>5</td><td>aa</td><td>30</td></tr><tr><td>6</td><td>aa</td><td>33</td></tr><tr><td>7</td><td>aa</td><td>35</td></tr><tr><td>8</td><td>aa</td><td>40</td></tr></tbody></table></div>"
      ]
     },
     "metadata": {
      "application/vnd.databricks.v1+output": {
       "addedWidgets": {},
       "aggData": [],
       "aggError": "",
       "aggOverflow": false,
       "aggSchema": [],
       "aggSeriesLimitReached": false,
       "aggType": "",
       "arguments": {},
       "columnCustomDisplayInfos": {},
       "data": [
        [
         1,
         "aa",
         30
        ],
        [
         2,
         "aa",
         33
        ],
        [
         3,
         "aa",
         35
        ],
        [
         4,
         "aa",
         40
        ],
        [
         5,
         "aa",
         30
        ],
        [
         6,
         "aa",
         33
        ],
        [
         7,
         "aa",
         35
        ],
        [
         8,
         "aa",
         40
        ]
       ],
       "datasetInfos": [],
       "dbfsResultPath": null,
       "isJsonSchema": true,
       "metadata": {},
       "overflow": false,
       "plotOptions": {
        "customPlotOptions": {},
        "displayType": "table",
        "pivotAggregation": null,
        "pivotColumns": null,
        "xColumns": null,
        "yColumns": null
       },
       "removedWidgets": [],
       "schema": [
        {
         "metadata": "{}",
         "name": "id",
         "type": "\"integer\""
        },
        {
         "metadata": "{}",
         "name": "name",
         "type": "\"string\""
        },
        {
         "metadata": "{}",
         "name": "marks",
         "type": "\"integer\""
        }
       ],
       "type": "table"
      }
     },
     "output_type": "display_data"
    }
   ],
   "source": [
    "bikes_df = spark.sql(\n",
    "    \"\"\"\n",
    "    SELECT id, name, marks\n",
    "    FROM databricksmaster_workspace.salesdb.exttable\n",
    "    \"\"\"\n",
    ")\n",
    "display(bikes_df)"
   ]
  },
  {
   "cell_type": "code",
   "execution_count": 0,
   "metadata": {
    "application/vnd.databricks.v1+cell": {
     "cellMetadata": {
      "byteLimit": 2048000,
      "implicitDf": true,
      "rowLimit": 10000
     },
     "inputWidgets": {},
     "nuid": "4404ee87-df1b-4f1a-9366-8f8d2147f9ec",
     "showTitle": false,
     "tableResultSettingsMap": {},
     "title": ""
    }
   },
   "outputs": [
    {
     "output_type": "display_data",
     "data": {
      "text/html": [
       "<style scoped>\n",
       "  .table-result-container {\n",
       "    max-height: 300px;\n",
       "    overflow: auto;\n",
       "  }\n",
       "  table, th, td {\n",
       "    border: 1px solid black;\n",
       "    border-collapse: collapse;\n",
       "  }\n",
       "  th, td {\n",
       "    padding: 5px;\n",
       "  }\n",
       "  th {\n",
       "    text-align: left;\n",
       "  }\n",
       "</style><div class='table-result-container'><table class='table-result'><thead style='background-color: white'><tr><th>Category</th><th>ProductCount</th></tr></thead><tbody><tr><td>Bib-Shorts</td><td>3</td></tr><tr><td>Bike Racks</td><td>1</td></tr><tr><td>Bike Stands</td><td>1</td></tr><tr><td>Bottles and Cages</td><td>3</td></tr><tr><td>Bottom Brackets</td><td>3</td></tr><tr><td>Brakes</td><td>2</td></tr><tr><td>Caps</td><td>1</td></tr><tr><td>Chains</td><td>1</td></tr><tr><td>Cleaners</td><td>1</td></tr><tr><td>Cranksets</td><td>3</td></tr><tr><td>Derailleurs</td><td>2</td></tr><tr><td>Fenders</td><td>1</td></tr><tr><td>Forks</td><td>3</td></tr><tr><td>Gloves</td><td>6</td></tr><tr><td>Handlebars</td><td>8</td></tr><tr><td>Headsets</td><td>3</td></tr><tr><td>Helmets</td><td>3</td></tr><tr><td>Hydration Packs</td><td>1</td></tr><tr><td>Jerseys</td><td>8</td></tr><tr><td>Lights</td><td>3</td></tr><tr><td>Locks</td><td>1</td></tr><tr><td>Mountain Bikes</td><td>32</td></tr><tr><td>Mountain Frames</td><td>28</td></tr><tr><td>Panniers</td><td>1</td></tr><tr><td>Pedals</td><td>7</td></tr><tr><td>Pumps</td><td>2</td></tr><tr><td>Road Bikes</td><td>43</td></tr><tr><td>Road Frames</td><td>33</td></tr><tr><td>Saddles</td><td>9</td></tr><tr><td>Shorts</td><td>7</td></tr><tr><td>Socks</td><td>4</td></tr><tr><td>Tights</td><td>3</td></tr><tr><td>Tires and Tubes</td><td>11</td></tr><tr><td>Touring Bikes</td><td>22</td></tr><tr><td>Touring Frames</td><td>18</td></tr><tr><td>Vests</td><td>3</td></tr><tr><td>Wheels</td><td>14</td></tr></tbody></table></div>"
      ]
     },
     "metadata": {
      "application/vnd.databricks.v1+output": {
       "addedWidgets": {},
       "aggData": [],
       "aggError": "",
       "aggOverflow": false,
       "aggSchema": [],
       "aggSeriesLimitReached": false,
       "aggType": "",
       "arguments": {},
       "columnCustomDisplayInfos": {},
       "data": [
        [
         "Bib-Shorts",
         3
        ],
        [
         "Bike Racks",
         1
        ],
        [
         "Bike Stands",
         1
        ],
        [
         "Bottles and Cages",
         3
        ],
        [
         "Bottom Brackets",
         3
        ],
        [
         "Brakes",
         2
        ],
        [
         "Caps",
         1
        ],
        [
         "Chains",
         1
        ],
        [
         "Cleaners",
         1
        ],
        [
         "Cranksets",
         3
        ],
        [
         "Derailleurs",
         2
        ],
        [
         "Fenders",
         1
        ],
        [
         "Forks",
         3
        ],
        [
         "Gloves",
         6
        ],
        [
         "Handlebars",
         8
        ],
        [
         "Headsets",
         3
        ],
        [
         "Helmets",
         3
        ],
        [
         "Hydration Packs",
         1
        ],
        [
         "Jerseys",
         8
        ],
        [
         "Lights",
         3
        ],
        [
         "Locks",
         1
        ],
        [
         "Mountain Bikes",
         32
        ],
        [
         "Mountain Frames",
         28
        ],
        [
         "Panniers",
         1
        ],
        [
         "Pedals",
         7
        ],
        [
         "Pumps",
         2
        ],
        [
         "Road Bikes",
         43
        ],
        [
         "Road Frames",
         33
        ],
        [
         "Saddles",
         9
        ],
        [
         "Shorts",
         7
        ],
        [
         "Socks",
         4
        ],
        [
         "Tights",
         3
        ],
        [
         "Tires and Tubes",
         11
        ],
        [
         "Touring Bikes",
         22
        ],
        [
         "Touring Frames",
         18
        ],
        [
         "Vests",
         3
        ],
        [
         "Wheels",
         14
        ]
       ],
       "datasetInfos": [
        {
         "name": "_sqldf",
         "schema": {
          "fields": [
           {
            "metadata": {},
            "name": "Category",
            "nullable": true,
            "type": "string"
           },
           {
            "metadata": {},
            "name": "ProductCount",
            "nullable": false,
            "type": "long"
           }
          ],
          "type": "struct"
         },
         "tableIdentifier": null,
         "typeStr": "pyspark.sql.connect.dataframe.DataFrame"
        }
       ],
       "dbfsResultPath": null,
       "isJsonSchema": true,
       "metadata": {
        "createTempViewForImplicitDf": true,
        "dataframeName": "_sqldf",
        "executionCount": 67
       },
       "overflow": false,
       "plotOptions": {
        "customPlotOptions": {},
        "displayType": "table",
        "pivotAggregation": null,
        "pivotColumns": null,
        "xColumns": null,
        "yColumns": null
       },
       "removedWidgets": [],
       "schema": [
        {
         "metadata": "{}",
         "name": "Category",
         "type": "\"string\""
        },
        {
         "metadata": "{}",
         "name": "ProductCount",
         "type": "\"long\""
        }
       ],
       "type": "table"
      }
     },
     "output_type": "display_data"
    }
   ],
   "source": [
    "%sql\n",
    "SELECT Category, COUNT(ProductID) AS ProductCount\n",
    "FROM csv.`/Volumes/databricksmaster_workspace/salesdb/volume_products/products.csv`\n",
    "--OPTIONS (header=\"true\")\n",
    "WITH (  header = \"true\")\n",
    "GROUP BY Category\n",
    "ORDER BY Category"
   ]
  },
  {
   "cell_type": "markdown",
   "metadata": {
    "application/vnd.databricks.v1+cell": {
     "cellMetadata": {},
     "inputWidgets": {},
     "nuid": "db003e87-5890-4bc2-ae91-ed0de359a876",
     "showTitle": false,
     "tableResultSettingsMap": {},
     "title": ""
    }
   },
   "source": [
    "# Using graphics packages in code"
   ]
  },
  {
   "cell_type": "code",
   "execution_count": 0,
   "metadata": {
    "application/vnd.databricks.v1+cell": {
     "cellMetadata": {
      "byteLimit": 2048000,
      "rowLimit": 10000
     },
     "inputWidgets": {},
     "nuid": "3fe4ff0c-e6c3-445d-8500-ac1b927a110a",
     "showTitle": false,
     "tableResultSettingsMap": {},
     "title": ""
    }
   },
   "outputs": [
    {
     "output_type": "display_data",
     "data": {
      "text/html": [
       "<style scoped>\n",
       "  .table-result-container {\n",
       "    max-height: 300px;\n",
       "    overflow: auto;\n",
       "  }\n",
       "  table, th, td {\n",
       "    border: 1px solid black;\n",
       "    border-collapse: collapse;\n",
       "  }\n",
       "  th, td {\n",
       "    padding: 5px;\n",
       "  }\n",
       "  th {\n",
       "    text-align: left;\n",
       "  }\n",
       "</style><div class='table-result-container'><table class='table-result'><thead style='background-color: white'><tr><th>ProductID</th><th>ProductName</th><th>ListPrice</th></tr></thead><tbody><tr><td>771</td><td>Mountain-100 Silver, 38</td><td>3399.99</td></tr><tr><td>772</td><td>Mountain-100 Silver, 42</td><td>3399.99</td></tr><tr><td>773</td><td>Mountain-100 Silver, 44</td><td>3399.99</td></tr><tr><td>774</td><td>Mountain-100 Silver, 48</td><td>3399.99</td></tr><tr><td>775</td><td>Mountain-100 Black, 38</td><td>3374.99</td></tr><tr><td>776</td><td>Mountain-100 Black, 42</td><td>3374.99</td></tr><tr><td>777</td><td>Mountain-100 Black, 44</td><td>3374.99</td></tr><tr><td>778</td><td>Mountain-100 Black, 48</td><td>3374.99</td></tr><tr><td>779</td><td>Mountain-200 Silver, 38</td><td>2319.99</td></tr><tr><td>780</td><td>Mountain-200 Silver, 42</td><td>2319.99</td></tr></tbody></table></div>"
      ]
     },
     "metadata": {
      "application/vnd.databricks.v1+output": {
       "addedWidgets": {},
       "aggData": [],
       "aggError": "",
       "aggOverflow": false,
       "aggSchema": [],
       "aggSeriesLimitReached": false,
       "aggType": "",
       "arguments": {},
       "columnCustomDisplayInfos": {},
       "data": [
        [
         771,
         "Mountain-100 Silver, 38",
         3399.99
        ],
        [
         772,
         "Mountain-100 Silver, 42",
         3399.99
        ],
        [
         773,
         "Mountain-100 Silver, 44",
         3399.99
        ],
        [
         774,
         "Mountain-100 Silver, 48",
         3399.99
        ],
        [
         775,
         "Mountain-100 Black, 38",
         3374.99
        ],
        [
         776,
         "Mountain-100 Black, 42",
         3374.99
        ],
        [
         777,
         "Mountain-100 Black, 44",
         3374.99
        ],
        [
         778,
         "Mountain-100 Black, 48",
         3374.99
        ],
        [
         779,
         "Mountain-200 Silver, 38",
         2319.99
        ],
        [
         780,
         "Mountain-200 Silver, 42",
         2319.99
        ]
       ],
       "datasetInfos": [],
       "dbfsResultPath": null,
       "isJsonSchema": true,
       "metadata": {},
       "overflow": false,
       "plotOptions": {
        "customPlotOptions": {},
        "displayType": "table",
        "pivotAggregation": null,
        "pivotColumns": null,
        "xColumns": null,
        "yColumns": null
       },
       "removedWidgets": [],
       "schema": [
        {
         "metadata": "{}",
         "name": "ProductID",
         "type": "\"long\""
        },
        {
         "metadata": "{}",
         "name": "ProductName",
         "type": "\"string\""
        },
        {
         "metadata": "{}",
         "name": "ListPrice",
         "type": "\"double\""
        }
       ],
       "type": "table"
      }
     },
     "output_type": "display_data"
    }
   ],
   "source": [
    "bikes_df = spark.sql(\"SELECT ProductID, ProductName, ListPrice \\\n",
    "                      FROM  databricksmaster_workspace.salesdb.products \\\n",
    "                      WHERE Category IN ('Mountain Bikes', 'Road Bikes')\")\n",
    "\n",
    "display(bikes_df.limit(10))"
   ]
  },
  {
   "cell_type": "code",
   "execution_count": 0,
   "metadata": {
    "application/vnd.databricks.v1+cell": {
     "cellMetadata": {
      "byteLimit": 2048000,
      "rowLimit": 10000
     },
     "inputWidgets": {},
     "nuid": "ee3d2d53-4eeb-435d-a454-24c544983867",
     "showTitle": false,
     "tableResultSettingsMap": {},
     "title": ""
    }
   },
   "outputs": [
    {
     "output_type": "display_data",
     "data": {
      "text/plain": [
       "<Figure size 640x480 with 0 Axes>"
      ]
     },
     "metadata": {},
     "output_type": "display_data"
    },
    {
     "output_type": "display_data",
     "data": {
      "image/png": "[encoded data removed]",
      "text/plain": [
       "<Figure size 1200x800 with 1 Axes>"
      ]
     },
     "metadata": {},
     "output_type": "display_data"
    }
   ],
   "source": [
    "from matplotlib import pyplot as plt\n",
    "\n",
    "# Get the data as a Pandas dataframe\n",
    "data = spark.sql(\"SELECT Category, COUNT(ProductID) AS ProductCount \\\n",
    "                  FROM databricksmaster_workspace.salesdb.products \\\n",
    "                  GROUP BY Category \\\n",
    "                  ORDER BY Category\").toPandas()\n",
    "\n",
    "# Clear the plot area\n",
    "plt.clf()\n",
    "\n",
    "# Create a Figure\n",
    "fig = plt.figure(figsize=(12,8))\n",
    "\n",
    "# Create a bar plot of product counts by category\n",
    "plt.bar(x=data['Category'], height=data['ProductCount'], color='orange')\n",
    "\n",
    "# Customize the chart\n",
    "plt.title('Product Counts by Category')\n",
    "plt.xlabel('Category')\n",
    "plt.ylabel('Products')\n",
    "plt.grid(color='#95a5a6', linestyle='--', linewidth=2, axis='y', alpha=0.7)\n",
    "plt.xticks(rotation=70)\n",
    "\n",
    "# Show the plot area\n",
    "plt.show()"
   ]
  },
  {
   "cell_type": "markdown",
   "metadata": {
    "application/vnd.databricks.v1+cell": {
     "cellMetadata": {},
     "inputWidgets": {},
     "nuid": "82fd264d-5f34-47de-b429-bcc26baa51ec",
     "showTitle": false,
     "tableResultSettingsMap": {},
     "title": ""
    }
   },
   "source": [
    "# Exercise"
   ]
  },
  {
   "cell_type": "code",
   "execution_count": 0,
   "metadata": {
    "application/vnd.databricks.v1+cell": {
     "cellMetadata": {
      "byteLimit": 2048000,
      "rowLimit": 10000
     },
     "inputWidgets": {},
     "nuid": "d2550704-ab9b-4bc2-93c4-f71213ac94a3",
     "showTitle": false,
     "tableResultSettingsMap": {},
     "title": ""
    }
   },
   "outputs": [
    {
     "output_type": "stream",
     "name": "stdout",
     "output_type": "stream",
     "text": [
      "/Workspace/MicrosoftLearnings\n/Workspace/MicrosoftLearnings/dbfs/spark_lab\n"
     ]
    }
   ],
   "source": [
    "%sh\n",
    "\n",
    "pwd\n",
    "rm -r dbfs/spark_lab\n",
    "mkdir dbfs/spark_lab\n",
    "cd dbfs/spark_lab\n",
    "pwd"
   ]
  },
  {
   "cell_type": "code",
   "execution_count": 0,
   "metadata": {
    "application/vnd.databricks.v1+cell": {
     "cellMetadata": {
      "byteLimit": 2048000,
      "rowLimit": 10000
     },
     "inputWidgets": {},
     "nuid": "5fdf3bd1-cddf-497f-8459-202eb72bbfe2",
     "showTitle": false,
     "tableResultSettingsMap": {},
     "title": ""
    }
   },
   "outputs": [
    {
     "output_type": "stream",
     "name": "stdout",
     "output_type": "stream",
     "text": [
      "/Workspace/MicrosoftLearnings\n"
     ]
    },
    {
     "output_type": "stream",
     "name": "stderr",
     "output_type": "stream",
     "text": [
      "--2025-09-19 06:27:26--  https://raw.githubusercontent.com/MicrosoftLearning/mslearn-databricks/main/data/2019_edited.csv\nResolving raw.githubusercontent.com (raw.githubusercontent.com)... 185.199.110.133, 185.199.111.133, 185.199.108.133, ...\nConnecting to raw.githubusercontent.com (raw.githubusercontent.com)|185.199.110.133|:443... connected.\nHTTP request sent, awaiting response... 200 OK\nLength: 123385 (120K) [text/plain]\nSaving to: ‘dbfs/spark_lab/2019.csv’\n\n     0K .......... .......... .......... .......... .......... 41% 2.73M 0s\n    50K .......... .......... .......... .......... .......... 82% 29.5M 0s\n   100K .......... ..........                                 100% 38.6M=0.02s\n\n2025-09-19 06:27:26 (5.87 MB/s) - ‘dbfs/spark_lab/2019.csv’ saved [123385/123385]\n\n--2025-09-19 06:27:26--  https://raw.githubusercontent.com/MicrosoftLearning/mslearn-databricks/main/data/2020_edited.csv\nResolving raw.githubusercontent.com (raw.githubusercontent.com)... 185.199.111.133, 185.199.108.133, 185.199.109.133, ...\nConnecting to raw.githubusercontent.com (raw.githubusercontent.com)|185.199.111.133|:443... connected.\nHTTP request sent, awaiting response... 200 OK\nLength: 283872 (277K) [text/plain]\nSaving to: ‘dbfs/spark_lab/2020.csv’\n\n     0K .......... .......... .......... .......... .......... 18% 3.95M 0s\n    50K .......... .......... .......... .......... .......... 36% 7.27M 0s\n   100K .......... .......... .......... .......... .......... 54% 14.3M 0s\n   150K .......... .......... .......... .......... .......... 72% 19.5M 0s\n   200K .......... .......... .......... .......... .......... 90% 18.3M 0s\n   250K .......... .......... .......                         100% 16.7M=0.03s\n\n2025-09-19 06:27:26 (9.25 MB/s) - ‘dbfs/spark_lab/2020.csv’ saved [283872/283872]\n\n--2025-09-19 06:27:27--  https://raw.githubusercontent.com/MicrosoftLearning/mslearn-databricks/main/data/2021_edited.csv\nResolving raw.githubusercontent.com (raw.githubusercontent.com)... 185.199.111.133, 185.199.108.133, 185.199.109.133, ...\nConnecting to raw.githubusercontent.com (raw.githubusercontent.com)|185.199.111.133|:443... connected.\nHTTP request sent, awaiting response... 200 OK\nLength: 2869263 (2.7M) [text/plain]\nSaving to: ‘dbfs/spark_lab/2021.csv’\n\n     0K .......... .......... .......... .......... ..........  1% 7.46M 0s\n    50K .......... .......... .......... .......... ..........  3% 14.6M 0s\n   100K .......... .......... .......... .......... ..........  5% 14.7M 0s\n   150K .......... .......... .......... .......... ..........  7% 17.3M 0s\n   200K .......... .......... .......... .......... ..........  8% 19.6M 0s\n   250K .......... .......... .......... .......... .......... 10% 21.6M 0s\n   300K .......... .......... .......... .......... .......... 12% 27.2M 0s\n   350K .......... .......... .......... .......... .......... 14% 24.3M 0s\n   400K .......... .......... .......... .......... .......... 16% 17.1M 0s\n   450K .......... .......... .......... .......... .......... 17% 21.8M 0s\n   500K .......... .......... .......... .......... .......... 19% 22.7M 0s\n   550K .......... .......... .......... .......... .......... 21% 24.6M 0s\n   600K .......... .......... .......... .......... .......... 23% 29.6M 0s\n   650K .......... .......... .......... .......... .......... 24% 24.1M 0s\n   700K .......... .......... .......... .......... .......... 26% 21.8M 0s\n   750K .......... .......... .......... .......... .......... 28% 23.5M 0s\n   800K .......... .......... .......... .......... .......... 30% 14.3M 0s\n   850K .......... .......... .......... .......... .......... 32% 24.0M 0s\n   900K .......... .......... .......... .......... .......... 33% 24.2M 0s\n   950K .......... .......... .......... .......... .......... 35% 24.4M 0s\n  1000K .......... .......... .......... .......... .......... 37% 22.5M 0s\n  1050K .......... .......... .......... .......... .......... 39% 21.7M 0s\n  1100K .......... .......... .......... .......... .......... 41% 10.8M 0s\n  1150K .......... .......... .......... .......... .......... 42% 11.8M 0s\n  1200K .......... .......... .......... .......... .......... 44% 17.9M 0s\n  1250K .......... .......... .......... .......... .......... 46% 20.0M 0s\n  1300K .......... .......... .......... .......... .......... 48% 20.1M 0s\n  1350K .......... .......... .......... .......... .......... 49% 21.9M 0s\n  1400K .......... .......... .......... .......... .......... 51% 15.6M 0s\n  1450K .......... .......... .......... .......... .......... 53% 18.7M 0s\n  1500K .......... .......... .......... .......... .......... 55% 19.2M 0s\n  1550K .......... .......... .......... .......... .......... 57% 14.5M 0s\n  1600K .......... .......... .......... .......... .......... 58% 19.1M 0s\n  1650K .......... .......... .......... .......... .......... 60% 18.0M 0s\n  1700K .......... .......... .......... .......... .......... 62% 15.0M 0s\n  1750K .......... .......... .......... .......... .......... 64% 19.8M 0s\n  1800K .......... .......... .......... .......... .......... 66% 15.5M 0s\n  1850K .......... .......... .......... .......... .......... 67% 19.0M 0s\n  1900K .......... .......... .......... .......... .......... 69% 16.4M 0s\n  1950K .......... .......... .......... .......... .......... 71% 12.9M 0s\n  2000K .......... .......... .......... .......... .......... 73% 17.7M 0s\n  2050K .......... .......... .......... .......... .......... 74% 19.5M 0s\n  2100K .......... .......... .......... .......... .......... 76% 19.0M 0s\n  2150K .......... .......... .......... .......... .......... 78% 18.8M 0s\n  2200K .......... .......... .......... .......... .......... 80% 17.6M 0s\n  2250K .......... .......... .......... .......... .......... 82% 15.7M 0s\n  2300K .......... .......... .......... .......... .......... 83% 18.3M 0s\n  2350K .......... .......... .......... .......... .......... 85% 13.5M 0s\n  2400K .......... .......... .......... .......... .......... 87% 19.9M 0s\n  2450K .......... .......... .......... .......... .......... 89% 21.1M 0s\n  2500K .......... .......... .......... .......... .......... 91% 15.3M 0s\n  2550K .......... .......... .......... .......... .......... 92% 15.1M 0s\n  2600K .......... .......... .......... .......... .......... 94% 19.5M 0s\n  2650K .......... .......... .......... .......... .......... 96% 22.1M 0s\n  2700K .......... .......... .......... .......... .......... 98% 20.1M 0s\n  2750K .......... .......... .......... .......... .......... 99% 16.7M 0s\n  2800K ..                                                    100% 3.75T=0.2s\n\n2025-09-19 06:27:27 (17.9 MB/s) - ‘dbfs/spark_lab/2021.csv’ saved [2869263/2869263]\n\n"
     ]
    }
   ],
   "source": [
    "%sh\n",
    "\n",
    "pwd\n",
    "\n",
    "wget -O dbfs/spark_lab/2019.csv https://raw.githubusercontent.com/MicrosoftLearning/mslearn-databricks/main/data/2019_edited.csv\n",
    "wget -O dbfs/spark_lab/2020.csv https://raw.githubusercontent.com/MicrosoftLearning/mslearn-databricks/main/data/2020_edited.csv\n",
    "wget -O dbfs/spark_lab/2021.csv https://raw.githubusercontent.com/MicrosoftLearning/mslearn-databricks/main/data/2021_edited.csv"
   ]
  },
  {
   "cell_type": "code",
   "execution_count": 0,
   "metadata": {
    "application/vnd.databricks.v1+cell": {
     "cellMetadata": {
      "byteLimit": 2048000,
      "rowLimit": 10000
     },
     "inputWidgets": {},
     "nuid": "bb23d181-e4ca-49f3-bdf2-ef267facc477",
     "showTitle": false,
     "tableResultSettingsMap": {},
     "title": ""
    }
   },
   "outputs": [
    {
     "output_type": "display_data",
     "data": {
      "text/html": [
       "<style scoped>\n",
       "  .table-result-container {\n",
       "    max-height: 300px;\n",
       "    overflow: auto;\n",
       "  }\n",
       "  table, th, td {\n",
       "    border: 1px solid black;\n",
       "    border-collapse: collapse;\n",
       "  }\n",
       "  th, td {\n",
       "    padding: 5px;\n",
       "  }\n",
       "  th {\n",
       "    text-align: left;\n",
       "  }\n",
       "</style><div class='table-result-container'><table class='table-result'><thead style='background-color: white'><tr><th>SalesOrderNumber</th><th>SalesOrderLineNumber</th><th>OrderDate</th><th>CustomerName</th><th>Email</th><th>Item</th><th>Quantity</th><th>UnitPrice</th><th>Tax</th></tr></thead><tbody><tr><td>SO49171</td><td>1</td><td>2021-01-01</td><td>Mariah Foster</td><td>mariah21@adventure-works.com</td><td>Road-250 Black, 48</td><td>1</td><td>2181.5625</td><td>174.525</td></tr><tr><td>SO49172</td><td>1</td><td>2021-01-01</td><td>Brian Howard</td><td>brian23@adventure-works.com</td><td>Road-250 Red, 44</td><td>1</td><td>2443.35</td><td>195.468</td></tr><tr><td>SO49173</td><td>1</td><td>2021-01-01</td><td>Linda Alvarez</td><td>linda19@adventure-works.com</td><td>Mountain-200 Silver, 38</td><td>1</td><td>2071.4197</td><td>165.7136</td></tr><tr><td>SO49174</td><td>1</td><td>2021-01-01</td><td>Gina Hernandez</td><td>gina4@adventure-works.com</td><td>Mountain-200 Silver, 42</td><td>1</td><td>2071.4197</td><td>165.7136</td></tr><tr><td>SO49178</td><td>1</td><td>2021-01-01</td><td>Beth Ruiz</td><td>beth4@adventure-works.com</td><td>Road-550-W Yellow, 44</td><td>1</td><td>1000.4375</td><td>80.035</td></tr><tr><td>SO49179</td><td>1</td><td>2021-01-01</td><td>Evan Ward</td><td>evan13@adventure-works.com</td><td>Road-550-W Yellow, 38</td><td>1</td><td>1000.4375</td><td>80.035</td></tr><tr><td>SO49175</td><td>1</td><td>2021-01-01</td><td>Margaret Guo</td><td>margaret24@adventure-works.com</td><td>Road-250 Red, 52</td><td>1</td><td>2443.35</td><td>195.468</td></tr><tr><td>SO49180</td><td>1</td><td>2021-01-01</td><td>Mitchell Yuan</td><td>mitchell6@adventure-works.com</td><td>Road-650 Black, 58</td><td>1</td><td>782.99</td><td>62.6392</td></tr><tr><td>SO49176</td><td>1</td><td>2021-01-01</td><td>Shawn Sharma</td><td>shawn11@adventure-works.com</td><td>Mountain-200 Silver, 46</td><td>1</td><td>2071.4197</td><td>165.7136</td></tr><tr><td>SO49177</td><td>1</td><td>2021-01-01</td><td>Barbara Chande</td><td>barbara44@adventure-works.com</td><td>Mountain-200 Silver, 42</td><td>1</td><td>2071.4197</td><td>165.7136</td></tr></tbody></table></div>"
      ]
     },
     "metadata": {
      "application/vnd.databricks.v1+output": {
       "addedWidgets": {},
       "aggData": [],
       "aggError": "",
       "aggOverflow": false,
       "aggSchema": [],
       "aggSeriesLimitReached": false,
       "aggType": "",
       "arguments": {},
       "columnCustomDisplayInfos": {},
       "data": [
        [
         "SO49171",
         1,
         "2021-01-01",
         "Mariah Foster",
         "mariah21@adventure-works.com",
         "Road-250 Black, 48",
         1,
         2181.5625,
         174.525
        ],
        [
         "SO49172",
         1,
         "2021-01-01",
         "Brian Howard",
         "brian23@adventure-works.com",
         "Road-250 Red, 44",
         1,
         2443.35,
         195.468
        ],
        [
         "SO49173",
         1,
         "2021-01-01",
         "Linda Alvarez",
         "linda19@adventure-works.com",
         "Mountain-200 Silver, 38",
         1,
         2071.4197,
         165.7136
        ],
        [
         "SO49174",
         1,
         "2021-01-01",
         "Gina Hernandez",
         "gina4@adventure-works.com",
         "Mountain-200 Silver, 42",
         1,
         2071.4197,
         165.7136
        ],
        [
         "SO49178",
         1,
         "2021-01-01",
         "Beth Ruiz",
         "beth4@adventure-works.com",
         "Road-550-W Yellow, 44",
         1,
         1000.4375,
         80.035
        ],
        [
         "SO49179",
         1,
         "2021-01-01",
         "Evan Ward",
         "evan13@adventure-works.com",
         "Road-550-W Yellow, 38",
         1,
         1000.4375,
         80.035
        ],
        [
         "SO49175",
         1,
         "2021-01-01",
         "Margaret Guo",
         "margaret24@adventure-works.com",
         "Road-250 Red, 52",
         1,
         2443.35,
         195.468
        ],
        [
         "SO49180",
         1,
         "2021-01-01",
         "Mitchell Yuan",
         "mitchell6@adventure-works.com",
         "Road-650 Black, 58",
         1,
         782.99,
         62.6392
        ],
        [
         "SO49176",
         1,
         "2021-01-01",
         "Shawn Sharma",
         "shawn11@adventure-works.com",
         "Mountain-200 Silver, 46",
         1,
         2071.4197,
         165.7136
        ],
        [
         "SO49177",
         1,
         "2021-01-01",
         "Barbara Chande",
         "barbara44@adventure-works.com",
         "Mountain-200 Silver, 42",
         1,
         2071.4197,
         165.7136
        ]
       ],
       "datasetInfos": [],
       "dbfsResultPath": null,
       "isJsonSchema": true,
       "metadata": {},
       "overflow": false,
       "plotOptions": {
        "customPlotOptions": {},
        "displayType": "table",
        "pivotAggregation": null,
        "pivotColumns": null,
        "xColumns": null,
        "yColumns": null
       },
       "removedWidgets": [],
       "schema": [
        {
         "metadata": "{}",
         "name": "SalesOrderNumber",
         "type": "\"string\""
        },
        {
         "metadata": "{}",
         "name": "SalesOrderLineNumber",
         "type": "\"integer\""
        },
        {
         "metadata": "{}",
         "name": "OrderDate",
         "type": "\"date\""
        },
        {
         "metadata": "{}",
         "name": "CustomerName",
         "type": "\"string\""
        },
        {
         "metadata": "{}",
         "name": "Email",
         "type": "\"string\""
        },
        {
         "metadata": "{}",
         "name": "Item",
         "type": "\"string\""
        },
        {
         "metadata": "{}",
         "name": "Quantity",
         "type": "\"integer\""
        },
        {
         "metadata": "{}",
         "name": "UnitPrice",
         "type": "\"float\""
        },
        {
         "metadata": "{}",
         "name": "Tax",
         "type": "\"float\""
        }
       ],
       "type": "table"
      }
     },
     "output_type": "display_data"
    }
   ],
   "source": [
    "from pyspark.sql.types import *\n",
    "from pyspark.sql.functions import *\n",
    "\n",
    "orderSchema = StructType([\n",
    "     StructField(\"SalesOrderNumber\", StringType()),\n",
    "     StructField(\"SalesOrderLineNumber\", IntegerType()),\n",
    "     StructField(\"OrderDate\", DateType()),\n",
    "     StructField(\"CustomerName\", StringType()),\n",
    "     StructField(\"Email\", StringType()),\n",
    "     StructField(\"Item\", StringType()),\n",
    "     StructField(\"Quantity\", IntegerType()),\n",
    "     StructField(\"UnitPrice\", FloatType()),\n",
    "     StructField(\"Tax\", FloatType())\n",
    "])\n",
    "\n",
    "# The path is corrected to use the Workspace path, as inferred from your original code.\n",
    "# The 'dbfs:/' prefix is only used for files in the Databricks File System (DBFS) root.\n",
    "#df = spark.read.format(\"csv\")\\\n",
    "#    .option(\"header\", \"true\")\\\n",
    "#    .schema(orderSchema)\\\n",
    "#    .load(\"file:/Workspace/MicrosoftLearnings/dbfs/spark_lab/*.csv\")\n",
    "\n",
    "df = spark.read.load('file:/Workspace/MicrosoftLearnings/dbfs/spark_lab/*.csv', format='csv', schema=orderSchema)\n",
    "\n",
    "display(df.limit(10))\n"
   ]
  },
  {
   "cell_type": "markdown",
   "metadata": {
    "application/vnd.databricks.v1+cell": {
     "cellMetadata": {},
     "inputWidgets": {},
     "nuid": "ddc47a5b-4533-4c79-afd1-6638238c8f28",
     "showTitle": false,
     "tableResultSettingsMap": {},
     "title": ""
    }
   },
   "source": [
    "**Clean the data**\n"
   ]
  },
  {
   "cell_type": "code",
   "execution_count": 0,
   "metadata": {
    "application/vnd.databricks.v1+cell": {
     "cellMetadata": {
      "byteLimit": 2048000,
      "rowLimit": 10000
     },
     "inputWidgets": {},
     "nuid": "26ef5354-dac5-456e-af92-f07687a1e5d1",
     "showTitle": false,
     "tableResultSettingsMap": {},
     "title": ""
    }
   },
   "outputs": [
    {
     "output_type": "display_data",
     "data": {
      "text/html": [
       "<style scoped>\n",
       "  .table-result-container {\n",
       "    max-height: 300px;\n",
       "    overflow: auto;\n",
       "  }\n",
       "  table, th, td {\n",
       "    border: 1px solid black;\n",
       "    border-collapse: collapse;\n",
       "  }\n",
       "  th, td {\n",
       "    padding: 5px;\n",
       "  }\n",
       "  th {\n",
       "    text-align: left;\n",
       "  }\n",
       "</style><div class='table-result-container'><table class='table-result'><thead style='background-color: white'><tr><th>SalesOrderNumber</th><th>SalesOrderLineNumber</th><th>OrderDate</th><th>CustomerName</th><th>Email</th><th>Item</th><th>Quantity</th><th>UnitPrice</th><th>Tax</th></tr></thead><tbody><tr><td>SO49650</td><td>1</td><td>2021-02-09</td><td>Leonard Nath</td><td>leonard20@adventure-works.com</td><td>Mountain-200 Black, 42</td><td>1</td><td>2049.0981</td><td>163.92786</td></tr><tr><td>SO49728</td><td>1</td><td>2021-02-17</td><td>Terry Deng</td><td>terry4@adventure-works.com</td><td>Road-250 Red, 44</td><td>1</td><td>2443.35</td><td>195.468</td></tr><tr><td>SO49788</td><td>1</td><td>2021-02-25</td><td>Bonnie Chande</td><td>bonnie21@adventure-works.com</td><td>Road-250 Red, 44</td><td>1</td><td>2443.35</td><td>195.468</td></tr><tr><td>SO50351</td><td>1</td><td>2021-04-02</td><td>Garrett Sanchez</td><td>garrett22@adventure-works.com</td><td>Road-650 Black, 62</td><td>1</td><td>782.99</td><td>62.6392</td></tr><tr><td>SO50359</td><td>1</td><td>2021-04-02</td><td>Shaun Shan</td><td>shaun11@adventure-works.com</td><td>Road-250 Red, 52</td><td>1</td><td>2443.35</td><td>195.468</td></tr><tr><td>SO50507</td><td>1</td><td>2021-04-16</td><td>Bob Alan</td><td>bob6@adventure-works.com</td><td>Road-650 Black, 58</td><td>1</td><td>782.99</td><td>62.6392</td></tr><tr><td>SO50532</td><td>1</td><td>2021-04-20</td><td>Allison King</td><td>allison42@adventure-works.com</td><td>Road-250 Red, 58</td><td>1</td><td>2181.5625</td><td>174.525</td></tr><tr><td>SO50804</td><td>1</td><td>2021-05-04</td><td>Alexa Travers</td><td>alexa11@adventure-works.com</td><td>Road-250 Black, 58</td><td>1</td><td>2181.5625</td><td>174.525</td></tr><tr><td>SO50824</td><td>1</td><td>2021-05-06</td><td>Barbara Kumar</td><td>barbara39@adventure-works.com</td><td>Road-650 Black, 48</td><td>1</td><td>782.99</td><td>62.6392</td></tr><tr><td>SO51230</td><td>2</td><td>2021-06-03</td><td>Seth Phillips</td><td>seth42@adventure-works.com</td><td>Fender Set - Mountain</td><td>1</td><td>21.98</td><td>1.7584</td></tr></tbody></table></div>"
      ]
     },
     "metadata": {
      "application/vnd.databricks.v1+output": {
       "addedWidgets": {},
       "aggData": [],
       "aggError": "",
       "aggOverflow": false,
       "aggSchema": [],
       "aggSeriesLimitReached": false,
       "aggType": "",
       "arguments": {},
       "columnCustomDisplayInfos": {},
       "data": [
        [
         "SO49650",
         1,
         "2021-02-09",
         "Leonard Nath",
         "leonard20@adventure-works.com",
         "Mountain-200 Black, 42",
         1,
         2049.0981,
         163.92786
        ],
        [
         "SO49728",
         1,
         "2021-02-17",
         "Terry Deng",
         "terry4@adventure-works.com",
         "Road-250 Red, 44",
         1,
         2443.35,
         195.468
        ],
        [
         "SO49788",
         1,
         "2021-02-25",
         "Bonnie Chande",
         "bonnie21@adventure-works.com",
         "Road-250 Red, 44",
         1,
         2443.35,
         195.468
        ],
        [
         "SO50351",
         1,
         "2021-04-02",
         "Garrett Sanchez",
         "garrett22@adventure-works.com",
         "Road-650 Black, 62",
         1,
         782.99,
         62.6392
        ],
        [
         "SO50359",
         1,
         "2021-04-02",
         "Shaun Shan",
         "shaun11@adventure-works.com",
         "Road-250 Red, 52",
         1,
         2443.35,
         195.468
        ],
        [
         "SO50507",
         1,
         "2021-04-16",
         "Bob Alan",
         "bob6@adventure-works.com",
         "Road-650 Black, 58",
         1,
         782.99,
         62.6392
        ],
        [
         "SO50532",
         1,
         "2021-04-20",
         "Allison King",
         "allison42@adventure-works.com",
         "Road-250 Red, 58",
         1,
         2181.5625,
         174.525
        ],
        [
         "SO50804",
         1,
         "2021-05-04",
         "Alexa Travers",
         "alexa11@adventure-works.com",
         "Road-250 Black, 58",
         1,
         2181.5625,
         174.525
        ],
        [
         "SO50824",
         1,
         "2021-05-06",
         "Barbara Kumar",
         "barbara39@adventure-works.com",
         "Road-650 Black, 48",
         1,
         782.99,
         62.6392
        ],
        [
         "SO51230",
         2,
         "2021-06-03",
         "Seth Phillips",
         "seth42@adventure-works.com",
         "Fender Set - Mountain",
         1,
         21.98,
         1.7584
        ]
       ],
       "datasetInfos": [],
       "dbfsResultPath": null,
       "isJsonSchema": true,
       "metadata": {},
       "overflow": false,
       "plotOptions": {
        "customPlotOptions": {},
        "displayType": "table",
        "pivotAggregation": null,
        "pivotColumns": null,
        "xColumns": null,
        "yColumns": null
       },
       "removedWidgets": [],
       "schema": [
        {
         "metadata": "{}",
         "name": "SalesOrderNumber",
         "type": "\"string\""
        },
        {
         "metadata": "{}",
         "name": "SalesOrderLineNumber",
         "type": "\"integer\""
        },
        {
         "metadata": "{}",
         "name": "OrderDate",
         "type": "\"date\""
        },
        {
         "metadata": "{}",
         "name": "CustomerName",
         "type": "\"string\""
        },
        {
         "metadata": "{}",
         "name": "Email",
         "type": "\"string\""
        },
        {
         "metadata": "{}",
         "name": "Item",
         "type": "\"string\""
        },
        {
         "metadata": "{}",
         "name": "Quantity",
         "type": "\"integer\""
        },
        {
         "metadata": "{}",
         "name": "UnitPrice",
         "type": "\"float\""
        },
        {
         "metadata": "{}",
         "name": "Tax",
         "type": "\"float\""
        }
       ],
       "type": "table"
      }
     },
     "output_type": "display_data"
    }
   ],
   "source": [
    "# Following code to remove duplicate rows from the table and to replace the null entries with the correct values:\n",
    "\n",
    "from pyspark.sql.functions import col\n",
    "df = df.dropDuplicates()\n",
    "df = df.withColumn('Tax', col('UnitPrice') * 0.08)\n",
    "df = df.withColumn('Tax', col('Tax').cast(\"float\"))\n",
    "display(df.limit(10))\n",
    "\n",
    "# After updating the values in the Tax column, its data type is set to float again. This is due to its data type changing to double after the calculation is performed. Since double has a higher memory usage than float, it is better for performance to type cast the column back to float."
   ]
  },
  {
   "cell_type": "markdown",
   "metadata": {
    "application/vnd.databricks.v1+cell": {
     "cellMetadata": {},
     "inputWidgets": {},
     "nuid": "8a8559df-b42a-47be-bc2c-7dbade0d9c3f",
     "showTitle": false,
     "tableResultSettingsMap": {},
     "title": ""
    }
   },
   "source": [
    "**Filter a dataframe**"
   ]
  },
  {
   "cell_type": "markdown",
   "metadata": {
    "application/vnd.databricks.v1+cell": {
     "cellMetadata": {},
     "inputWidgets": {},
     "nuid": "9191b159-d3d4-4482-9082-b925a8d30fa5",
     "showTitle": false,
     "tableResultSettingsMap": {},
     "title": ""
    }
   },
   "source": [
    "\n",
    "- Filter the columns of the sales orders dataframe to include only the customer name and email address.\n",
    "- Count the total number of order records\n",
    "- Count the number of distinct customers\n",
    "- Display the distinct customers"
   ]
  },
  {
   "cell_type": "code",
   "execution_count": 0,
   "metadata": {
    "application/vnd.databricks.v1+cell": {
     "cellMetadata": {
      "byteLimit": 2048000,
      "rowLimit": 10000
     },
     "inputWidgets": {},
     "nuid": "2eb63598-e52a-41e9-bedb-55f255762645",
     "showTitle": false,
     "tableResultSettingsMap": {},
     "title": ""
    }
   },
   "outputs": [
    {
     "output_type": "stream",
     "name": "stdout",
     "output_type": "stream",
     "text": [
      "32718\n12427\n"
     ]
    },
    {
     "output_type": "display_data",
     "data": {
      "text/html": [
       "<style scoped>\n",
       "  .table-result-container {\n",
       "    max-height: 300px;\n",
       "    overflow: auto;\n",
       "  }\n",
       "  table, th, td {\n",
       "    border: 1px solid black;\n",
       "    border-collapse: collapse;\n",
       "  }\n",
       "  th, td {\n",
       "    padding: 5px;\n",
       "  }\n",
       "  th {\n",
       "    text-align: left;\n",
       "  }\n",
       "</style><div class='table-result-container'><table class='table-result'><thead style='background-color: white'><tr><th>CustomerName</th><th>Email</th></tr></thead><tbody><tr><td>Bridget Andersen</td><td>bridget15@adventure-works.com</td></tr><tr><td>Mya Butler</td><td>mya14@adventure-works.com</td></tr><tr><td>Deanna Hernandez</td><td>deanna29@adventure-works.com</td></tr><tr><td>Ricky Navarro</td><td>ricky10@adventure-works.com</td></tr><tr><td>Omar Ye</td><td>omar9@adventure-works.com</td></tr><tr><td>Kellie Gutierrez</td><td>kellie9@adventure-works.com</td></tr><tr><td>Raymond Rana</td><td>raymond13@adventure-works.com</td></tr><tr><td>Derrick Moreno</td><td>derrick6@adventure-works.com</td></tr><tr><td>Megan Walker</td><td>megan25@adventure-works.com</td></tr><tr><td>Edward Jackson</td><td>edward34@adventure-works.com</td></tr></tbody></table></div>"
      ]
     },
     "metadata": {
      "application/vnd.databricks.v1+output": {
       "addedWidgets": {},
       "aggData": [],
       "aggError": "",
       "aggOverflow": false,
       "aggSchema": [],
       "aggSeriesLimitReached": false,
       "aggType": "",
       "arguments": {},
       "columnCustomDisplayInfos": {},
       "data": [
        [
         "Bridget Andersen",
         "bridget15@adventure-works.com"
        ],
        [
         "Mya Butler",
         "mya14@adventure-works.com"
        ],
        [
         "Deanna Hernandez",
         "deanna29@adventure-works.com"
        ],
        [
         "Ricky Navarro",
         "ricky10@adventure-works.com"
        ],
        [
         "Omar Ye",
         "omar9@adventure-works.com"
        ],
        [
         "Kellie Gutierrez",
         "kellie9@adventure-works.com"
        ],
        [
         "Raymond Rana",
         "raymond13@adventure-works.com"
        ],
        [
         "Derrick Moreno",
         "derrick6@adventure-works.com"
        ],
        [
         "Megan Walker",
         "megan25@adventure-works.com"
        ],
        [
         "Edward Jackson",
         "edward34@adventure-works.com"
        ]
       ],
       "datasetInfos": [],
       "dbfsResultPath": null,
       "isJsonSchema": true,
       "metadata": {},
       "overflow": false,
       "plotOptions": {
        "customPlotOptions": {},
        "displayType": "table",
        "pivotAggregation": null,
        "pivotColumns": null,
        "xColumns": null,
        "yColumns": null
       },
       "removedWidgets": [],
       "schema": [
        {
         "metadata": "{}",
         "name": "CustomerName",
         "type": "\"string\""
        },
        {
         "metadata": "{}",
         "name": "Email",
         "type": "\"string\""
        }
       ],
       "type": "table"
      }
     },
     "output_type": "display_data"
    }
   ],
   "source": [
    "customers = df['CustomerName', 'Email']\n",
    "print(customers.count())\n",
    "print(customers.distinct().count())\n",
    "display(customers.distinct().limit(10))\n",
    "\n",
    "# dataframe['Field1', 'Field2', ...] = df.select(\"CustomerName\", \"Email\") "
   ]
  },
  {
   "cell_type": "code",
   "execution_count": 0,
   "metadata": {
    "application/vnd.databricks.v1+cell": {
     "cellMetadata": {
      "byteLimit": 2048000,
      "rowLimit": 10000
     },
     "inputWidgets": {},
     "nuid": "abcfe3d6-e9e3-433e-9d0f-0d69b4dfc1e6",
     "showTitle": false,
     "tableResultSettingsMap": {},
     "title": ""
    }
   },
   "outputs": [
    {
     "output_type": "stream",
     "name": "stdout",
     "output_type": "stream",
     "text": [
      "133\n133\n"
     ]
    },
    {
     "output_type": "display_data",
     "data": {
      "text/html": [
       "<style scoped>\n",
       "  .table-result-container {\n",
       "    max-height: 300px;\n",
       "    overflow: auto;\n",
       "  }\n",
       "  table, th, td {\n",
       "    border: 1px solid black;\n",
       "    border-collapse: collapse;\n",
       "  }\n",
       "  th, td {\n",
       "    padding: 5px;\n",
       "  }\n",
       "  th {\n",
       "    text-align: left;\n",
       "  }\n",
       "</style><div class='table-result-container'><table class='table-result'><thead style='background-color: white'><tr><th>CustomerName</th><th>Email</th></tr></thead><tbody><tr><td>Bridget Andersen</td><td>bridget15@adventure-works.com</td></tr><tr><td>Ricky Navarro</td><td>ricky10@adventure-works.com</td></tr><tr><td>Micah Xu</td><td>micah23@adventure-works.com</td></tr><tr><td>Bryant Raman</td><td>bryant11@adventure-works.com</td></tr><tr><td>Roger Wang</td><td>roger6@adventure-works.com</td></tr><tr><td>Priscilla Yuan</td><td>priscilla6@adventure-works.com</td></tr><tr><td>Lolan Song</td><td>lolan1@adventure-works.com</td></tr><tr><td>Margaret Guo</td><td>margaret24@adventure-works.com</td></tr><tr><td>Richard Baker</td><td>richard27@adventure-works.com</td></tr><tr><td>Bradley Carson</td><td>bradley18@adventure-works.com</td></tr></tbody></table></div>"
      ]
     },
     "metadata": {
      "application/vnd.databricks.v1+output": {
       "addedWidgets": {},
       "aggData": [],
       "aggError": "",
       "aggOverflow": false,
       "aggSchema": [],
       "aggSeriesLimitReached": false,
       "aggType": "",
       "arguments": {},
       "columnCustomDisplayInfos": {},
       "data": [
        [
         "Bridget Andersen",
         "bridget15@adventure-works.com"
        ],
        [
         "Ricky Navarro",
         "ricky10@adventure-works.com"
        ],
        [
         "Micah Xu",
         "micah23@adventure-works.com"
        ],
        [
         "Bryant Raman",
         "bryant11@adventure-works.com"
        ],
        [
         "Roger Wang",
         "roger6@adventure-works.com"
        ],
        [
         "Priscilla Yuan",
         "priscilla6@adventure-works.com"
        ],
        [
         "Lolan Song",
         "lolan1@adventure-works.com"
        ],
        [
         "Margaret Guo",
         "margaret24@adventure-works.com"
        ],
        [
         "Richard Baker",
         "richard27@adventure-works.com"
        ],
        [
         "Bradley Carson",
         "bradley18@adventure-works.com"
        ]
       ],
       "datasetInfos": [],
       "dbfsResultPath": null,
       "isJsonSchema": true,
       "metadata": {},
       "overflow": false,
       "plotOptions": {
        "customPlotOptions": {},
        "displayType": "table",
        "pivotAggregation": null,
        "pivotColumns": null,
        "xColumns": null,
        "yColumns": null
       },
       "removedWidgets": [],
       "schema": [
        {
         "metadata": "{}",
         "name": "CustomerName",
         "type": "\"string\""
        },
        {
         "metadata": "{}",
         "name": "Email",
         "type": "\"string\""
        }
       ],
       "type": "table"
      }
     },
     "output_type": "display_data"
    }
   ],
   "source": [
    "customers = df.select(\"CustomerName\", \"Email\").where(df['Item']=='Road-250 Red, 52')\n",
    "print(customers.count())\n",
    "print(customers.distinct().count())\n",
    "display(customers.distinct().limit(10))"
   ]
  },
  {
   "cell_type": "markdown",
   "metadata": {
    "application/vnd.databricks.v1+cell": {
     "cellMetadata": {},
     "inputWidgets": {},
     "nuid": "6ccffbb9-fb5a-44a0-9629-0fdca53d60a1",
     "showTitle": false,
     "tableResultSettingsMap": {},
     "title": ""
    }
   },
   "source": [
    "**Aggregate and group data in a dataframe**"
   ]
  },
  {
   "cell_type": "code",
   "execution_count": 0,
   "metadata": {
    "application/vnd.databricks.v1+cell": {
     "cellMetadata": {
      "byteLimit": 2048000,
      "rowLimit": 10000
     },
     "inputWidgets": {},
     "nuid": "a78b29fd-4ec6-4f68-a37e-4ca4f2acb772",
     "showTitle": false,
     "tableResultSettingsMap": {},
     "title": ""
    }
   },
   "outputs": [
    {
     "output_type": "display_data",
     "data": {
      "text/html": [
       "<style scoped>\n",
       "  .table-result-container {\n",
       "    max-height: 300px;\n",
       "    overflow: auto;\n",
       "  }\n",
       "  table, th, td {\n",
       "    border: 1px solid black;\n",
       "    border-collapse: collapse;\n",
       "  }\n",
       "  th, td {\n",
       "    padding: 5px;\n",
       "  }\n",
       "  th {\n",
       "    text-align: left;\n",
       "  }\n",
       "</style><div class='table-result-container'><table class='table-result'><thead style='background-color: white'><tr><th>Item</th><th>sum(Quantity)</th></tr></thead><tbody><tr><td>Mountain-200 Black, 42</td><td>388</td></tr><tr><td>Touring-1000 Yellow, 46</td><td>74</td></tr><tr><td>Touring-1000 Blue, 54</td><td>67</td></tr><tr><td>Short-Sleeve Classic Jersey, S</td><td>216</td></tr><tr><td>Women's Mountain Shorts, S</td><td>146</td></tr><tr><td>Long-Sleeve Logo Jersey, L</td><td>234</td></tr><tr><td>Mountain-400-W Silver, 42</td><td>59</td></tr><tr><td>Racing Socks, M</td><td>165</td></tr><tr><td>Mountain-100 Silver, 42</td><td>42</td></tr></tbody></table></div>"
      ]
     },
     "metadata": {
      "application/vnd.databricks.v1+output": {
       "addedWidgets": {},
       "aggData": [],
       "aggError": "",
       "aggOverflow": false,
       "aggSchema": [],
       "aggSeriesLimitReached": false,
       "aggType": "",
       "arguments": {},
       "columnCustomDisplayInfos": {},
       "data": [
        [
         "Mountain-200 Black, 42",
         388
        ],
        [
         "Touring-1000 Yellow, 46",
         74
        ],
        [
         "Touring-1000 Blue, 54",
         67
        ],
        [
         "Short-Sleeve Classic Jersey, S",
         216
        ],
        [
         "Women's Mountain Shorts, S",
         146
        ],
        [
         "Long-Sleeve Logo Jersey, L",
         234
        ],
        [
         "Mountain-400-W Silver, 42",
         59
        ],
        [
         "Racing Socks, M",
         165
        ],
        [
         "Mountain-100 Silver, 42",
         42
        ]
       ],
       "datasetInfos": [],
       "dbfsResultPath": null,
       "isJsonSchema": true,
       "metadata": {},
       "overflow": false,
       "plotOptions": {
        "customPlotOptions": {},
        "displayType": "table",
        "pivotAggregation": null,
        "pivotColumns": null,
        "xColumns": null,
        "yColumns": null
       },
       "removedWidgets": [],
       "schema": [
        {
         "metadata": "{}",
         "name": "Item",
         "type": "\"string\""
        },
        {
         "metadata": "{\"__autoGeneratedAlias\":\"true\"}",
         "name": "sum(Quantity)",
         "type": "\"long\""
        }
       ],
       "type": "table"
      }
     },
     "output_type": "display_data"
    }
   ],
   "source": [
    "productSales = df.select(\"Item\", \"Quantity\").groupBy(\"Item\").sum()\n",
    "display(productSales.limit(9))\n",
    "\n",
    "# The groupBy method groups the rows by Item, and the subsequent sum aggregate function is applied to all of the remaining numeric columns (in this case, Quantity)"
   ]
  },
  {
   "cell_type": "code",
   "execution_count": 0,
   "metadata": {
    "application/vnd.databricks.v1+cell": {
     "cellMetadata": {
      "byteLimit": 2048000,
      "rowLimit": 10000
     },
     "inputWidgets": {},
     "nuid": "37b6be37-70a2-49cc-822e-f0a81e15a43b",
     "showTitle": false,
     "tableResultSettingsMap": {},
     "title": ""
    }
   },
   "outputs": [
    {
     "output_type": "display_data",
     "data": {
      "text/html": [
       "<style scoped>\n",
       "  .table-result-container {\n",
       "    max-height: 300px;\n",
       "    overflow: auto;\n",
       "  }\n",
       "  table, th, td {\n",
       "    border: 1px solid black;\n",
       "    border-collapse: collapse;\n",
       "  }\n",
       "  th, td {\n",
       "    padding: 5px;\n",
       "  }\n",
       "  th {\n",
       "    text-align: left;\n",
       "  }\n",
       "</style><div class='table-result-container'><table class='table-result'><thead style='background-color: white'><tr><th>Year</th><th>count</th></tr></thead><tbody><tr><td>2019</td><td>1201</td></tr><tr><td>2020</td><td>2733</td></tr><tr><td>2021</td><td>28784</td></tr></tbody></table></div>"
      ]
     },
     "metadata": {
      "application/vnd.databricks.v1+output": {
       "addedWidgets": {},
       "aggData": [],
       "aggError": "",
       "aggOverflow": false,
       "aggSchema": [],
       "aggSeriesLimitReached": false,
       "aggType": "",
       "arguments": {},
       "columnCustomDisplayInfos": {},
       "data": [
        [
         2019,
         1201
        ],
        [
         2020,
         2733
        ],
        [
         2021,
         28784
        ]
       ],
       "datasetInfos": [],
       "dbfsResultPath": null,
       "isJsonSchema": true,
       "metadata": {},
       "overflow": false,
       "plotOptions": {
        "customPlotOptions": {},
        "displayType": "table",
        "pivotAggregation": null,
        "pivotColumns": null,
        "xColumns": null,
        "yColumns": null
       },
       "removedWidgets": [],
       "schema": [
        {
         "metadata": "{}",
         "name": "Year",
         "type": "\"integer\""
        },
        {
         "metadata": "{}",
         "name": "count",
         "type": "\"long\""
        }
       ],
       "type": "table"
      }
     },
     "output_type": "display_data"
    }
   ],
   "source": [
    "#This time the results show the number of sales orders per year. Note that the select method includes a SQL year function to extract the year component of the OrderDate field, and then an alias method is used to assign a column name to the extracted year value. The data is then grouped by the derived Year column and the count of rows in each group is calculated before finally the orderBy method is used to sort the resulting dataframe.\n",
    "\n",
    "yearlySales = df.select(year(\"OrderDate\").alias(\"Year\")).groupBy(\"Year\").count().orderBy(\"Year\")\n",
    "display(yearlySales)"
   ]
  },
  {
   "cell_type": "markdown",
   "metadata": {
    "application/vnd.databricks.v1+cell": {
     "cellMetadata": {},
     "inputWidgets": {},
     "nuid": "6882bc7a-29f7-4e1d-aa33-1d71c0933f12",
     "showTitle": false,
     "tableResultSettingsMap": {},
     "title": ""
    }
   },
   "source": [
    "**Run SQL code in a cell**"
   ]
  },
  {
   "cell_type": "code",
   "execution_count": 0,
   "metadata": {
    "application/vnd.databricks.v1+cell": {
     "cellMetadata": {
      "byteLimit": 2048000,
      "rowLimit": 10000
     },
     "inputWidgets": {},
     "nuid": "b47933d9-2a1e-4a94-9028-73b957c14704",
     "showTitle": false,
     "tableResultSettingsMap": {},
     "title": ""
    }
   },
   "outputs": [],
   "source": [
    "#While it’s useful to be able to embed SQL statements into a cell containing PySpark code, data analysts often just want to work directly in SQL. Add a new code cell and use it to run the following code.\n",
    "\n",
    "df.createOrReplaceTempView(\"salesorders\")\n",
    "\n",
    "# This code line will create a temporary view that can then be used directly with SQL statements."
   ]
  },
  {
   "cell_type": "code",
   "execution_count": 0,
   "metadata": {
    "application/vnd.databricks.v1+cell": {
     "cellMetadata": {
      "byteLimit": 2048000,
      "implicitDf": true,
      "rowLimit": 10000
     },
     "inputWidgets": {},
     "nuid": "a0e7a386-d870-4998-a23f-5f89d6daf8e8",
     "showTitle": false,
     "tableResultSettingsMap": {},
     "title": ""
    }
   },
   "outputs": [
    {
     "output_type": "display_data",
     "data": {
      "text/html": [
       "<style scoped>\n",
       "  .table-result-container {\n",
       "    max-height: 300px;\n",
       "    overflow: auto;\n",
       "  }\n",
       "  table, th, td {\n",
       "    border: 1px solid black;\n",
       "    border-collapse: collapse;\n",
       "  }\n",
       "  th, td {\n",
       "    padding: 5px;\n",
       "  }\n",
       "  th {\n",
       "    text-align: left;\n",
       "  }\n",
       "</style><div class='table-result-container'><table class='table-result'><thead style='background-color: white'><tr><th>OrderYear</th><th>GrossRevenue</th></tr></thead><tbody><tr><td>2019</td><td>4172169.9616088867</td></tr><tr><td>2020</td><td>6882259.196960449</td></tr><tr><td>2021</td><td>1.1547835220163345E7</td></tr></tbody></table></div>"
      ]
     },
     "metadata": {
      "application/vnd.databricks.v1+output": {
       "addedWidgets": {},
       "aggData": [],
       "aggError": "",
       "aggOverflow": false,
       "aggSchema": [],
       "aggSeriesLimitReached": false,
       "aggType": "",
       "arguments": {},
       "columnCustomDisplayInfos": {},
       "data": [
        [
         2019,
         4172169.9616088867
        ],
        [
         2020,
         6882259.196960449
        ],
        [
         2021,
         1.1547835220163345E7
        ]
       ],
       "datasetInfos": [
        {
         "name": "_sqldf",
         "schema": {
          "fields": [
           {
            "metadata": {},
            "name": "OrderYear",
            "nullable": true,
            "type": "integer"
           },
           {
            "metadata": {},
            "name": "GrossRevenue",
            "nullable": true,
            "type": "double"
           }
          ],
          "type": "struct"
         },
         "tableIdentifier": null,
         "typeStr": "pyspark.sql.connect.dataframe.DataFrame"
        }
       ],
       "dbfsResultPath": null,
       "isJsonSchema": true,
       "metadata": {
        "createTempViewForImplicitDf": true,
        "dataframeName": "_sqldf",
        "executionCount": 15
       },
       "overflow": false,
       "plotOptions": {
        "customPlotOptions": {},
        "displayType": "table",
        "pivotAggregation": null,
        "pivotColumns": null,
        "xColumns": null,
        "yColumns": null
       },
       "removedWidgets": [],
       "schema": [
        {
         "metadata": "{}",
         "name": "OrderYear",
         "type": "\"integer\""
        },
        {
         "metadata": "{}",
         "name": "GrossRevenue",
         "type": "\"double\""
        }
       ],
       "type": "table"
      }
     },
     "output_type": "display_data"
    }
   ],
   "source": [
    "%sql\n",
    "    \n",
    "SELECT YEAR(OrderDate) AS OrderYear,\n",
    "       SUM((UnitPrice * Quantity) + Tax) AS GrossRevenue\n",
    "FROM salesorders\n",
    "GROUP BY YEAR(OrderDate)\n",
    "ORDER BY OrderYear;"
   ]
  },
  {
   "cell_type": "code",
   "execution_count": 0,
   "metadata": {
    "application/vnd.databricks.v1+cell": {
     "cellMetadata": {},
     "inputWidgets": {},
     "nuid": "0207b708-bf86-437d-aca2-7e23d543eead",
     "showTitle": false,
     "tableResultSettingsMap": {},
     "title": ""
    }
   },
   "outputs": [],
   "source": []
  }
 ],
 "metadata": {
  "application/vnd.databricks.v1+notebook": {
   "computePreferences": {
    "hardware": {
     "accelerator": null,
     "gpuPoolId": null,
     "memory": null
    }
   },
   "dashboards": [],
   "environmentMetadata": {
    "base_environment": "",
    "environment_version": "3"
   },
   "inputWidgetPreferences": null,
   "language": "python",
   "notebookMetadata": {
    "mostRecentlyExecutedCommandWithImplicitDF": {
     "commandId": 8510433597163636,
     "dataframes": [
      "_sqldf"
     ]
    },
    "pythonIndentUnit": 4
   },
   "notebookName": "2_Use Apache Spark in Azure Databricks",
   "widgets": {}
  },
  "language_info": {
   "name": "python"
  }
 },
 "nbformat": 4,
 "nbformat_minor": 0
}