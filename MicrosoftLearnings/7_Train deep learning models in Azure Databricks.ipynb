{
 "cells": [
  {
   "cell_type": "markdown",
   "metadata": {
    "application/vnd.databricks.v1+cell": {
     "cellMetadata": {},
     "inputWidgets": {},
     "nuid": "0a7629f5-4a2a-49fa-b200-a533a7a15e90",
     "showTitle": false,
     "tableResultSettingsMap": {},
     "title": ""
    }
   },
   "source": [
    "Deep learning uses neural networks to train highly effective machine learning models for complex forecasting, computer vision, natural language processing, and other AI workloads."
   ]
  },
  {
   "cell_type": "markdown",
   "metadata": {
    "application/vnd.databricks.v1+cell": {
     "cellMetadata": {},
     "inputWidgets": {},
     "nuid": "814e34fd-296b-437b-b4f0-a713f1c5e27b",
     "showTitle": false,
     "tableResultSettingsMap": {},
     "title": ""
    }
   },
   "source": [
    "# Exercise\n",
    "Use PyTorch to train a deep learning model on Azure Databricks."
   ]
  },
  {
   "cell_type": "markdown",
   "metadata": {
    "application/vnd.databricks.v1+cell": {
     "cellMetadata": {},
     "inputWidgets": {},
     "nuid": "3dc4a1b0-916e-4bc4-80a6-94f59486257a",
     "showTitle": false,
     "tableResultSettingsMap": {},
     "title": ""
    }
   },
   "source": [
    "- You will use the PyTorch library to train a deep learning model in Azure Databricks. \n",
    "- Then you will use the Horovod library to distribute deep learning training across multiple worker nodes in a cluster."
   ]
  },
  {
   "cell_type": "code",
   "execution_count": 0,
   "metadata": {
    "application/vnd.databricks.v1+cell": {
     "cellMetadata": {
      "byteLimit": 2048000,
      "rowLimit": 10000
     },
     "inputWidgets": {},
     "nuid": "fc6fffb6-fd61-4dc4-9be0-f0c21ba501e9",
     "showTitle": false,
     "tableResultSettingsMap": {},
     "title": ""
    }
   },
   "outputs": [
    {
     "output_type": "stream",
     "name": "stdout",
     "output_type": "stream",
     "text": [
      "hi\n"
     ]
    }
   ],
   "source": [
    "print('hi')"
   ]
  },
  {
   "cell_type": "markdown",
   "metadata": {
    "application/vnd.databricks.v1+cell": {
     "cellMetadata": {},
     "inputWidgets": {},
     "nuid": "f8ffe048-9bf4-4a23-b10f-3aa8402bc366",
     "showTitle": false,
     "tableResultSettingsMap": {},
     "title": ""
    }
   },
   "source": [
    "## Ingest and prepare data\n",
    "\n",
    "The scenario for this exercise is based on observations of penguins in Antarctica, with the goal of training a machine learning model to predict the species of an observed penguin based on its location and body measurements."
   ]
  },
  {
   "cell_type": "code",
   "execution_count": 0,
   "metadata": {
    "application/vnd.databricks.v1+cell": {
     "cellMetadata": {
      "byteLimit": 2048000,
      "rowLimit": 10000
     },
     "inputWidgets": {},
     "nuid": "4c908cb8-d91a-4c95-bfa9-ef06608c10e1",
     "showTitle": false,
     "tableResultSettingsMap": {},
     "title": ""
    }
   },
   "outputs": [
    {
     "output_type": "stream",
     "name": "stderr",
     "output_type": "stream",
     "text": [
      "--2025-09-28 10:20:27--  https://raw.githubusercontent.com/MicrosoftLearning/mslearn-databricks/main/data/penguins.csv\nResolving raw.githubusercontent.com (raw.githubusercontent.com)... 185.199.108.133, 185.199.111.133, 185.199.109.133, ...\nConnecting to raw.githubusercontent.com (raw.githubusercontent.com)|185.199.108.133|:443... connected.\nHTTP request sent, awaiting response... 200 OK\nLength: 9533 (9.3K) [text/plain]\nSaving to: ‘/Workspace/MicrosoftLearnings/dbfs/deepml_lab/penguins.csv’\n\n     0K .........                                             100% 2.65M=0.003s\n\n2025-09-28 10:20:27 (2.65 MB/s) - ‘/Workspace/MicrosoftLearnings/dbfs/deepml_lab/penguins.csv’ saved [9533/9533]\n\n"
     ]
    }
   ],
   "source": [
    "%sh\n",
    "rm -r /Workspace/MicrosoftLearnings/dbfs/deepml_lab\n",
    "mkdir /Workspace/MicrosoftLearnings/dbfs/deepml_lab\n",
    "wget -O /Workspace/MicrosoftLearnings/dbfs/deepml_lab/penguins.csv https://raw.githubusercontent.com/MicrosoftLearning/mslearn-databricks/main/data/penguins.csv"
   ]
  },
  {
   "cell_type": "markdown",
   "metadata": {
    "application/vnd.databricks.v1+cell": {
     "cellMetadata": {},
     "inputWidgets": {},
     "nuid": "6397aff8-033b-4ca0-9ee7-219344dab757",
     "showTitle": false,
     "tableResultSettingsMap": {},
     "title": ""
    }
   },
   "source": [
    "## Prepare data for machine learning\n",
    "- Remove any incomplete rows\n",
    "- Encode the (string) island name as an integer\n",
    "- Apply appropriate data types\n",
    "- Normalize the numeric data to a similar scale\n",
    "- Split the data into two datasets: one for training, and another for testing."
   ]
  },
  {
   "cell_type": "code",
   "execution_count": 0,
   "metadata": {
    "application/vnd.databricks.v1+cell": {
     "cellMetadata": {
      "byteLimit": 2048000,
      "rowLimit": 10000
     },
     "inputWidgets": {},
     "nuid": "a53930b5-447c-4f61-94e6-559b7fde75cb",
     "showTitle": false,
     "tableResultSettingsMap": {},
     "title": ""
    }
   },
   "outputs": [
    {
     "output_type": "stream",
     "name": "stdout",
     "output_type": "stream",
     "text": [
      "islands: ['Dream', 'Torgersen', 'Biscoe']\nisland_indexes: [('Dream', 0), ('Torgersen', 1), ('Biscoe', 2)]\n"
     ]
    },
    {
     "output_type": "display_data",
     "data": {
      "text/html": [
       "<style scoped>\n",
       "  .table-result-container {\n",
       "    max-height: 300px;\n",
       "    overflow: auto;\n",
       "  }\n",
       "  table, th, td {\n",
       "    border: 1px solid black;\n",
       "    border-collapse: collapse;\n",
       "  }\n",
       "  th, td {\n",
       "    padding: 5px;\n",
       "  }\n",
       "  th {\n",
       "    text-align: left;\n",
       "  }\n",
       "</style><div class='table-result-container'><table class='table-result'><thead style='background-color: white'><tr><th>Island</th><th>IslandIdx</th></tr></thead><tbody><tr><td>Dream</td><td>0</td></tr><tr><td>Torgersen</td><td>1</td></tr><tr><td>Biscoe</td><td>2</td></tr></tbody></table></div>"
      ]
     },
     "metadata": {
      "application/vnd.databricks.v1+output": {
       "addedWidgets": {},
       "aggData": [],
       "aggError": "",
       "aggOverflow": false,
       "aggSchema": [],
       "aggSeriesLimitReached": false,
       "aggType": "",
       "arguments": {},
       "columnCustomDisplayInfos": {},
       "data": [
        [
         "Dream",
         0
        ],
        [
         "Torgersen",
         1
        ],
        [
         "Biscoe",
         2
        ]
       ],
       "datasetInfos": [],
       "dbfsResultPath": null,
       "isJsonSchema": true,
       "metadata": {},
       "overflow": false,
       "plotOptions": {
        "customPlotOptions": {},
        "displayType": "table",
        "pivotAggregation": null,
        "pivotColumns": null,
        "xColumns": null,
        "yColumns": null
       },
       "removedWidgets": [],
       "schema": [
        {
         "metadata": "{}",
         "name": "Island",
         "type": "\"string\""
        },
        {
         "metadata": "{}",
         "name": "IslandIdx",
         "type": "\"long\""
        }
       ],
       "type": "table"
      }
     },
     "output_type": "display_data"
    },
    {
     "output_type": "display_data",
     "data": {
      "text/html": [
       "<style scoped>\n",
       "  .table-result-container {\n",
       "    max-height: 300px;\n",
       "    overflow: auto;\n",
       "  }\n",
       "  table, th, td {\n",
       "    border: 1px solid black;\n",
       "    border-collapse: collapse;\n",
       "  }\n",
       "  th, td {\n",
       "    padding: 5px;\n",
       "  }\n",
       "  th {\n",
       "    text-align: left;\n",
       "  }\n",
       "</style><div class='table-result-container'><table class='table-result'><thead style='background-color: white'><tr><th>IslandIdx</th><th>CulmenLength</th><th>CulmenDepth</th><th>FlipperScaled</th><th>MassScaled</th><th>Species</th></tr></thead><tbody><tr><td>1</td><td>39.1</td><td>18.7</td><td>18.1</td><td>37.5</td><td>0</td></tr><tr><td>1</td><td>39.5</td><td>17.4</td><td>18.6</td><td>38.0</td><td>0</td></tr><tr><td>1</td><td>40.3</td><td>18.0</td><td>19.5</td><td>32.5</td><td>0</td></tr><tr><td>1</td><td>36.7</td><td>19.3</td><td>19.3</td><td>34.5</td><td>0</td></tr><tr><td>1</td><td>39.3</td><td>20.6</td><td>19.0</td><td>36.5</td><td>0</td></tr><tr><td>1</td><td>38.9</td><td>17.8</td><td>18.1</td><td>36.25</td><td>0</td></tr><tr><td>1</td><td>39.2</td><td>19.6</td><td>19.5</td><td>46.75</td><td>0</td></tr><tr><td>1</td><td>34.1</td><td>18.1</td><td>19.3</td><td>34.75</td><td>0</td></tr><tr><td>1</td><td>42.0</td><td>20.2</td><td>19.0</td><td>42.5</td><td>0</td></tr></tbody></table></div>"
      ]
     },
     "metadata": {
      "application/vnd.databricks.v1+output": {
       "addedWidgets": {},
       "aggData": [],
       "aggError": "",
       "aggOverflow": false,
       "aggSchema": [],
       "aggSeriesLimitReached": false,
       "aggType": "",
       "arguments": {},
       "columnCustomDisplayInfos": {},
       "data": [
        [
         1,
         39.1,
         18.7,
         18.1,
         37.5,
         0
        ],
        [
         1,
         39.5,
         17.4,
         18.6,
         38.0,
         0
        ],
        [
         1,
         40.3,
         18.0,
         19.5,
         32.5,
         0
        ],
        [
         1,
         36.7,
         19.3,
         19.3,
         34.5,
         0
        ],
        [
         1,
         39.3,
         20.6,
         19.0,
         36.5,
         0
        ],
        [
         1,
         38.9,
         17.8,
         18.1,
         36.25,
         0
        ],
        [
         1,
         39.2,
         19.6,
         19.5,
         46.75,
         0
        ],
        [
         1,
         34.1,
         18.1,
         19.3,
         34.75,
         0
        ],
        [
         1,
         42.0,
         20.2,
         19.0,
         42.5,
         0
        ]
       ],
       "datasetInfos": [],
       "dbfsResultPath": null,
       "isJsonSchema": true,
       "metadata": {},
       "overflow": false,
       "plotOptions": {
        "customPlotOptions": {},
        "displayType": "table",
        "pivotAggregation": null,
        "pivotColumns": null,
        "xColumns": null,
        "yColumns": null
       },
       "removedWidgets": [],
       "schema": [
        {
         "metadata": "{}",
         "name": "IslandIdx",
         "type": "\"long\""
        },
        {
         "metadata": "{}",
         "name": "CulmenLength",
         "type": "\"float\""
        },
        {
         "metadata": "{}",
         "name": "CulmenDepth",
         "type": "\"float\""
        },
        {
         "metadata": "{}",
         "name": "FlipperScaled",
         "type": "\"double\""
        },
        {
         "metadata": "{}",
         "name": "MassScaled",
         "type": "\"double\""
        },
        {
         "metadata": "{}",
         "name": "Species",
         "type": "\"integer\""
        }
       ],
       "type": "table"
      }
     },
     "output_type": "display_data"
    },
    {
     "output_type": "stream",
     "name": "stdout",
     "output_type": "stream",
     "text": [
      "Training Set: 957 rows, Test Set: 411 rows \n\n"
     ]
    }
   ],
   "source": [
    "from pyspark.sql.types import *\n",
    "from pyspark.sql.functions import *\n",
    "from sklearn.model_selection import train_test_split\n",
    "   \n",
    "# Load the data, removing any incomplete rows\n",
    "df = spark.read.format(\"csv\").option(\"header\", \"true\").load(\"file:/Workspace/MicrosoftLearnings/dbfs/deepml_lab/penguins.csv\").dropna()\n",
    "   \n",
    "# Encode the Island with a simple integer index\n",
    "# Scale FlipperLength and BodyMass so they're on a similar scale to the bill measurements\n",
    "islands = df.select(collect_set(\"Island\").alias('Islands')).first()['Islands']\n",
    "#print('islands'||islands)\n",
    "print(f'islands: {islands}')\n",
    "\n",
    "island_indexes = [(islands[i], i) for i in range(0, len(islands))]\n",
    "print(f'island_indexes: {island_indexes}')\n",
    "\n",
    "df_indexes = spark.createDataFrame(island_indexes).toDF('Island', 'IslandIdx')\n",
    "display(df_indexes)\n",
    "\n",
    "data = df.join(df_indexes, ['Island'], 'left').select(col(\"IslandIdx\"),\n",
    "                   col(\"CulmenLength\").astype(\"float\"),\n",
    "                   col(\"CulmenDepth\").astype(\"float\"),\n",
    "                   (col(\"FlipperLength\").astype(\"float\")/10).alias(\"FlipperScaled\"),\n",
    "                    (col(\"BodyMass\").astype(\"float\")/100).alias(\"MassScaled\"),\n",
    "                   col(\"Species\").astype(\"int\")\n",
    "                    )\n",
    "display(data.limit(9))\n",
    "\n",
    "# Oversample the dataframe to triple its size\n",
    "# (Deep learning techniques like LOTS of data)\n",
    "for i in range(1,3):\n",
    "    data = data.union(data)\n",
    "   \n",
    "# Split the data into training and testing datasets   \n",
    "features = ['IslandIdx','CulmenLength','CulmenDepth','FlipperScaled','MassScaled']\n",
    "label = 'Species'\n",
    "      \n",
    "# Split data 70%-30% into training set and test set\n",
    "x_train, x_test, y_train, y_test = train_test_split(data.toPandas()[features].values,\n",
    "                                                    data.toPandas()[label].values,\n",
    "                                                    test_size=0.30,\n",
    "                                                    random_state=0)\n",
    "   \n",
    "print ('Training Set: %d rows, Test Set: %d rows \\n' % (len(x_train), len(x_test)))"
   ]
  },
  {
   "cell_type": "markdown",
   "metadata": {
    "application/vnd.databricks.v1+cell": {
     "cellMetadata": {},
     "inputWidgets": {},
     "nuid": "184c81d4-ad9c-4238-9dd2-a6498fb7e3da",
     "showTitle": false,
     "tableResultSettingsMap": {},
     "title": ""
    }
   },
   "source": [
    "## Install and import the PyTorch libraries\n",
    "\n",
    "PyTorch is a framework for creating machine learning models, including deep neural networks (DNNs). Since we plan to use PyTorch to create our penguin classifier, we’ll need to import the PyTorch libraries we intend to use. PyTorch is already installed on Azure databricks clusters with an ML Databricks runtime (the specific installation of of PyTorch depends on whether the cluster has graphics processing units (GPUs) that can be used for high-performance processing via cuda).\n",
    "\n"
   ]
  },
  {
   "cell_type": "code",
   "execution_count": 0,
   "metadata": {
    "application/vnd.databricks.v1+cell": {
     "cellMetadata": {
      "byteLimit": 2048000,
      "rowLimit": 10000
     },
     "inputWidgets": {},
     "nuid": "d1f22908-17ac-4532-9797-1b4750a82dda",
     "showTitle": false,
     "tableResultSettingsMap": {},
     "title": ""
    }
   },
   "outputs": [
    {
     "output_type": "stream",
     "name": "stdout",
     "output_type": "stream",
     "text": [
      "Libraries imported - ready to use PyTorch 2.6.0+cpu\n"
     ]
    }
   ],
   "source": [
    "# Prepare for using PyTorch\n",
    "\n",
    "import torch\n",
    "import torch.nn as nn\n",
    "import torch.utils.data as td\n",
    "import torch.nn.functional as F\n",
    "\n",
    "# Set random seed for reproducability\n",
    "torch.manual_seed(0)\n",
    "\n",
    "print(\"Libraries imported - ready to use PyTorch\", torch.__version__)"
   ]
  },
  {
   "cell_type": "markdown",
   "metadata": {
    "application/vnd.databricks.v1+cell": {
     "cellMetadata": {
      "byteLimit": 2048000,
      "implicitDf": true,
      "rowLimit": 10000
     },
     "inputWidgets": {},
     "nuid": "b2232310-2681-4ea6-a3b9-e6f13926ba55",
     "showTitle": false,
     "tableResultSettingsMap": {},
     "title": ""
    }
   },
   "source": [
    "## Create data loaders\n",
    "- PyTorch makes use of data loaders to load training and validation data in batches. \n",
    "- We’ve already loaded the data into numpy arrays, but we need to wrap those in PyTorch datasets (in which the data is converted to PyTorch tensor objects) and create loaders to read batches from those datasets."
   ]
  },
  {
   "cell_type": "code",
   "execution_count": 0,
   "metadata": {
    "application/vnd.databricks.v1+cell": {
     "cellMetadata": {
      "byteLimit": 2048000,
      "rowLimit": 10000
     },
     "inputWidgets": {},
     "nuid": "11b37430-76e9-45d7-9ef2-ca06362d3fed",
     "showTitle": false,
     "tableResultSettingsMap": {},
     "title": ""
    }
   },
   "outputs": [
    {
     "output_type": "stream",
     "name": "stdout",
     "output_type": "stream",
     "text": [
      "Ready to load data\n"
     ]
    }
   ],
   "source": [
    "# Create a dataset and loader for the training data and labels\n",
    "train_x = torch.Tensor(x_train).float()\n",
    "train_y = torch.Tensor(y_train).long()\n",
    "train_ds = td.TensorDataset(train_x,train_y)\n",
    "train_loader = td.DataLoader(train_ds, batch_size=20, shuffle=False, num_workers=1)\n",
    "\n",
    "# Create a dataset and loader for the test data and labels\n",
    "test_x = torch.Tensor(x_test).float()\n",
    "test_y = torch.Tensor(y_test).long()\n",
    "test_ds = td.TensorDataset(test_x,test_y)\n",
    "test_loader = td.DataLoader(test_ds, batch_size=20, shuffle=False, num_workers=1)\n",
    "print('Ready to load data')"
   ]
  },
  {
   "cell_type": "markdown",
   "metadata": {
    "application/vnd.databricks.v1+cell": {
     "cellMetadata": {},
     "inputWidgets": {},
     "nuid": "90359439-2e9a-424e-ac23-60a449d91db5",
     "showTitle": false,
     "tableResultSettingsMap": {},
     "title": ""
    }
   },
   "source": [
    "## Define a neural network\n",
    "\n",
    "- Now we’re ready to define our neural network. In this case, we’ll create a network that consists of 3 fully-connected layers:\n",
    "\n",
    "- An input layer that receives an input value for each feature (in this case, the island index and four penguin measurements) and generated 10 outputs.\n",
    "  - A hidden layer that receives ten inputs from the input layer and sends ten outputs to the next layer.\n",
    "  - An output layer that generates a vector of probabilities for each of the three possible penguin species.\n",
    "\n",
    "As we train the network by passing data through it, the forward function will apply RELU activation functions to the first two layers (to constrain the results to positive numbers) and return a final output layer that uses a log_softmax function to return a value that represents a probability score for each of the three possible classes."
   ]
  },
  {
   "cell_type": "code",
   "execution_count": 0,
   "metadata": {
    "application/vnd.databricks.v1+cell": {
     "cellMetadata": {
      "byteLimit": 2048000,
      "rowLimit": 10000
     },
     "inputWidgets": {},
     "nuid": "aa61d74b-dc02-443a-ac3f-92e62ec2473e",
     "showTitle": false,
     "tableResultSettingsMap": {},
     "title": ""
    }
   },
   "outputs": [
    {
     "output_type": "stream",
     "name": "stdout",
     "output_type": "stream",
     "text": [
      "PenguinNet(\n  (fc1): Linear(in_features=5, out_features=10, bias=True)\n  (fc2): Linear(in_features=10, out_features=10, bias=True)\n  (fc3): Linear(in_features=10, out_features=3, bias=True)\n)\n"
     ]
    }
   ],
   "source": [
    "# Number of hidden layer nodes\n",
    "hl = 10\n",
    "   \n",
    "# Define the neural network\n",
    "class PenguinNet(nn.Module):\n",
    "    def __init__(self):\n",
    "        super(PenguinNet, self).__init__()\n",
    "        self.fc1 = nn.Linear(len(features), hl)\n",
    "        self.fc2 = nn.Linear(hl, hl)\n",
    "        self.fc3 = nn.Linear(hl, 3)\n",
    "   \n",
    "    def forward(self, x):\n",
    "        fc1_output = torch.relu(self.fc1(x))\n",
    "        fc2_output = torch.relu(self.fc2(fc1_output))\n",
    "        y = F.log_softmax(self.fc3(fc2_output).float(), dim=1)\n",
    "        return y\n",
    "   \n",
    "# Create a model instance from the network\n",
    "model = PenguinNet()\n",
    "print(model)"
   ]
  },
  {
   "cell_type": "code",
   "execution_count": 0,
   "metadata": {
    "application/vnd.databricks.v1+cell": {
     "cellMetadata": {
      "byteLimit": 2048000,
      "rowLimit": 10000
     },
     "inputWidgets": {},
     "nuid": "1e7d486c-2c64-419c-b013-21781ea783f9",
     "showTitle": false,
     "tableResultSettingsMap": {},
     "title": ""
    }
   },
   "outputs": [
    {
     "output_type": "stream",
     "name": "stdout",
     "output_type": "stream",
     "text": [
      "cpu\n"
     ]
    }
   ],
   "source": [
    "device = torch.device('cuda' if torch.cuda.is_available() else 'cpu')\n",
    "print(device)"
   ]
  },
  {
   "cell_type": "markdown",
   "metadata": {
    "application/vnd.databricks.v1+cell": {
     "cellMetadata": {},
     "inputWidgets": {},
     "nuid": "8d2d4003-aebf-4839-ba97-4700fb3da6fc",
     "showTitle": false,
     "tableResultSettingsMap": {},
     "title": ""
    }
   },
   "source": [
    "## Create functions to train and test a neural network model\n",
    "\n",
    "To train the model, \n",
    "- we need to repeatedly feed the training values forward through the network, \n",
    "- use a loss function to calculate the loss, \n",
    "- use an optimizer to backpropagate the weight and bias value adjustments, \n",
    "- and validate the model using the test data we withheld.\n",
    "\n",
    "To do this, use the following code to create a function to train and optimize the model, and function to test the model."
   ]
  },
  {
   "cell_type": "code",
   "execution_count": 0,
   "metadata": {
    "application/vnd.databricks.v1+cell": {
     "cellMetadata": {
      "byteLimit": 2048000,
      "rowLimit": 10000
     },
     "inputWidgets": {},
     "nuid": "b66e62b1-39e0-4117-9215-b31c06df2e51",
     "showTitle": false,
     "tableResultSettingsMap": {},
     "title": ""
    }
   },
   "outputs": [],
   "source": [
    "def train(model, data_loader, optimizer):\n",
    "    device = torch.device('cuda' if torch.cuda.is_available() else 'cpu')\n",
    "    model.to(device)\n",
    "    # Set the model to training mode\n",
    "    model.train()\n",
    "    train_loss = 0\n",
    "       \n",
    "    for batch, tensor in enumerate(data_loader):\n",
    "        data, target = tensor\n",
    "        #feedforward\n",
    "        optimizer.zero_grad()\n",
    "        out = model(data)\n",
    "        loss = loss_criteria(out, target)\n",
    "        train_loss += loss.item()\n",
    "   \n",
    "        # backpropagate adjustments to the weights\n",
    "        loss.backward()\n",
    "        optimizer.step()\n",
    "   \n",
    "    #Return average loss\n",
    "    avg_loss = train_loss / (batch+1)\n",
    "    print('Training set: Average loss: {:.6f}'.format(avg_loss))\n",
    "    return avg_loss\n",
    "              \n",
    "               \n",
    "def test(model, data_loader):\n",
    "    device = torch.device('cuda' if torch.cuda.is_available() else 'cpu')\n",
    "    model.to(device)\n",
    "    # Switch the model to evaluation mode (so we don't backpropagate)\n",
    "    model.eval()\n",
    "    test_loss = 0\n",
    "    correct = 0\n",
    "   \n",
    "    with torch.no_grad():\n",
    "        batch_count = 0\n",
    "        for batch, tensor in enumerate(data_loader):\n",
    "            batch_count += 1\n",
    "            data, target = tensor\n",
    "            # Get the predictions\n",
    "            out = model(data)\n",
    "   \n",
    "            # calculate the loss\n",
    "            test_loss += loss_criteria(out, target).item()\n",
    "   \n",
    "            # Calculate the accuracy\n",
    "            _, predicted = torch.max(out.data, 1)\n",
    "            correct += torch.sum(target==predicted).item()\n",
    "               \n",
    "    # Calculate the average loss and total accuracy for this epoch\n",
    "    avg_loss = test_loss/batch_count\n",
    "    print('Validation set: Average loss: {:.6f}, Accuracy: {}/{} ({:.0f}%)\\n'.format(\n",
    "        avg_loss, correct, len(data_loader.dataset),\n",
    "        100. * correct / len(data_loader.dataset)))\n",
    "       \n",
    "    # return average loss for the epoch\n",
    "    return avg_loss"
   ]
  },
  {
   "cell_type": "markdown",
   "metadata": {
    "application/vnd.databricks.v1+cell": {
     "cellMetadata": {},
     "inputWidgets": {},
     "nuid": "a45434a7-446d-4c6c-80f7-f873e44bafa0",
     "showTitle": false,
     "tableResultSettingsMap": {},
     "title": ""
    }
   },
   "source": [
    "## Train a model\n",
    "Now you can use the train and test functions to train a neural network model. You train neural networks iteratively over multiple epochs, logging the loss and accuracy statistics for each epoch.\n",
    "\n"
   ]
  },
  {
   "cell_type": "code",
   "execution_count": 0,
   "metadata": {
    "application/vnd.databricks.v1+cell": {
     "cellMetadata": {
      "byteLimit": 2048000,
      "rowLimit": 10000
     },
     "inputWidgets": {},
     "nuid": "0825e377-c4d6-4a67-a2b1-86c57467ead3",
     "showTitle": false,
     "tableResultSettingsMap": {},
     "title": ""
    }
   },
   "outputs": [
    {
     "output_type": "stream",
     "name": "stdout",
     "output_type": "stream",
     "text": [
      "Epoch: 1\nTraining set: Average loss: 0.906871\nValidation set: Average loss: 0.757011, Accuracy: 367/411 (89%)\n\nEpoch: 2\nTraining set: Average loss: 0.669987\nValidation set: Average loss: 0.606697, Accuracy: 394/411 (96%)\n\nEpoch: 3\nTraining set: Average loss: 0.547173\nValidation set: Average loss: 0.490729, Accuracy: 400/411 (97%)\n\nEpoch: 4\nTraining set: Average loss: 0.430030\nValidation set: Average loss: 0.376439, Accuracy: 401/411 (98%)\n\nEpoch: 5\nTraining set: Average loss: 0.318978\nValidation set: Average loss: 0.275487, Accuracy: 401/411 (98%)\n\nEpoch: 6\nTraining set: Average loss: 0.229832\nValidation set: Average loss: 0.201355, Accuracy: 403/411 (98%)\n\nEpoch: 7\nTraining set: Average loss: 0.168079\nValidation set: Average loss: 0.152380, Accuracy: 403/411 (98%)\n\nEpoch: 8\nTraining set: Average loss: 0.127885\nValidation set: Average loss: 0.120449, Accuracy: 403/411 (98%)\n\nEpoch: 9\nTraining set: Average loss: 0.101662\nValidation set: Average loss: 0.099471, Accuracy: 403/411 (98%)\n\nEpoch: 10\nTraining set: Average loss: 0.083862\nValidation set: Average loss: 0.084657, Accuracy: 403/411 (98%)\n\nEpoch: 11\nTraining set: Average loss: 0.071231\nValidation set: Average loss: 0.073798, Accuracy: 403/411 (98%)\n\nEpoch: 12\nTraining set: Average loss: 0.061859\nValidation set: Average loss: 0.065537, Accuracy: 403/411 (98%)\n\nEpoch: 13\nTraining set: Average loss: 0.054676\nValidation set: Average loss: 0.059043, Accuracy: 403/411 (98%)\n\nEpoch: 14\nTraining set: Average loss: 0.049003\nValidation set: Average loss: 0.053785, Accuracy: 404/411 (98%)\n\nEpoch: 15\nTraining set: Average loss: 0.044411\nValidation set: Average loss: 0.049420, Accuracy: 404/411 (98%)\n\nEpoch: 16\nTraining set: Average loss: 0.040614\nValidation set: Average loss: 0.045739, Accuracy: 406/411 (99%)\n\nEpoch: 17\nTraining set: Average loss: 0.037425\nValidation set: Average loss: 0.042598, Accuracy: 406/411 (99%)\n\nEpoch: 18\nTraining set: Average loss: 0.034709\nValidation set: Average loss: 0.039872, Accuracy: 409/411 (100%)\n\nEpoch: 19\nTraining set: Average loss: 0.032364\nValidation set: Average loss: 0.037472, Accuracy: 409/411 (100%)\n\nEpoch: 20\nTraining set: Average loss: 0.030317\nValidation set: Average loss: 0.035354, Accuracy: 409/411 (100%)\n\nEpoch: 21\nTraining set: Average loss: 0.028517\nValidation set: Average loss: 0.033475, Accuracy: 409/411 (100%)\n\nEpoch: 22\nTraining set: Average loss: 0.026919\nValidation set: Average loss: 0.031785, Accuracy: 409/411 (100%)\n\nEpoch: 23\nTraining set: Average loss: 0.025492\nValidation set: Average loss: 0.030257, Accuracy: 409/411 (100%)\n\nEpoch: 24\nTraining set: Average loss: 0.024208\nValidation set: Average loss: 0.028869, Accuracy: 409/411 (100%)\n\nEpoch: 25\nTraining set: Average loss: 0.023048\nValidation set: Average loss: 0.027603, Accuracy: 409/411 (100%)\n\nEpoch: 26\nTraining set: Average loss: 0.021995\nValidation set: Average loss: 0.026440, Accuracy: 409/411 (100%)\n\nEpoch: 27\nTraining set: Average loss: 0.021034\nValidation set: Average loss: 0.025370, Accuracy: 409/411 (100%)\n\nEpoch: 28\nTraining set: Average loss: 0.020154\nValidation set: Average loss: 0.024383, Accuracy: 409/411 (100%)\n\nEpoch: 29\nTraining set: Average loss: 0.019345\nValidation set: Average loss: 0.023468, Accuracy: 409/411 (100%)\n\nEpoch: 30\nTraining set: Average loss: 0.018600\nValidation set: Average loss: 0.022618, Accuracy: 409/411 (100%)\n\nEpoch: 31\nTraining set: Average loss: 0.017911\nValidation set: Average loss: 0.021828, Accuracy: 409/411 (100%)\n\nEpoch: 32\nTraining set: Average loss: 0.017271\nValidation set: Average loss: 0.021090, Accuracy: 409/411 (100%)\n\nEpoch: 33\nTraining set: Average loss: 0.016675\nValidation set: Average loss: 0.020400, Accuracy: 409/411 (100%)\n\nEpoch: 34\nTraining set: Average loss: 0.016121\nValidation set: Average loss: 0.019752, Accuracy: 409/411 (100%)\n\nEpoch: 35\nTraining set: Average loss: 0.015603\nValidation set: Average loss: 0.019146, Accuracy: 409/411 (100%)\n\nEpoch: 36\nTraining set: Average loss: 0.015118\nValidation set: Average loss: 0.018575, Accuracy: 409/411 (100%)\n\nEpoch: 37\nTraining set: Average loss: 0.014662\nValidation set: Average loss: 0.018038, Accuracy: 409/411 (100%)\n\nEpoch: 38\nTraining set: Average loss: 0.014233\nValidation set: Average loss: 0.017529, Accuracy: 409/411 (100%)\n\nEpoch: 39\nTraining set: Average loss: 0.013829\nValidation set: Average loss: 0.017049, Accuracy: 409/411 (100%)\n\nEpoch: 40\nTraining set: Average loss: 0.013448\nValidation set: Average loss: 0.016596, Accuracy: 409/411 (100%)\n\nEpoch: 41\nTraining set: Average loss: 0.013088\nValidation set: Average loss: 0.016166, Accuracy: 409/411 (100%)\n\nEpoch: 42\nTraining set: Average loss: 0.012747\nValidation set: Average loss: 0.015758, Accuracy: 409/411 (100%)\n\nEpoch: 43\nTraining set: Average loss: 0.012423\nValidation set: Average loss: 0.015370, Accuracy: 411/411 (100%)\n\nEpoch: 44\nTraining set: Average loss: 0.012117\nValidation set: Average loss: 0.015001, Accuracy: 411/411 (100%)\n\nEpoch: 45\nTraining set: Average loss: 0.011825\nValidation set: Average loss: 0.014649, Accuracy: 411/411 (100%)\n\nEpoch: 46\nTraining set: Average loss: 0.011548\nValidation set: Average loss: 0.014314, Accuracy: 411/411 (100%)\n\nEpoch: 47\nTraining set: Average loss: 0.011284\nValidation set: Average loss: 0.013995, Accuracy: 411/411 (100%)\n\nEpoch: 48\nTraining set: Average loss: 0.011033\nValidation set: Average loss: 0.013690, Accuracy: 411/411 (100%)\n\nEpoch: 49\nTraining set: Average loss: 0.010792\nValidation set: Average loss: 0.013398, Accuracy: 411/411 (100%)\n\nEpoch: 50\nTraining set: Average loss: 0.010564\nValidation set: Average loss: 0.013120, Accuracy: 411/411 (100%)\n\nEpoch: 51\nTraining set: Average loss: 0.010345\nValidation set: Average loss: 0.012852, Accuracy: 411/411 (100%)\n\nEpoch: 52\nTraining set: Average loss: 0.010136\nValidation set: Average loss: 0.012596, Accuracy: 411/411 (100%)\n\nEpoch: 53\nTraining set: Average loss: 0.009936\nValidation set: Average loss: 0.012350, Accuracy: 411/411 (100%)\n\nEpoch: 54\nTraining set: Average loss: 0.009744\nValidation set: Average loss: 0.012115, Accuracy: 411/411 (100%)\n\nEpoch: 55\nTraining set: Average loss: 0.009562\nValidation set: Average loss: 0.011890, Accuracy: 411/411 (100%)\n\nEpoch: 56\nTraining set: Average loss: 0.009387\nValidation set: Average loss: 0.011675, Accuracy: 411/411 (100%)\n\nEpoch: 57\nTraining set: Average loss: 0.009219\nValidation set: Average loss: 0.011469, Accuracy: 411/411 (100%)\n\nEpoch: 58\nTraining set: Average loss: 0.009058\nValidation set: Average loss: 0.011270, Accuracy: 411/411 (100%)\n\nEpoch: 59\nTraining set: Average loss: 0.008905\nValidation set: Average loss: 0.011080, Accuracy: 411/411 (100%)\n\nEpoch: 60\nTraining set: Average loss: 0.008758\nValidation set: Average loss: 0.010898, Accuracy: 411/411 (100%)\n\nEpoch: 61\nTraining set: Average loss: 0.008617\nValidation set: Average loss: 0.010722, Accuracy: 411/411 (100%)\n\nEpoch: 62\nTraining set: Average loss: 0.008482\nValidation set: Average loss: 0.010554, Accuracy: 411/411 (100%)\n\nEpoch: 63\nTraining set: Average loss: 0.008353\nValidation set: Average loss: 0.010393, Accuracy: 411/411 (100%)\n\nEpoch: 64\nTraining set: Average loss: 0.008229\nValidation set: Average loss: 0.010239, Accuracy: 411/411 (100%)\n\nEpoch: 65\nTraining set: Average loss: 0.008111\nValidation set: Average loss: 0.010091, Accuracy: 411/411 (100%)\n\nEpoch: 66\nTraining set: Average loss: 0.007998\nValidation set: Average loss: 0.009950, Accuracy: 411/411 (100%)\n\nEpoch: 67\nTraining set: Average loss: 0.007891\nValidation set: Average loss: 0.009815, Accuracy: 411/411 (100%)\n\nEpoch: 68\nTraining set: Average loss: 0.007788\nValidation set: Average loss: 0.009686, Accuracy: 411/411 (100%)\n\nEpoch: 69\nTraining set: Average loss: 0.007689\nValidation set: Average loss: 0.009563, Accuracy: 411/411 (100%)\n\nEpoch: 70\nTraining set: Average loss: 0.007595\nValidation set: Average loss: 0.009445, Accuracy: 411/411 (100%)\n\nEpoch: 71\nTraining set: Average loss: 0.007505\nValidation set: Average loss: 0.009333, Accuracy: 411/411 (100%)\n\nEpoch: 72\nTraining set: Average loss: 0.007419\nValidation set: Average loss: 0.009226, Accuracy: 411/411 (100%)\n\nEpoch: 73\nTraining set: Average loss: 0.007336\nValidation set: Average loss: 0.009123, Accuracy: 411/411 (100%)\n\nEpoch: 74\nTraining set: Average loss: 0.007257\nValidation set: Average loss: 0.009025, Accuracy: 411/411 (100%)\n\nEpoch: 75\nTraining set: Average loss: 0.007182\nValidation set: Average loss: 0.008932, Accuracy: 411/411 (100%)\n\nEpoch: 76\nTraining set: Average loss: 0.007109\nValidation set: Average loss: 0.008843, Accuracy: 411/411 (100%)\n\nEpoch: 77\nTraining set: Average loss: 0.007039\nValidation set: Average loss: 0.008757, Accuracy: 411/411 (100%)\n\nEpoch: 78\nTraining set: Average loss: 0.006972\nValidation set: Average loss: 0.008675, Accuracy: 411/411 (100%)\n\nEpoch: 79\nTraining set: Average loss: 0.006906\nValidation set: Average loss: 0.008595, Accuracy: 411/411 (100%)\n\nEpoch: 80\nTraining set: Average loss: 0.006843\nValidation set: Average loss: 0.008517, Accuracy: 411/411 (100%)\n\nEpoch: 81\nTraining set: Average loss: 0.006780\nValidation set: Average loss: 0.008442, Accuracy: 411/411 (100%)\n\nEpoch: 82\nTraining set: Average loss: 0.006719\nValidation set: Average loss: 0.008368, Accuracy: 411/411 (100%)\n\nEpoch: 83\nTraining set: Average loss: 0.006659\nValidation set: Average loss: 0.008296, Accuracy: 411/411 (100%)\n\nEpoch: 84\nTraining set: Average loss: 0.006600\nValidation set: Average loss: 0.008224, Accuracy: 411/411 (100%)\n\nEpoch: 85\nTraining set: Average loss: 0.006541\nValidation set: Average loss: 0.008153, Accuracy: 411/411 (100%)\n\nEpoch: 86\nTraining set: Average loss: 0.006482\nValidation set: Average loss: 0.008082, Accuracy: 411/411 (100%)\n\nEpoch: 87\nTraining set: Average loss: 0.006424\nValidation set: Average loss: 0.008012, Accuracy: 411/411 (100%)\n\nEpoch: 88\nTraining set: Average loss: 0.006366\nValidation set: Average loss: 0.007942, Accuracy: 411/411 (100%)\n\nEpoch: 89\nTraining set: Average loss: 0.006307\nValidation set: Average loss: 0.007871, Accuracy: 411/411 (100%)\n\nEpoch: 90\nTraining set: Average loss: 0.006249\nValidation set: Average loss: 0.007802, Accuracy: 411/411 (100%)\n\nEpoch: 91\nTraining set: Average loss: 0.006191\nValidation set: Average loss: 0.007731, Accuracy: 411/411 (100%)\n\nEpoch: 92\nTraining set: Average loss: 0.006133\nValidation set: Average loss: 0.007662, Accuracy: 411/411 (100%)\n\nEpoch: 93\nTraining set: Average loss: 0.006076\nValidation set: Average loss: 0.007593, Accuracy: 411/411 (100%)\n\nEpoch: 94\nTraining set: Average loss: 0.006018\nValidation set: Average loss: 0.007525, Accuracy: 411/411 (100%)\n\nEpoch: 95\nTraining set: Average loss: 0.005961\nValidation set: Average loss: 0.007456, Accuracy: 411/411 (100%)\n\nEpoch: 96\nTraining set: Average loss: 0.005904\nValidation set: Average loss: 0.007388, Accuracy: 411/411 (100%)\n\nEpoch: 97\nTraining set: Average loss: 0.005849\nValidation set: Average loss: 0.007322, Accuracy: 411/411 (100%)\n\nEpoch: 98\nTraining set: Average loss: 0.005793\nValidation set: Average loss: 0.007271, Accuracy: 411/411 (100%)\n\nEpoch: 99\nTraining set: Average loss: 0.005745\nValidation set: Average loss: 0.007179, Accuracy: 411/411 (100%)\n\nEpoch: 100\nTraining set: Average loss: 0.005675\nValidation set: Average loss: 0.007120, Accuracy: 411/411 (100%)\n\n"
     ]
    }
   ],
   "source": [
    "# Specify the loss criteria (we'll use CrossEntropyLoss for multi-class classification)\n",
    "loss_criteria = nn.CrossEntropyLoss()\n",
    "   \n",
    "# Use an optimizer to adjust weights and reduce loss\n",
    "learning_rate = 0.001\n",
    "optimizer = torch.optim.Adam(model.parameters(), lr=learning_rate)\n",
    "optimizer.zero_grad()\n",
    "   \n",
    "# We'll track metrics for each epoch in these arrays\n",
    "epoch_nums = []\n",
    "training_loss = []\n",
    "validation_loss = []\n",
    "   \n",
    "# Train over 100 epochs\n",
    "epochs = 100\n",
    "for epoch in range(1, epochs + 1):\n",
    "   \n",
    "    # print the epoch number\n",
    "    print('Epoch: {}'.format(epoch))\n",
    "       \n",
    "    # Feed training data into the model\n",
    "    train_loss = train(model, train_loader, optimizer)\n",
    "       \n",
    "    # Feed the test data into the model to check its performance\n",
    "    test_loss = test(model, test_loader)\n",
    "       \n",
    "    # Log the metrics for this epoch\n",
    "    epoch_nums.append(epoch)\n",
    "    training_loss.append(train_loss)\n",
    "    validation_loss.append(test_loss)"
   ]
  },
  {
   "cell_type": "markdown",
   "metadata": {
    "application/vnd.databricks.v1+cell": {
     "cellMetadata": {},
     "inputWidgets": {},
     "nuid": "ed495762-87cc-4cdc-94f1-7b119636093d",
     "showTitle": false,
     "tableResultSettingsMap": {},
     "title": ""
    }
   },
   "source": [
    "## let’s try to understand what’s happening:\n",
    "\n",
    "- In each epoch, the full set of training data is passed forward through the network. There are five features for each observation, and five corresponding nodes in the input layer - so the features for each observation are passed as a vector of five values to that layer. However, for efficiency, the feature vectors are grouped into batches; so actually a matrix of multiple feature vectors is fed in each time.\n",
    "- The matrix of feature values is processed by a function that performs a weighted sum using initialized weights and bias values. The result of this function is then processed by the activation function for the input layer to constrain the values passed to the nodes in the next layer.\n",
    "- The weighted sum and activation functions are repeated in each layer. Note that the functions operate on vectors and matrices rather than individual scalar values. In other words, the forward pass is essentially a series of nested linear algebra functions. This is the reason data scientists prefer to use computers with graphical processing units (GPUs), since these are optimized for matrix and vector calculations.\n",
    "- In the final layer of the network, the output vectors contain a calculated value for each possible class (in this case, classes 0, 1, and 2). This vector is processed by a loss function that determines how far they are from the expected values based on the actual classes - so for example, suppose the output for a Gentoo penguin (class 1) observation is [0.3, 0.4, 0.3]. The correct prediction would be [0.0, 1.0, 0.0], so the variance between the predicted and actual values (how far away each predicted value is from what it should be) is [0.3, 0.6, 0.3]. This variance is aggregated for each batch and maintained as a running aggregate to calculate the overall level of error (loss) incurred by the training data for the epoch.\n",
    "- At the end of each epoch, the validation data is passed through the network, and its loss and accuracy (proportion of correct predictions based on the highest probability value in the output vector) are also calculated. It’s useful to do this because it enables us to compare the performance of the model after each epoch using data on which it was not trained, helping us determine if it will generalize well for new data or if it’s overfitted to the training data.\n",
    "- After all the data has been passed forward through the network, the output of the loss function for the training data (but not the validation data) is passed to the optimizer. The precise details of how the optimizer processes the loss vary depending on the specific optimization algorithm being used; but fundamentally you can think of the entire network, from the input layer to the loss function as being one big nested (composite) function. The optimizer applies some differential calculus to calculate partial derivatives for the function with respect to each weight and bias value that was used in the network. It’s possible to do this efficiently for a nested function due to something called the chain rule, which enables you to determine the derivative of a composite function from the derivatives of its inner function and outer functions. You don’t really need to worry about the details of the math here (the optimizer does it for you), but the end result is that the partial derivatives tell us about the slope (or gradient) of the loss function with respect to each weight and bias value - in other words, we can determine whether to increase or decrease the weight and bias values in order to minimize the loss.\n",
    "- Having determined in which direction to adjust the weights and biases, the optimizer uses the learning rate to determine by how much to adjust them; and then works backwards through the network in a process called backpropagation to assign new values to the weights and biases in each layer.\n",
    "- Now the next epoch repeats the whole training, validation, and backpropagation process starting with the revised weights and biases from the previous epoch - which hopefully will result in a lower level of loss.\n",
    "- The process continues like this for 100 epochs."
   ]
  },
  {
   "cell_type": "markdown",
   "metadata": {
    "application/vnd.databricks.v1+cell": {
     "cellMetadata": {},
     "inputWidgets": {},
     "nuid": "f29c4e5f-4462-496d-8bc0-77935240319b",
     "showTitle": false,
     "tableResultSettingsMap": {},
     "title": ""
    }
   },
   "source": [
    "## Review training and validation loss\n",
    "\n",
    "- After training is complete, we can examine the loss metrics we recorded while training and validating the model. We’re really looking for two things:\n",
    "- The loss should reduce with each epoch, showing that the model is learning the right weights and biases to predict the correct labels.\n",
    "- The training loss and validation loss should follow a similar trend, showing that the model is not overfitting to the training data."
   ]
  },
  {
   "cell_type": "code",
   "execution_count": 0,
   "metadata": {
    "application/vnd.databricks.v1+cell": {
     "cellMetadata": {
      "byteLimit": 2048000,
      "rowLimit": 10000
     },
     "inputWidgets": {},
     "nuid": "c05db76c-5c03-498d-b57d-7bb58a596e60",
     "showTitle": false,
     "tableResultSettingsMap": {},
     "title": ""
    }
   },
   "outputs": [
    {
     "output_type": "display_data",
     "data": {
      "image/png": "[encoded data removed]",
      "text/plain": [
       "<Figure size 640x480 with 1 Axes>"
      ]
     },
     "metadata": {},
     "output_type": "display_data"
    }
   ],
   "source": [
    "%matplotlib inline\n",
    "from matplotlib import pyplot as plt\n",
    "   \n",
    "plt.plot(epoch_nums, training_loss)\n",
    "plt.plot(epoch_nums, validation_loss)\n",
    "plt.xlabel('epoch')\n",
    "plt.ylabel('loss')\n",
    "plt.legend(['training', 'validation'], loc='upper right')\n",
    "plt.show()"
   ]
  },
  {
   "cell_type": "markdown",
   "metadata": {
    "application/vnd.databricks.v1+cell": {
     "cellMetadata": {},
     "inputWidgets": {},
     "nuid": "5705cd11-7d9f-4b17-b60a-595a079747a5",
     "showTitle": false,
     "tableResultSettingsMap": {},
     "title": ""
    }
   },
   "source": [
    "## View the learned weights and biases\n",
    "\n",
    "The trained model consists of the final weights and biases that were determined by the optimizer during training. Based on our network model we should expect the following values for each layer:\n",
    "\n",
    "- Layer 1 (fc1): There are five input values going to ten output nodes, so there should be 10 x 5 weights and 10 bias values.\n",
    "- Layer 2 (fc2): There are ten input values going to ten output nodes, so there should be 10 x 10 weights and 10 bias values.\n",
    "- Layer 3 (fc3): There are ten input values going to three output nodes, so there should be 3 x 10 weights and 3 bias values.\n",
    "\n",
    "Code to view the layers in your trained model:"
   ]
  },
  {
   "cell_type": "code",
   "execution_count": 0,
   "metadata": {
    "application/vnd.databricks.v1+cell": {
     "cellMetadata": {
      "byteLimit": 2048000,
      "rowLimit": 10000
     },
     "inputWidgets": {},
     "nuid": "63671135-202f-4c0c-b791-4c3c47697051",
     "showTitle": false,
     "tableResultSettingsMap": {},
     "title": ""
    }
   },
   "outputs": [
    {
     "output_type": "stream",
     "name": "stdout",
     "output_type": "stream",
     "text": [
      "fc1.weight \n [[-3.3482078e-03  2.3990487e-01 -3.6807698e-01 -3.2912195e-01\n  -1.7224626e-01]\n [ 9.8052907e-01  7.1882396e-03  4.7429168e-01  7.4422829e-02\n   1.9298296e-01]\n [-1.3515380e-01 -8.7906711e-02 -4.2724484e-01 -2.9618156e-01\n  -1.8435177e-01]\n [-8.7300920e-01  2.5517979e-01  5.3543192e-01 -2.8044116e-01\n  -2.4244229e-01]\n [ 1.0778535e-01  4.8213866e-01 -3.2809243e-01  3.4801868e-01\n   1.0674807e-01]\n [-6.9977832e-01  4.8596060e-01 -6.0618669e-01 -3.0907732e-01\n  -4.7691600e-04]\n [-1.6022652e+00  4.9901575e-01 -2.6839456e-01 -2.0371209e-01\n  -2.6576379e-01]\n [-2.1240403e-01 -3.4114641e-01  6.9110030e-01  2.2590327e-01\n   4.4996012e-02]\n [ 2.3519661e-02 -2.2927903e-01  7.5661689e-02 -4.1756096e-01\n  -3.2314146e-01]\n [-7.5280923e-01  2.1307275e-01  5.8127105e-01 -2.6024109e-01\n  -2.1337733e-01]]\nfc1.bias \n [ 0.28602025  0.64911675  0.1774911   0.15111372  0.10917635 -0.46513873\n -0.01083796 -0.09598634 -0.30995753 -0.09365477]\nfc2.weight \n [[ 0.14308454  0.20836797 -0.18731831  0.86777675  0.13751024 -0.51058364\n   0.24647574  0.452846    0.1961803   0.61504626]\n [-0.24369256 -0.20035058  0.12428064  0.02023207  0.33782694  0.9506316\n   0.6734263  -0.7596907   0.02909058 -0.29906145]\n [-0.29470977  0.4161115   0.24044687 -0.73134476  0.17144491 -0.10389774\n  -0.536488   -0.15819551  0.12160734 -0.34181505]\n [ 0.11592636  0.15991893  0.22637847  0.11824109 -0.31298175 -0.20513597\n   0.15789728  0.0661869  -0.24668422 -0.1820901 ]\n [ 0.29749104  0.21307991 -0.13788326 -0.07958972 -0.30123797 -0.00568392\n  -0.23813814 -0.24392441 -0.01742402  0.04748004]\n [-0.12950484  0.28588128 -0.19243696  0.2945032   0.19114883 -0.8290291\n  -0.67227787  0.39462125  0.04613797  0.10023376]\n [ 0.12409671  0.0189421  -0.15429662  0.1496355  -0.30334112 -0.1874303\n  -0.07916125 -0.15403877 -0.11062703 -0.25918713]\n [-0.06726643 -0.02547131 -0.20601156 -0.15756728  0.2649661   0.5161816\n   0.6086344  -0.39170203  0.06399861  0.15876178]\n [ 0.29954556  0.20082231  0.30023092 -0.02287011 -0.2840742  -0.14991638\n   0.21532114 -0.00204994 -0.15717986 -0.24232906]\n [-0.2959424  -0.26689884 -0.06414261  0.1734212   0.17096572 -0.30498013\n   0.1972572  -0.24745122 -0.0668538  -0.1282217 ]]\nfc2.bias \n [ 0.09734221 -0.2620157  -0.14414513 -0.27304304 -0.04948315  0.18573056\n -0.14365433 -0.06168523 -0.28462344 -0.02134134]\nfc3.weight \n [[ 0.4689538  -0.77464616 -0.02817136  0.11452308 -0.2853832   0.46483678\n  -0.03649094 -0.30347106  0.2528726  -0.25554213]\n [-0.25067958  0.3255687   0.72291523  0.08827325  0.15194914 -0.05385166\n  -0.07604478 -0.02153155 -0.26059744  0.17134616]\n [ 0.3101202   0.6474039  -0.7460751   0.01410372 -0.22291975 -0.3469133\n  -0.18426766  0.25084454 -0.18844429 -0.00689921]]\nfc3.bias \n [ 0.14941892  0.13175714 -0.3424229 ]\n"
     ]
    }
   ],
   "source": [
    "for param_tensor in model.state_dict():\n",
    "    print(param_tensor, \"\\n\", model.state_dict()[param_tensor].numpy())"
   ]
  },
  {
   "cell_type": "markdown",
   "metadata": {
    "application/vnd.databricks.v1+cell": {
     "cellMetadata": {},
     "inputWidgets": {},
     "nuid": "a3888888-16c8-44dc-a5fb-90ff5e714c23",
     "showTitle": false,
     "tableResultSettingsMap": {},
     "title": ""
    }
   },
   "source": [
    "## Save and use the trained model\n",
    "- Now that we have a trained model, we can save its trained weights for use later.\n",
    "- Code to save the model:"
   ]
  },
  {
   "cell_type": "code",
   "execution_count": 0,
   "metadata": {
    "application/vnd.databricks.v1+cell": {
     "cellMetadata": {
      "byteLimit": 2048000,
      "rowLimit": 10000
     },
     "inputWidgets": {},
     "nuid": "ce6f76df-05ca-4b41-9d3c-842747f36d7a",
     "showTitle": false,
     "tableResultSettingsMap": {},
     "title": ""
    }
   },
   "outputs": [
    {
     "output_type": "stream",
     "name": "stdout",
     "output_type": "stream",
     "text": [
      "model saved as /Workspace/MicrosoftLearnings/dbfs/deepml_lab/penguin_classifier.pt\n"
     ]
    }
   ],
   "source": [
    "# Save the model weights\n",
    "model_file = '/Workspace/MicrosoftLearnings/dbfs/deepml_lab/penguin_classifier.pt'\n",
    "torch.save(model.state_dict(), model_file)\n",
    "del model\n",
    "print('model saved as', model_file)"
   ]
  },
  {
   "cell_type": "markdown",
   "metadata": {
    "application/vnd.databricks.v1+cell": {
     "cellMetadata": {},
     "inputWidgets": {},
     "nuid": "9a090dc3-cb60-46a8-9351-c996fde3fb98",
     "showTitle": false,
     "tableResultSettingsMap": {},
     "title": ""
    }
   },
   "source": [
    "### Use the following code to load the model weights and predict the species for a new penguin observation:"
   ]
  },
  {
   "cell_type": "code",
   "execution_count": 0,
   "metadata": {
    "application/vnd.databricks.v1+cell": {
     "cellMetadata": {
      "byteLimit": 2048000,
      "rowLimit": 10000
     },
     "inputWidgets": {},
     "nuid": "3c768316-34c8-46df-a1c8-07de89f49d6e",
     "showTitle": false,
     "tableResultSettingsMap": {},
     "title": ""
    }
   },
   "outputs": [
    {
     "output_type": "stream",
     "name": "stdout",
     "output_type": "stream",
     "text": [
      "New sample: [[1, 50.4, 15.3, 20, 50]]\nPrediction: 1\n"
     ]
    }
   ],
   "source": [
    "# New penguin features\n",
    "x_new = [[1, 50.4,15.3,20,50]]\n",
    "print ('New sample: {}'.format(x_new))\n",
    "   \n",
    "# Create a new model class and load weights\n",
    "model = PenguinNet()\n",
    "model.load_state_dict(torch.load(model_file))\n",
    "   \n",
    "# Set model to evaluation mode\n",
    "model.eval()\n",
    "   \n",
    "# Get a prediction for the new data sample\n",
    "x = torch.Tensor(x_new).float()\n",
    "_, predicted = torch.max(model(x).data, 1)\n",
    "   \n",
    "print('Prediction:',predicted.item())"
   ]
  },
  {
   "cell_type": "code",
   "execution_count": 0,
   "metadata": {
    "application/vnd.databricks.v1+cell": {
     "cellMetadata": {
      "byteLimit": 2048000,
      "rowLimit": 10000
     },
     "inputWidgets": {},
     "nuid": "ee8ad046-b914-4e60-83ad-8ae751e32f87",
     "showTitle": false,
     "tableResultSettingsMap": {},
     "title": ""
    }
   },
   "outputs": [
    {
     "output_type": "display_data",
     "data": {
      "text/html": [
       "<style scoped>\n",
       "  .table-result-container {\n",
       "    max-height: 300px;\n",
       "    overflow: auto;\n",
       "  }\n",
       "  table, th, td {\n",
       "    border: 1px solid black;\n",
       "    border-collapse: collapse;\n",
       "  }\n",
       "  th, td {\n",
       "    padding: 5px;\n",
       "  }\n",
       "  th {\n",
       "    text-align: left;\n",
       "  }\n",
       "</style><div class='table-result-container'><table class='table-result'><thead style='background-color: white'><tr><th>Island</th><th>IslandIdx</th></tr></thead><tbody><tr><td>Dream</td><td>0</td></tr><tr><td>Torgersen</td><td>1</td></tr><tr><td>Biscoe</td><td>2</td></tr></tbody></table></div>"
      ]
     },
     "metadata": {
      "application/vnd.databricks.v1+output": {
       "addedWidgets": {},
       "aggData": [],
       "aggError": "",
       "aggOverflow": false,
       "aggSchema": [],
       "aggSeriesLimitReached": false,
       "aggType": "",
       "arguments": {},
       "columnCustomDisplayInfos": {},
       "data": [
        [
         "Dream",
         0
        ],
        [
         "Torgersen",
         1
        ],
        [
         "Biscoe",
         2
        ]
       ],
       "datasetInfos": [],
       "dbfsResultPath": null,
       "isJsonSchema": true,
       "metadata": {},
       "overflow": false,
       "plotOptions": {
        "customPlotOptions": {},
        "displayType": "table",
        "pivotAggregation": null,
        "pivotColumns": null,
        "xColumns": null,
        "yColumns": null
       },
       "removedWidgets": [],
       "schema": [
        {
         "metadata": "{}",
         "name": "Island",
         "type": "\"string\""
        },
        {
         "metadata": "{}",
         "name": "IslandIdx",
         "type": "\"long\""
        }
       ],
       "type": "table"
      }
     },
     "output_type": "display_data"
    }
   ],
   "source": [
    "display(df_indexes)"
   ]
  },
  {
   "cell_type": "code",
   "execution_count": 0,
   "metadata": {
    "application/vnd.databricks.v1+cell": {
     "cellMetadata": {},
     "inputWidgets": {},
     "nuid": "f895194e-5433-4cc2-b39c-269fb1d776ab",
     "showTitle": false,
     "tableResultSettingsMap": {},
     "title": ""
    }
   },
   "outputs": [],
   "source": []
  }
 ],
 "metadata": {
  "application/vnd.databricks.v1+notebook": {
   "computePreferences": null,
   "dashboards": [],
   "environmentMetadata": {
    "base_environment": "",
    "environment_version": "3"
   },
   "inputWidgetPreferences": null,
   "language": "python",
   "notebookMetadata": {
    "mostRecentlyExecutedCommandWithImplicitDF": {
     "commandId": 8302031705791716,
     "dataframes": [
      "_sqldf"
     ]
    },
    "pythonIndentUnit": 4
   },
   "notebookName": "7_Train deep learning models in Azure Databricks",
   "widgets": {}
  },
  "language_info": {
   "name": "python"
  }
 },
 "nbformat": 4,
 "nbformat_minor": 0
}