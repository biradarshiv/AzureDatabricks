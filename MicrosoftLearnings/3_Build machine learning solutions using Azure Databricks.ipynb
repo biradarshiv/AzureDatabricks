{
 "cells": [
  {
   "cell_type": "markdown",
   "metadata": {
    "application/vnd.databricks.v1+cell": {
     "cellMetadata": {},
     "inputWidgets": {},
     "nuid": "808193f1-89db-4013-ae7c-1d9b7373e50e",
     "showTitle": false,
     "tableResultSettingsMap": {},
     "title": ""
    }
   },
   "source": [
    "## Evaluate a machine learning model"
   ]
  },
  {
   "cell_type": "code",
   "execution_count": 0,
   "metadata": {
    "application/vnd.databricks.v1+cell": {
     "cellMetadata": {},
     "inputWidgets": {},
     "nuid": "c9957b05-e0ce-4b9a-8723-2824f7bb7b44",
     "showTitle": false,
     "tableResultSettingsMap": {},
     "title": ""
    }
   },
   "outputs": [],
   "source": [
    "#Evaluating regression models\n",
    "from pyspark.ml.evaluation import RegressionEvaluator\n",
    "\n",
    "# Inference predicted labels from validation data\n",
    "predictions_df = model.transform(validation_df)\n",
    "\n",
    "# Assume predictions_df includes a 'prediction' column with the predicted labels\n",
    "# and a 'label' column with the actual known label values\n",
    "\n",
    "# Use an evaluator to get metrics\n",
    "evaluator = RegressionEvaluator()\n",
    "evaluator.setPredictionCol(\"prediction\")\n",
    "mse = evaluator.evaluate(predictions_df, {evaluator.metricName: \"mse\"})\n",
    "rmse = evaluator.evaluate(predictions_df, {evaluator.metricName: \"rmse\"})\n",
    "r2 = evaluator.evaluate(predictions_df, {evaluator.metricName: \"r2\"})\n",
    "print(\"MSE:\", str(mse))\n",
    "print(\"RMSE:\", str(rmse))\n",
    "print(\"R2\", str(r2))"
   ]
  },
  {
   "cell_type": "code",
   "execution_count": 0,
   "metadata": {
    "application/vnd.databricks.v1+cell": {
     "cellMetadata": {},
     "inputWidgets": {},
     "nuid": "881821ee-ec4a-4a16-a142-603a3c803842",
     "showTitle": false,
     "tableResultSettingsMap": {},
     "title": ""
    }
   },
   "outputs": [],
   "source": [
    "#Evaluating classification models\n",
    "\n",
    "from pyspark.ml.evaluation import MulticlassClassificationEvaluator\n",
    "\n",
    "# Inference predicted labels from validation data\n",
    "predictions_df = model.transform(validation_df)\n",
    "\n",
    "# Assume predictions_df includes a 'prediction' column with the predicted labels\n",
    "# and a 'label' column with the actual known label values\n",
    "\n",
    "# Use an evaluator to get metrics\n",
    "accuracy = evaluator.evaluate(predictions_df, {evaluator.metricName:\"accuracy\"})\n",
    "print(\"Accuracy:\", accuracy)\n",
    "\n",
    "labels = [0,1,2]\n",
    "print(\"\\nIndividual class metrics:\")\n",
    "for label in sorted(labels):\n",
    "    print (\"Class %s\" % (label))\n",
    "    precision = evaluator.evaluate(predictions_df, {evaluator.metricLabel:label,\n",
    "                                                    evaluator.metricName:\"precisionByLabel\"})\n",
    "    print(\"\\tPrecision:\", precision)\n",
    "    recall = evaluator.evaluate(predictions_df, {evaluator.metricLabel:label,\n",
    "                                                 evaluator.metricName:\"recallByLabel\"})\n",
    "    print(\"\\tRecall:\", recall)\n",
    "    f1 = evaluator.evaluate(predictions_df, {evaluator.metricLabel:label,\n",
    "                                             evaluator.metricName:\"fMeasureByLabel\"})\n",
    "    print(\"\\tF1 Score:\", f1)\n",
    "    \n",
    "overallPrecision = evaluator.evaluate(predictions_df, {evaluator.metricName:\"weightedPrecision\"})\n",
    "print(\"Overall Precision:\", overallPrecision)\n",
    "overallRecall = evaluator.evaluate(predictions_df, {evaluator.metricName:\"weightedRecall\"})\n",
    "print(\"Overall Recall:\", overallRecall)\n",
    "overallF1 = evaluator.evaluate(predictions_df, {evaluator.metricName:\"weightedFMeasure\"})\n",
    "print(\"Overall F1 Score:\", overallF1)"
   ]
  },
  {
   "cell_type": "code",
   "execution_count": 0,
   "metadata": {
    "application/vnd.databricks.v1+cell": {
     "cellMetadata": {},
     "inputWidgets": {},
     "nuid": "acbb1d42-7c43-4b95-9393-88b2e7ec8dcc",
     "showTitle": false,
     "tableResultSettingsMap": {},
     "title": ""
    }
   },
   "outputs": [],
   "source": [
    "# Evaluating unsupervised clustering models\n",
    "\n",
    "# The Spark MLlib library provides the ClusteringEvaluator class, which computes the Silhouette for the predictions made by a clustering model as shown here:\n",
    "\n",
    "from pyspark.ml.evaluation import ClusteringEvaluator\n",
    "from pyspark.ml.linalg import Vectors\n",
    "\n",
    "# Inference predicted labels from validation data\n",
    "predictions_df = model.transform(validation_df)\n",
    "\n",
    "# Assume predictions_df includes a 'prediction' column with the predicted cluster\n",
    "\n",
    "# Use an evaluator to get metrics\n",
    "evaluator = ClusteringEvaluator(predictionCol=\"prediction\")\n",
    "silhouetteVal = evaluator.evaluate(predictions_df)\n",
    "print(silhouetteVal)\n"
   ]
  },
  {
   "cell_type": "markdown",
   "metadata": {
    "application/vnd.databricks.v1+cell": {
     "cellMetadata": {},
     "inputWidgets": {},
     "nuid": "58e03e73-60af-46d5-9767-0c2fc364bd05",
     "showTitle": false,
     "tableResultSettingsMap": {},
     "title": ""
    }
   },
   "source": [
    "# Exercise"
   ]
  },
  {
   "cell_type": "markdown",
   "metadata": {
    "application/vnd.databricks.v1+cell": {
     "cellMetadata": {},
     "inputWidgets": {},
     "nuid": "a87167f1-2d7f-44cf-807f-5a96bdf0f519",
     "showTitle": false,
     "tableResultSettingsMap": {},
     "title": ""
    }
   },
   "source": [
    "## Ingest data"
   ]
  },
  {
   "cell_type": "code",
   "execution_count": 0,
   "metadata": {
    "application/vnd.databricks.v1+cell": {
     "cellMetadata": {
      "byteLimit": 2048000,
      "rowLimit": 10000
     },
     "inputWidgets": {},
     "nuid": "d871c30f-d631-4754-abd5-4146cb5939fd",
     "showTitle": false,
     "tableResultSettingsMap": {},
     "title": ""
    }
   },
   "outputs": [
    {
     "output_type": "stream",
     "name": "stderr",
     "output_type": "stream",
     "text": [
      "--2025-09-21 07:28:28--  https://raw.githubusercontent.com/MicrosoftLearning/mslearn-databricks/main/data/penguins.csv\nResolving raw.githubusercontent.com (raw.githubusercontent.com)... 185.199.110.133, 185.199.111.133, 185.199.108.133, ...\nConnecting to raw.githubusercontent.com (raw.githubusercontent.com)|185.199.110.133|:443... connected.\nHTTP request sent, awaiting response... 200 OK\nLength: 9533 (9.3K) [text/plain]\nSaving to: ‘dbfs/ml_lab/penguins.csv’\n\n     0K .........                                             100% 1.94M=0.005s\n\n2025-09-21 07:28:28 (1.94 MB/s) - ‘dbfs/ml_lab/penguins.csv’ saved [9533/9533]\n\n"
     ]
    }
   ],
   "source": [
    "%sh\n",
    "rm -r dbfs/ml_lab\n",
    "mkdir dbfs/ml_lab\n",
    "wget -O dbfs/ml_lab/penguins.csv https://raw.githubusercontent.com/MicrosoftLearning/mslearn-databricks/main/data/penguins.csv"
   ]
  },
  {
   "cell_type": "markdown",
   "metadata": {
    "application/vnd.databricks.v1+cell": {
     "cellMetadata": {},
     "inputWidgets": {},
     "nuid": "c852da9b-d60a-47b6-a80d-3b932974af81",
     "showTitle": false,
     "tableResultSettingsMap": {},
     "title": ""
    }
   },
   "source": [
    "## Explore and clean up the data"
   ]
  },
  {
   "cell_type": "markdown",
   "metadata": {
    "application/vnd.databricks.v1+cell": {
     "cellMetadata": {},
     "inputWidgets": {},
     "nuid": "7be0301a-0b12-497e-bfbb-fd763037868c",
     "showTitle": false,
     "tableResultSettingsMap": {},
     "title": ""
    }
   },
   "source": [
    "The data itself consists of measurements of the following details of penguins that have been observed in Antarctica:\n",
    "\n",
    "- Island: The island in Antarctica where the penguin was observed.\n",
    "- CulmenLength: The length in mm of the penguin’s culmen (bill).\n",
    "- CulmenDepth: The depth in mm of the penguin’s culmen.\n",
    "- FlipperLength: The length in mm of the penguin’s flipper.\n",
    "- BodyMass: The body mass of the penguin in grams.\n",
    "- Species: An integer value that represents the species of the penguin:\n",
    "0: Adelie\n",
    "1: Gentoo\n",
    "2: Chinstrap\n",
    "\n",
    "Our goal in this project is to use the observed characteristics of a penguin (its features) in order to predict its species (which in machine learning terminology, we call the label)."
   ]
  },
  {
   "cell_type": "code",
   "execution_count": 0,
   "metadata": {
    "application/vnd.databricks.v1+cell": {
     "cellMetadata": {
      "byteLimit": 2048000,
      "rowLimit": 10000
     },
     "inputWidgets": {},
     "nuid": "6d427ab9-7f78-4460-9d27-406cf618754a",
     "showTitle": false,
     "tableResultSettingsMap": {},
     "title": ""
    }
   },
   "outputs": [
    {
     "output_type": "display_data",
     "data": {
      "text/html": [
       "<style scoped>\n",
       "  .table-result-container {\n",
       "    max-height: 300px;\n",
       "    overflow: auto;\n",
       "  }\n",
       "  table, th, td {\n",
       "    border: 1px solid black;\n",
       "    border-collapse: collapse;\n",
       "  }\n",
       "  th, td {\n",
       "    padding: 5px;\n",
       "  }\n",
       "  th {\n",
       "    text-align: left;\n",
       "  }\n",
       "</style><div class='table-result-container'><table class='table-result'><thead style='background-color: white'><tr><th>Island</th><th>CulmenLength</th><th>CulmenDepth</th><th>FlipperLength</th><th>BodyMass</th><th>Species</th></tr></thead><tbody><tr><td>Torgersen</td><td>39.1</td><td>18.7</td><td>181</td><td>3750</td><td>0</td></tr><tr><td>Torgersen</td><td>39.5</td><td>17.4</td><td>186</td><td>3800</td><td>0</td></tr><tr><td>Torgersen</td><td>40.3</td><td>18</td><td>195</td><td>3250</td><td>0</td></tr><tr><td>Torgersen</td><td>null</td><td>null</td><td>null</td><td>null</td><td>0</td></tr><tr><td>Torgersen</td><td>36.7</td><td>19.3</td><td>193</td><td>3450</td><td>0</td></tr><tr><td>Torgersen</td><td>39.3</td><td>20.6</td><td>190</td><td>3650</td><td>0</td></tr><tr><td>Torgersen</td><td>38.9</td><td>17.8</td><td>181</td><td>3625</td><td>0</td></tr><tr><td>Torgersen</td><td>39.2</td><td>19.6</td><td>195</td><td>4675</td><td>0</td></tr><tr><td>Torgersen</td><td>34.1</td><td>18.1</td><td>193</td><td>3475</td><td>0</td></tr></tbody></table></div>"
      ]
     },
     "metadata": {
      "application/vnd.databricks.v1+output": {
       "addedWidgets": {},
       "aggData": [],
       "aggError": "",
       "aggOverflow": false,
       "aggSchema": [],
       "aggSeriesLimitReached": false,
       "aggType": "",
       "arguments": {},
       "columnCustomDisplayInfos": {},
       "data": [
        [
         "Torgersen",
         "39.1",
         "18.7",
         "181",
         "3750",
         "0"
        ],
        [
         "Torgersen",
         "39.5",
         "17.4",
         "186",
         "3800",
         "0"
        ],
        [
         "Torgersen",
         "40.3",
         "18",
         "195",
         "3250",
         "0"
        ],
        [
         "Torgersen",
         null,
         null,
         null,
         null,
         "0"
        ],
        [
         "Torgersen",
         "36.7",
         "19.3",
         "193",
         "3450",
         "0"
        ],
        [
         "Torgersen",
         "39.3",
         "20.6",
         "190",
         "3650",
         "0"
        ],
        [
         "Torgersen",
         "38.9",
         "17.8",
         "181",
         "3625",
         "0"
        ],
        [
         "Torgersen",
         "39.2",
         "19.6",
         "195",
         "4675",
         "0"
        ],
        [
         "Torgersen",
         "34.1",
         "18.1",
         "193",
         "3475",
         "0"
        ]
       ],
       "datasetInfos": [],
       "dbfsResultPath": null,
       "isJsonSchema": true,
       "metadata": {},
       "overflow": false,
       "plotOptions": {
        "customPlotOptions": {},
        "displayType": "table",
        "pivotAggregation": null,
        "pivotColumns": null,
        "xColumns": null,
        "yColumns": null
       },
       "removedWidgets": [],
       "schema": [
        {
         "metadata": "{}",
         "name": "Island",
         "type": "\"string\""
        },
        {
         "metadata": "{}",
         "name": "CulmenLength",
         "type": "\"string\""
        },
        {
         "metadata": "{}",
         "name": "CulmenDepth",
         "type": "\"string\""
        },
        {
         "metadata": "{}",
         "name": "FlipperLength",
         "type": "\"string\""
        },
        {
         "metadata": "{}",
         "name": "BodyMass",
         "type": "\"string\""
        },
        {
         "metadata": "{}",
         "name": "Species",
         "type": "\"string\""
        }
       ],
       "type": "table"
      }
     },
     "output_type": "display_data"
    }
   ],
   "source": [
    "df = spark.read.format(\"csv\").option(\"header\", \"true\").load(\"file:/Workspace/MicrosoftLearnings/dbfs/ml_lab/penguins.csv\")\n",
    "display(df.limit(9))"
   ]
  },
  {
   "cell_type": "markdown",
   "metadata": {
    "application/vnd.databricks.v1+cell": {
     "cellMetadata": {
      "batchId": -7915695125888964,
      "byteLimit": 2048000,
      "rowLimit": 10000
     },
     "inputWidgets": {},
     "nuid": "cbd3c044-7183-41e7-9109-6b5fd384e07c",
     "showTitle": false,
     "tableResultSettingsMap": {},
     "title": ""
    }
   },
   "source": [
    "Run the following cell to remove the rows with incomplete data by using the dropna method, and to apply appropriate data types to the data by using the select method with the col and astype functions."
   ]
  },
  {
   "cell_type": "code",
   "execution_count": 0,
   "metadata": {
    "application/vnd.databricks.v1+cell": {
     "cellMetadata": {
      "byteLimit": 2048000,
      "rowLimit": 10000
     },
     "inputWidgets": {},
     "nuid": "45245167-e9c9-491f-a429-6350a016f709",
     "showTitle": false,
     "tableResultSettingsMap": {},
     "title": ""
    }
   },
   "outputs": [
    {
     "output_type": "display_data",
     "data": {
      "text/html": [
       "<style scoped>\n",
       "  .table-result-container {\n",
       "    max-height: 300px;\n",
       "    overflow: auto;\n",
       "  }\n",
       "  table, th, td {\n",
       "    border: 1px solid black;\n",
       "    border-collapse: collapse;\n",
       "  }\n",
       "  th, td {\n",
       "    padding: 5px;\n",
       "  }\n",
       "  th {\n",
       "    text-align: left;\n",
       "  }\n",
       "</style><div class='table-result-container'><table class='table-result'><thead style='background-color: white'><tr><th>Island</th><th>CulmenLength</th><th>CulmenDepth</th><th>FlipperLength</th><th>BodyMass</th><th>Species</th></tr></thead><tbody><tr><td>Torgersen</td><td>39.1</td><td>18.7</td><td>181.0</td><td>3750.0</td><td>0</td></tr><tr><td>Torgersen</td><td>39.5</td><td>17.4</td><td>186.0</td><td>3800.0</td><td>0</td></tr><tr><td>Torgersen</td><td>40.3</td><td>18.0</td><td>195.0</td><td>3250.0</td><td>0</td></tr><tr><td>Torgersen</td><td>36.7</td><td>19.3</td><td>193.0</td><td>3450.0</td><td>0</td></tr><tr><td>Torgersen</td><td>39.3</td><td>20.6</td><td>190.0</td><td>3650.0</td><td>0</td></tr><tr><td>Torgersen</td><td>38.9</td><td>17.8</td><td>181.0</td><td>3625.0</td><td>0</td></tr><tr><td>Torgersen</td><td>39.2</td><td>19.6</td><td>195.0</td><td>4675.0</td><td>0</td></tr><tr><td>Torgersen</td><td>34.1</td><td>18.1</td><td>193.0</td><td>3475.0</td><td>0</td></tr><tr><td>Torgersen</td><td>42.0</td><td>20.2</td><td>190.0</td><td>4250.0</td><td>0</td></tr></tbody></table></div>"
      ]
     },
     "metadata": {
      "application/vnd.databricks.v1+output": {
       "addedWidgets": {},
       "aggData": [],
       "aggError": "",
       "aggOverflow": false,
       "aggSchema": [],
       "aggSeriesLimitReached": false,
       "aggType": "",
       "arguments": {},
       "columnCustomDisplayInfos": {},
       "data": [
        [
         "Torgersen",
         39.1,
         18.7,
         181.0,
         3750.0,
         0
        ],
        [
         "Torgersen",
         39.5,
         17.4,
         186.0,
         3800.0,
         0
        ],
        [
         "Torgersen",
         40.3,
         18.0,
         195.0,
         3250.0,
         0
        ],
        [
         "Torgersen",
         36.7,
         19.3,
         193.0,
         3450.0,
         0
        ],
        [
         "Torgersen",
         39.3,
         20.6,
         190.0,
         3650.0,
         0
        ],
        [
         "Torgersen",
         38.9,
         17.8,
         181.0,
         3625.0,
         0
        ],
        [
         "Torgersen",
         39.2,
         19.6,
         195.0,
         4675.0,
         0
        ],
        [
         "Torgersen",
         34.1,
         18.1,
         193.0,
         3475.0,
         0
        ],
        [
         "Torgersen",
         42.0,
         20.2,
         190.0,
         4250.0,
         0
        ]
       ],
       "datasetInfos": [],
       "dbfsResultPath": null,
       "isJsonSchema": true,
       "metadata": {},
       "overflow": false,
       "plotOptions": {
        "customPlotOptions": {},
        "displayType": "table",
        "pivotAggregation": null,
        "pivotColumns": null,
        "xColumns": null,
        "yColumns": null
       },
       "removedWidgets": [],
       "schema": [
        {
         "metadata": "{}",
         "name": "Island",
         "type": "\"string\""
        },
        {
         "metadata": "{}",
         "name": "CulmenLength",
         "type": "\"float\""
        },
        {
         "metadata": "{}",
         "name": "CulmenDepth",
         "type": "\"float\""
        },
        {
         "metadata": "{}",
         "name": "FlipperLength",
         "type": "\"float\""
        },
        {
         "metadata": "{}",
         "name": "BodyMass",
         "type": "\"float\""
        },
        {
         "metadata": "{}",
         "name": "Species",
         "type": "\"integer\""
        }
       ],
       "type": "table"
      }
     },
     "output_type": "display_data"
    }
   ],
   "source": [
    "from pyspark.sql.types import *\n",
    "from pyspark.sql.functions import *\n",
    "   \n",
    "data = df.dropna().select(col(\"Island\").astype(\"string\"),\n",
    "                           col(\"CulmenLength\").astype(\"float\"),\n",
    "                          col(\"CulmenDepth\").astype(\"float\"),\n",
    "                          col(\"FlipperLength\").astype(\"float\"),\n",
    "                          col(\"BodyMass\").astype(\"float\"),\n",
    "                          col(\"Species\").astype(\"int\")\n",
    "                          )\n",
    "display(data.limit(9))"
   ]
  },
  {
   "cell_type": "markdown",
   "metadata": {
    "application/vnd.databricks.v1+cell": {
     "cellMetadata": {
      "batchId": -7915695125888964,
      "byteLimit": 2048000,
      "rowLimit": 10000
     },
     "inputWidgets": {},
     "nuid": "65adc0f5-c255-4b9a-af67-bf42b303750e",
     "showTitle": false,
     "tableResultSettingsMap": {},
     "title": ""
    }
   },
   "source": [
    "## Split the data"
   ]
  },
  {
   "cell_type": "code",
   "execution_count": 0,
   "metadata": {
    "application/vnd.databricks.v1+cell": {
     "cellMetadata": {
      "byteLimit": 2048000,
      "rowLimit": 10000
     },
     "inputWidgets": {},
     "nuid": "fd6cda3c-ae38-4fb8-a605-0151ec4becf3",
     "showTitle": false,
     "tableResultSettingsMap": {},
     "title": ""
    }
   },
   "outputs": [
    {
     "output_type": "stream",
     "name": "stdout",
     "output_type": "stream",
     "text": [
      "Training Rows: 219  Testing Rows: 123\n"
     ]
    }
   ],
   "source": [
    "splits = data.randomSplit([0.7, 0.3])\n",
    "train = splits[0]\n",
    "test = splits[1]\n",
    "print (\"Training Rows:\", train.count(), \" Testing Rows:\", test.count())"
   ]
  },
  {
   "cell_type": "markdown",
   "metadata": {
    "application/vnd.databricks.v1+cell": {
     "cellMetadata": {
      "batchId": -7915695125888964,
      "byteLimit": 2048000,
      "rowLimit": 10000
     },
     "inputWidgets": {},
     "nuid": "58fa511b-db47-46fb-96b4-a58e661a79b1",
     "showTitle": false,
     "tableResultSettingsMap": {},
     "title": ""
    }
   },
   "source": [
    "## Perform feature engineering"
   ]
  },
  {
   "cell_type": "markdown",
   "metadata": {
    "application/vnd.databricks.v1+cell": {
     "cellMetadata": {
      "batchId": -7915695125888964,
      "byteLimit": 2048000,
      "rowLimit": 10000
     },
     "inputWidgets": {},
     "nuid": "69c641eb-ff30-44eb-ab97-ce476e5925a8",
     "showTitle": false,
     "tableResultSettingsMap": {},
     "title": ""
    }
   },
   "source": [
    "### Encode categorical features - eg: Island Name in this case"
   ]
  },
  {
   "cell_type": "code",
   "execution_count": 0,
   "metadata": {
    "application/vnd.databricks.v1+cell": {
     "cellMetadata": {
      "byteLimit": 2048000,
      "rowLimit": 10000
     },
     "inputWidgets": {},
     "nuid": "34e4eb8f-75d2-4a41-9ca6-3db918fde5b7",
     "showTitle": false,
     "tableResultSettingsMap": {},
     "title": ""
    }
   },
   "outputs": [
    {
     "output_type": "display_data",
     "data": {
      "text/html": [
       "<style scoped>\n",
       "  .table-result-container {\n",
       "    max-height: 300px;\n",
       "    overflow: auto;\n",
       "  }\n",
       "  table, th, td {\n",
       "    border: 1px solid black;\n",
       "    border-collapse: collapse;\n",
       "  }\n",
       "  th, td {\n",
       "    padding: 5px;\n",
       "  }\n",
       "  th {\n",
       "    text-align: left;\n",
       "  }\n",
       "</style><div class='table-result-container'><table class='table-result'><thead style='background-color: white'><tr><th>Island</th><th>CulmenLength</th><th>CulmenDepth</th><th>FlipperLength</th><th>BodyMass</th><th>Species</th></tr></thead><tbody><tr><td>Biscoe</td><td>35.0</td><td>17.9</td><td>190.0</td><td>3450.0</td><td>0</td></tr><tr><td>Biscoe</td><td>35.0</td><td>17.9</td><td>192.0</td><td>3725.0</td><td>0</td></tr><tr><td>Biscoe</td><td>35.3</td><td>18.9</td><td>187.0</td><td>3800.0</td><td>0</td></tr><tr><td>Biscoe</td><td>35.7</td><td>16.9</td><td>185.0</td><td>3150.0</td><td>0</td></tr><tr><td>Biscoe</td><td>35.9</td><td>19.2</td><td>189.0</td><td>3800.0</td><td>0</td></tr><tr><td>Biscoe</td><td>36.4</td><td>17.1</td><td>184.0</td><td>2850.0</td><td>0</td></tr><tr><td>Biscoe</td><td>36.5</td><td>16.6</td><td>181.0</td><td>2850.0</td><td>0</td></tr><tr><td>Biscoe</td><td>37.6</td><td>17.0</td><td>185.0</td><td>3600.0</td><td>0</td></tr><tr><td>Biscoe</td><td>37.6</td><td>19.1</td><td>194.0</td><td>3750.0</td><td>0</td></tr></tbody></table></div>"
      ]
     },
     "metadata": {
      "application/vnd.databricks.v1+output": {
       "addedWidgets": {},
       "aggData": [],
       "aggError": "",
       "aggOverflow": false,
       "aggSchema": [],
       "aggSeriesLimitReached": false,
       "aggType": "",
       "arguments": {},
       "columnCustomDisplayInfos": {},
       "data": [
        [
         "Biscoe",
         35.0,
         17.9,
         190.0,
         3450.0,
         0
        ],
        [
         "Biscoe",
         35.0,
         17.9,
         192.0,
         3725.0,
         0
        ],
        [
         "Biscoe",
         35.3,
         18.9,
         187.0,
         3800.0,
         0
        ],
        [
         "Biscoe",
         35.7,
         16.9,
         185.0,
         3150.0,
         0
        ],
        [
         "Biscoe",
         35.9,
         19.2,
         189.0,
         3800.0,
         0
        ],
        [
         "Biscoe",
         36.4,
         17.1,
         184.0,
         2850.0,
         0
        ],
        [
         "Biscoe",
         36.5,
         16.6,
         181.0,
         2850.0,
         0
        ],
        [
         "Biscoe",
         37.6,
         17.0,
         185.0,
         3600.0,
         0
        ],
        [
         "Biscoe",
         37.6,
         19.1,
         194.0,
         3750.0,
         0
        ]
       ],
       "datasetInfos": [],
       "dbfsResultPath": null,
       "isJsonSchema": true,
       "metadata": {},
       "overflow": false,
       "plotOptions": {
        "customPlotOptions": {},
        "displayType": "table",
        "pivotAggregation": null,
        "pivotColumns": null,
        "xColumns": null,
        "yColumns": null
       },
       "removedWidgets": [],
       "schema": [
        {
         "metadata": "{}",
         "name": "Island",
         "type": "\"string\""
        },
        {
         "metadata": "{}",
         "name": "CulmenLength",
         "type": "\"float\""
        },
        {
         "metadata": "{}",
         "name": "CulmenDepth",
         "type": "\"float\""
        },
        {
         "metadata": "{}",
         "name": "FlipperLength",
         "type": "\"float\""
        },
        {
         "metadata": "{}",
         "name": "BodyMass",
         "type": "\"float\""
        },
        {
         "metadata": "{}",
         "name": "Species",
         "type": "\"integer\""
        }
       ],
       "type": "table"
      }
     },
     "output_type": "display_data"
    }
   ],
   "source": [
    "display(train.limit(9))"
   ]
  },
  {
   "cell_type": "code",
   "execution_count": 0,
   "metadata": {
    "application/vnd.databricks.v1+cell": {
     "cellMetadata": {
      "byteLimit": 2048000,
      "rowLimit": 10000
     },
     "inputWidgets": {},
     "nuid": "61f5ac3d-d0f7-42c9-bd8d-b6e373dd063a",
     "showTitle": false,
     "tableResultSettingsMap": {},
     "title": ""
    }
   },
   "outputs": [
    {
     "output_type": "display_data",
     "data": {
      "text/html": [
       "<style scoped>\n",
       "  .table-result-container {\n",
       "    max-height: 300px;\n",
       "    overflow: auto;\n",
       "  }\n",
       "  table, th, td {\n",
       "    border: 1px solid black;\n",
       "    border-collapse: collapse;\n",
       "  }\n",
       "  th, td {\n",
       "    padding: 5px;\n",
       "  }\n",
       "  th {\n",
       "    text-align: left;\n",
       "  }\n",
       "</style><div class='table-result-container'><table class='table-result'><thead style='background-color: white'><tr><th>CulmenLength</th><th>CulmenDepth</th><th>FlipperLength</th><th>BodyMass</th><th>Species</th><th>IslandIdx</th></tr></thead><tbody><tr><td>35.0</td><td>17.9</td><td>190.0</td><td>3450.0</td><td>0</td><td>0.0</td></tr><tr><td>35.0</td><td>17.9</td><td>192.0</td><td>3725.0</td><td>0</td><td>0.0</td></tr><tr><td>35.3</td><td>18.9</td><td>187.0</td><td>3800.0</td><td>0</td><td>0.0</td></tr><tr><td>35.7</td><td>16.9</td><td>185.0</td><td>3150.0</td><td>0</td><td>0.0</td></tr><tr><td>35.9</td><td>19.2</td><td>189.0</td><td>3800.0</td><td>0</td><td>0.0</td></tr><tr><td>36.4</td><td>17.1</td><td>184.0</td><td>2850.0</td><td>0</td><td>0.0</td></tr><tr><td>36.5</td><td>16.6</td><td>181.0</td><td>2850.0</td><td>0</td><td>0.0</td></tr><tr><td>37.6</td><td>17.0</td><td>185.0</td><td>3600.0</td><td>0</td><td>0.0</td></tr><tr><td>37.6</td><td>19.1</td><td>194.0</td><td>3750.0</td><td>0</td><td>0.0</td></tr></tbody></table></div>"
      ]
     },
     "metadata": {
      "application/vnd.databricks.v1+output": {
       "addedWidgets": {},
       "aggData": [],
       "aggError": "",
       "aggOverflow": false,
       "aggSchema": [],
       "aggSeriesLimitReached": false,
       "aggType": "",
       "arguments": {},
       "columnCustomDisplayInfos": {},
       "data": [
        [
         35.0,
         17.9,
         190.0,
         3450.0,
         0,
         0.0
        ],
        [
         35.0,
         17.9,
         192.0,
         3725.0,
         0,
         0.0
        ],
        [
         35.3,
         18.9,
         187.0,
         3800.0,
         0,
         0.0
        ],
        [
         35.7,
         16.9,
         185.0,
         3150.0,
         0,
         0.0
        ],
        [
         35.9,
         19.2,
         189.0,
         3800.0,
         0,
         0.0
        ],
        [
         36.4,
         17.1,
         184.0,
         2850.0,
         0,
         0.0
        ],
        [
         36.5,
         16.6,
         181.0,
         2850.0,
         0,
         0.0
        ],
        [
         37.6,
         17.0,
         185.0,
         3600.0,
         0,
         0.0
        ],
        [
         37.6,
         19.1,
         194.0,
         3750.0,
         0,
         0.0
        ]
       ],
       "datasetInfos": [],
       "dbfsResultPath": null,
       "isJsonSchema": true,
       "metadata": {},
       "overflow": false,
       "plotOptions": {
        "customPlotOptions": {},
        "displayType": "table",
        "pivotAggregation": null,
        "pivotColumns": null,
        "xColumns": null,
        "yColumns": null
       },
       "removedWidgets": [],
       "schema": [
        {
         "metadata": "{}",
         "name": "CulmenLength",
         "type": "\"float\""
        },
        {
         "metadata": "{}",
         "name": "CulmenDepth",
         "type": "\"float\""
        },
        {
         "metadata": "{}",
         "name": "FlipperLength",
         "type": "\"float\""
        },
        {
         "metadata": "{}",
         "name": "BodyMass",
         "type": "\"float\""
        },
        {
         "metadata": "{}",
         "name": "Species",
         "type": "\"integer\""
        },
        {
         "metadata": "{\"ml_attr\":{\"vals\":[\"Biscoe\",\"Dream\",\"Torgersen\"],\"type\":\"nominal\",\"name\":\"IslandIdx\"}}",
         "name": "IslandIdx",
         "type": "\"double\""
        }
       ],
       "type": "table"
      }
     },
     "output_type": "display_data"
    }
   ],
   "source": [
    "from pyspark.ml.feature import StringIndexer\n",
    "\n",
    "indexer = StringIndexer(inputCol=\"Island\", outputCol=\"IslandIdx\")\n",
    "indexedData = indexer.fit(train).transform(train).drop(\"Island\")\n",
    "display(indexedData.limit(9))"
   ]
  },
  {
   "cell_type": "markdown",
   "metadata": {
    "application/vnd.databricks.v1+cell": {
     "cellMetadata": {
      "batchId": -7915695125888964,
      "byteLimit": 2048000,
      "rowLimit": 10000
     },
     "inputWidgets": {},
     "nuid": "324b07d6-8e43-4edd-a070-c0f865222209",
     "showTitle": false,
     "tableResultSettingsMap": {},
     "title": ""
    }
   },
   "source": [
    "### Normalize (scale) numeric features"
   ]
  },
  {
   "cell_type": "code",
   "execution_count": 0,
   "metadata": {
    "application/vnd.databricks.v1+cell": {
     "cellMetadata": {
      "byteLimit": 2048000,
      "rowLimit": 10000
     },
     "inputWidgets": {},
     "nuid": "369086ed-a326-4827-a6cc-73ad4b20f643",
     "showTitle": false,
     "tableResultSettingsMap": {},
     "title": ""
    }
   },
   "outputs": [
    {
     "output_type": "display_data",
     "data": {
      "text/html": [
       "<style scoped>\n",
       "  .table-result-container {\n",
       "    max-height: 300px;\n",
       "    overflow: auto;\n",
       "  }\n",
       "  table, th, td {\n",
       "    border: 1px solid black;\n",
       "    border-collapse: collapse;\n",
       "  }\n",
       "  th, td {\n",
       "    padding: 5px;\n",
       "  }\n",
       "  th {\n",
       "    text-align: left;\n",
       "  }\n",
       "</style><div class='table-result-container'><table class='table-result'><thead style='background-color: white'><tr><th>numericFeatures</th><th>normalizedFeatures</th></tr></thead><tbody><tr><td>Map(vectorType -> dense, length -> 4, values -> List(35.0, 17.899999618530273, 190.0, 3450.0))</td><td>Map(vectorType -> dense, length -> 4, values -> List(0.07169817078788325, 0.5949366416252734, 0.3050847457627119, 0.20833333333333334))</td></tr><tr><td>Map(vectorType -> dense, length -> 4, values -> List(35.0, 17.899999618530273, 192.0, 3725.0))</td><td>Map(vectorType -> dense, length -> 4, values -> List(0.07169817078788325, 0.5949366416252734, 0.3389830508474576, 0.2847222222222222))</td></tr><tr><td>Map(vectorType -> dense, length -> 4, values -> List(35.29999923706055, 18.899999618530273, 187.0, 3800.0))</td><td>Map(vectorType -> dense, length -> 4, values -> List(0.08301889671469634, 0.7215189109378106, 0.2542372881355932, 0.3055555555555556))</td></tr><tr><td>Map(vectorType -> dense, length -> 4, values -> List(35.70000076293945, 16.899999618530273, 185.0, 3150.0))</td><td>Map(vectorType -> dense, length -> 4, values -> List(0.09811329391767394, 0.4683543723127361, 0.22033898305084745, 0.125))</td></tr><tr><td>Map(vectorType -> dense, length -> 4, values -> List(35.900001525878906, 19.200000762939453, 189.0, 3800.0))</td><td>Map(vectorType -> dense, length -> 4, values -> List(0.10566049251916274, 0.7594937365934827, 0.288135593220339, 0.3055555555555556))</td></tr><tr><td>Map(vectorType -> dense, length -> 4, values -> List(36.400001525878906, 17.100000381469727, 184.0, 2850.0))</td><td>Map(vectorType -> dense, length -> 4, values -> List(0.12452841704746462, 0.49367092274985086, 0.2033898305084746, 0.041666666666666664))</td></tr><tr><td>Map(vectorType -> dense, length -> 4, values -> List(36.5, 16.600000381469727, 181.0, 2850.0))</td><td>Map(vectorType -> dense, length -> 4, values -> List(0.1283019443727889, 0.43037978809358224, 0.15254237288135594, 0.041666666666666664))</td></tr><tr><td>Map(vectorType -> dense, length -> 4, values -> List(37.599998474121094, 17.0, 185.0, 3600.0))</td><td>Map(vectorType -> dense, length -> 4, values -> List(0.16981132075471697, 0.48101264753129347, 0.22033898305084745, 0.25))</td></tr><tr><td>Map(vectorType -> dense, length -> 4, values -> List(37.599998474121094, 19.100000381469727, 194.0, 3750.0))</td><td>Map(vectorType -> dense, length -> 4, values -> List(0.16981132075471697, 0.7468354613749254, 0.3728813559322034, 0.2916666666666667))</td></tr></tbody></table></div>"
      ]
     },
     "metadata": {
      "application/vnd.databricks.v1+output": {
       "addedWidgets": {},
       "aggData": [],
       "aggError": "",
       "aggOverflow": false,
       "aggSchema": [],
       "aggSeriesLimitReached": false,
       "aggType": "",
       "arguments": {},
       "columnCustomDisplayInfos": {},
       "data": [
        [
         {
          "length": 4,
          "values": [
           35.0,
           17.899999618530273,
           190.0,
           3450.0
          ],
          "vectorType": "dense"
         },
         {
          "length": 4,
          "values": [
           0.07169817078788325,
           0.5949366416252734,
           0.3050847457627119,
           0.20833333333333334
          ],
          "vectorType": "dense"
         }
        ],
        [
         {
          "length": 4,
          "values": [
           35.0,
           17.899999618530273,
           192.0,
           3725.0
          ],
          "vectorType": "dense"
         },
         {
          "length": 4,
          "values": [
           0.07169817078788325,
           0.5949366416252734,
           0.3389830508474576,
           0.2847222222222222
          ],
          "vectorType": "dense"
         }
        ],
        [
         {
          "length": 4,
          "values": [
           35.29999923706055,
           18.899999618530273,
           187.0,
           3800.0
          ],
          "vectorType": "dense"
         },
         {
          "length": 4,
          "values": [
           0.08301889671469634,
           0.7215189109378106,
           0.2542372881355932,
           0.3055555555555556
          ],
          "vectorType": "dense"
         }
        ],
        [
         {
          "length": 4,
          "values": [
           35.70000076293945,
           16.899999618530273,
           185.0,
           3150.0
          ],
          "vectorType": "dense"
         },
         {
          "length": 4,
          "values": [
           0.09811329391767394,
           0.4683543723127361,
           0.22033898305084745,
           0.125
          ],
          "vectorType": "dense"
         }
        ],
        [
         {
          "length": 4,
          "values": [
           35.900001525878906,
           19.200000762939453,
           189.0,
           3800.0
          ],
          "vectorType": "dense"
         },
         {
          "length": 4,
          "values": [
           0.10566049251916274,
           0.7594937365934827,
           0.288135593220339,
           0.3055555555555556
          ],
          "vectorType": "dense"
         }
        ],
        [
         {
          "length": 4,
          "values": [
           36.400001525878906,
           17.100000381469727,
           184.0,
           2850.0
          ],
          "vectorType": "dense"
         },
         {
          "length": 4,
          "values": [
           0.12452841704746462,
           0.49367092274985086,
           0.2033898305084746,
           0.041666666666666664
          ],
          "vectorType": "dense"
         }
        ],
        [
         {
          "length": 4,
          "values": [
           36.5,
           16.600000381469727,
           181.0,
           2850.0
          ],
          "vectorType": "dense"
         },
         {
          "length": 4,
          "values": [
           0.1283019443727889,
           0.43037978809358224,
           0.15254237288135594,
           0.041666666666666664
          ],
          "vectorType": "dense"
         }
        ],
        [
         {
          "length": 4,
          "values": [
           37.599998474121094,
           17.0,
           185.0,
           3600.0
          ],
          "vectorType": "dense"
         },
         {
          "length": 4,
          "values": [
           0.16981132075471697,
           0.48101264753129347,
           0.22033898305084745,
           0.25
          ],
          "vectorType": "dense"
         }
        ],
        [
         {
          "length": 4,
          "values": [
           37.599998474121094,
           19.100000381469727,
           194.0,
           3750.0
          ],
          "vectorType": "dense"
         },
         {
          "length": 4,
          "values": [
           0.16981132075471697,
           0.7468354613749254,
           0.3728813559322034,
           0.2916666666666667
          ],
          "vectorType": "dense"
         }
        ]
       ],
       "datasetInfos": [],
       "dbfsResultPath": null,
       "isJsonSchema": true,
       "metadata": {},
       "overflow": false,
       "plotOptions": {
        "customPlotOptions": {},
        "displayType": "table",
        "pivotAggregation": null,
        "pivotColumns": null,
        "xColumns": null,
        "yColumns": null
       },
       "removedWidgets": [],
       "schema": [
        {
         "metadata": "{\"ml_attr\":{\"attrs\":{\"numeric\":[{\"idx\":0,\"name\":\"CulmenLength\"},{\"idx\":1,\"name\":\"CulmenDepth\"},{\"idx\":2,\"name\":\"FlipperLength\"},{\"idx\":3,\"name\":\"BodyMass\"}]},\"num_attrs\":4}}",
         "name": "numericFeatures",
         "type": "{\"type\":\"udt\",\"class\":\"org.apache.spark.ml.linalg.VectorUDT\",\"pyClass\":\"pyspark.ml.linalg.VectorUDT\",\"sqlType\":{\"type\":\"struct\",\"fields\":[{\"name\":\"type\",\"type\":\"byte\",\"nullable\":false,\"metadata\":{}},{\"name\":\"size\",\"type\":\"integer\",\"nullable\":true,\"metadata\":{}},{\"name\":\"indices\",\"type\":{\"type\":\"array\",\"elementType\":\"integer\",\"containsNull\":false},\"nullable\":true,\"metadata\":{}},{\"name\":\"values\",\"type\":{\"type\":\"array\",\"elementType\":\"double\",\"containsNull\":false},\"nullable\":true,\"metadata\":{}}]}}"
        },
        {
         "metadata": "{\"ml_attr\":{\"num_attrs\":4}}",
         "name": "normalizedFeatures",
         "type": "{\"type\":\"udt\",\"class\":\"org.apache.spark.ml.linalg.VectorUDT\",\"pyClass\":\"pyspark.ml.linalg.VectorUDT\",\"sqlType\":{\"type\":\"struct\",\"fields\":[{\"name\":\"type\",\"type\":\"byte\",\"nullable\":false,\"metadata\":{}},{\"name\":\"size\",\"type\":\"integer\",\"nullable\":true,\"metadata\":{}},{\"name\":\"indices\",\"type\":{\"type\":\"array\",\"elementType\":\"integer\",\"containsNull\":false},\"nullable\":true,\"metadata\":{}},{\"name\":\"values\",\"type\":{\"type\":\"array\",\"elementType\":\"double\",\"containsNull\":false},\"nullable\":true,\"metadata\":{}}]}}"
        }
       ],
       "type": "table"
      }
     },
     "output_type": "display_data"
    },
    {
     "output_type": "execute_result",
     "data": {
      "text/plain": [
       "'\\nThe numericFeatures column in the results contains a vector for each row. The vector includes four unscaled numeric values (the original measurements of the penguin). You can use the ▸ toggle to see the discrete values more clearly.\\n\\nThe normalizedFeatures column also contains a vector for each penguin observation, but this time the values in the vector are normalized to a relative scale based on the minimum and maximum values for each measurement.\\n'"
      ]
     },
     "execution_count": 6,
     "metadata": {},
     "output_type": "execute_result"
    }
   ],
   "source": [
    "from pyspark.ml.feature import VectorAssembler, MinMaxScaler\n",
    "\n",
    "# Create a vector column containing all numeric features\n",
    "numericFeatures = [\"CulmenLength\", \"CulmenDepth\", \"FlipperLength\", \"BodyMass\"]\n",
    "numericColVector = VectorAssembler(inputCols=numericFeatures, outputCol=\"numericFeatures\")\n",
    "vectorizedData = numericColVector.transform(indexedData)\n",
    "\n",
    "# Use a MinMax scaler to normalize the numeric values in the vector\n",
    "minMax = MinMaxScaler(inputCol = numericColVector.getOutputCol(), outputCol=\"normalizedFeatures\")\n",
    "scaledData = minMax.fit(vectorizedData).transform(vectorizedData)\n",
    "\n",
    "# Display the data with numeric feature vectors (before and after scaling)\n",
    "compareNumerics = scaledData.select(\"numericFeatures\", \"normalizedFeatures\")\n",
    "display(compareNumerics.limit(9))\n",
    "\n",
    "\"\"\"\n",
    "The numericFeatures column in the results contains a vector for each row. The vector includes four unscaled numeric values (the original measurements of the penguin). You can use the ▸ toggle to see the discrete values more clearly.\n",
    "\n",
    "The normalizedFeatures column also contains a vector for each penguin observation, but this time the values in the vector are normalized to a relative scale based on the minimum and maximum values for each measurement.\n",
    "\"\"\"\n",
    "\n"
   ]
  },
  {
   "cell_type": "markdown",
   "metadata": {
    "application/vnd.databricks.v1+cell": {
     "cellMetadata": {
      "batchId": -7915695125888964,
      "byteLimit": 2048000,
      "rowLimit": 10000
     },
     "inputWidgets": {},
     "nuid": "2cb22b77-13c0-4709-8c2c-32cd556cab14",
     "showTitle": false,
     "tableResultSettingsMap": {},
     "title": ""
    }
   },
   "source": [
    "### Prepare features and labels for training"
   ]
  },
  {
   "cell_type": "code",
   "execution_count": 0,
   "metadata": {
    "application/vnd.databricks.v1+cell": {
     "cellMetadata": {
      "byteLimit": 2048000,
      "rowLimit": 10000
     },
     "inputWidgets": {},
     "nuid": "60fb7fd1-44c9-446e-a4fa-313494530e34",
     "showTitle": false,
     "tableResultSettingsMap": {},
     "title": ""
    }
   },
   "outputs": [
    {
     "output_type": "display_data",
     "data": {
      "text/html": [
       "<style scoped>\n",
       "  .table-result-container {\n",
       "    max-height: 300px;\n",
       "    overflow: auto;\n",
       "  }\n",
       "  table, th, td {\n",
       "    border: 1px solid black;\n",
       "    border-collapse: collapse;\n",
       "  }\n",
       "  th, td {\n",
       "    padding: 5px;\n",
       "  }\n",
       "  th {\n",
       "    text-align: left;\n",
       "  }\n",
       "</style><div class='table-result-container'><table class='table-result'><thead style='background-color: white'><tr><th>features</th><th>label</th></tr></thead><tbody><tr><td>Map(vectorType -> dense, length -> 5, values -> List(0.0, 0.07169817078788325, 0.5949366416252734, 0.3050847457627119, 0.20833333333333334))</td><td>0</td></tr><tr><td>Map(vectorType -> dense, length -> 5, values -> List(0.0, 0.07169817078788325, 0.5949366416252734, 0.3389830508474576, 0.2847222222222222))</td><td>0</td></tr><tr><td>Map(vectorType -> dense, length -> 5, values -> List(0.0, 0.08301889671469634, 0.7215189109378106, 0.2542372881355932, 0.3055555555555556))</td><td>0</td></tr><tr><td>Map(vectorType -> dense, length -> 5, values -> List(0.0, 0.09811329391767394, 0.4683543723127361, 0.22033898305084745, 0.125))</td><td>0</td></tr><tr><td>Map(vectorType -> dense, length -> 5, values -> List(0.0, 0.10566049251916274, 0.7594937365934827, 0.288135593220339, 0.3055555555555556))</td><td>0</td></tr><tr><td>Map(vectorType -> dense, length -> 5, values -> List(0.0, 0.12452841704746462, 0.49367092274985086, 0.2033898305084746, 0.041666666666666664))</td><td>0</td></tr><tr><td>Map(vectorType -> dense, length -> 5, values -> List(0.0, 0.1283019443727889, 0.43037978809358224, 0.15254237288135594, 0.041666666666666664))</td><td>0</td></tr><tr><td>Map(vectorType -> dense, length -> 5, values -> List(0.0, 0.16981132075471697, 0.48101264753129347, 0.22033898305084745, 0.25))</td><td>0</td></tr><tr><td>Map(vectorType -> dense, length -> 5, values -> List(0.0, 0.16981132075471697, 0.7468354613749254, 0.3728813559322034, 0.2916666666666667))</td><td>0</td></tr></tbody></table></div>"
      ]
     },
     "metadata": {
      "application/vnd.databricks.v1+output": {
       "addedWidgets": {},
       "aggData": [],
       "aggError": "",
       "aggOverflow": false,
       "aggSchema": [],
       "aggSeriesLimitReached": false,
       "aggType": "",
       "arguments": {},
       "columnCustomDisplayInfos": {},
       "data": [
        [
         {
          "length": 5,
          "values": [
           0.0,
           0.07169817078788325,
           0.5949366416252734,
           0.3050847457627119,
           0.20833333333333334
          ],
          "vectorType": "dense"
         },
         0
        ],
        [
         {
          "length": 5,
          "values": [
           0.0,
           0.07169817078788325,
           0.5949366416252734,
           0.3389830508474576,
           0.2847222222222222
          ],
          "vectorType": "dense"
         },
         0
        ],
        [
         {
          "length": 5,
          "values": [
           0.0,
           0.08301889671469634,
           0.7215189109378106,
           0.2542372881355932,
           0.3055555555555556
          ],
          "vectorType": "dense"
         },
         0
        ],
        [
         {
          "length": 5,
          "values": [
           0.0,
           0.09811329391767394,
           0.4683543723127361,
           0.22033898305084745,
           0.125
          ],
          "vectorType": "dense"
         },
         0
        ],
        [
         {
          "length": 5,
          "values": [
           0.0,
           0.10566049251916274,
           0.7594937365934827,
           0.288135593220339,
           0.3055555555555556
          ],
          "vectorType": "dense"
         },
         0
        ],
        [
         {
          "length": 5,
          "values": [
           0.0,
           0.12452841704746462,
           0.49367092274985086,
           0.2033898305084746,
           0.041666666666666664
          ],
          "vectorType": "dense"
         },
         0
        ],
        [
         {
          "length": 5,
          "values": [
           0.0,
           0.1283019443727889,
           0.43037978809358224,
           0.15254237288135594,
           0.041666666666666664
          ],
          "vectorType": "dense"
         },
         0
        ],
        [
         {
          "length": 5,
          "values": [
           0.0,
           0.16981132075471697,
           0.48101264753129347,
           0.22033898305084745,
           0.25
          ],
          "vectorType": "dense"
         },
         0
        ],
        [
         {
          "length": 5,
          "values": [
           0.0,
           0.16981132075471697,
           0.7468354613749254,
           0.3728813559322034,
           0.2916666666666667
          ],
          "vectorType": "dense"
         },
         0
        ]
       ],
       "datasetInfos": [],
       "dbfsResultPath": null,
       "isJsonSchema": true,
       "metadata": {},
       "overflow": false,
       "plotOptions": {
        "customPlotOptions": {},
        "displayType": "table",
        "pivotAggregation": null,
        "pivotColumns": null,
        "xColumns": null,
        "yColumns": null
       },
       "removedWidgets": [],
       "schema": [
        {
         "metadata": "{\"ml_attr\":{\"attrs\":{\"numeric\":[{\"idx\":1,\"name\":\"normalizedFeatures_0\"},{\"idx\":2,\"name\":\"normalizedFeatures_1\"},{\"idx\":3,\"name\":\"normalizedFeatures_2\"},{\"idx\":4,\"name\":\"normalizedFeatures_3\"}],\"nominal\":[{\"vals\":[\"Biscoe\",\"Dream\",\"Torgersen\"],\"idx\":0,\"name\":\"IslandIdx\"}]},\"num_attrs\":5}}",
         "name": "features",
         "type": "{\"type\":\"udt\",\"class\":\"org.apache.spark.ml.linalg.VectorUDT\",\"pyClass\":\"pyspark.ml.linalg.VectorUDT\",\"sqlType\":{\"type\":\"struct\",\"fields\":[{\"name\":\"type\",\"type\":\"byte\",\"nullable\":false,\"metadata\":{}},{\"name\":\"size\",\"type\":\"integer\",\"nullable\":true,\"metadata\":{}},{\"name\":\"indices\",\"type\":{\"type\":\"array\",\"elementType\":\"integer\",\"containsNull\":false},\"nullable\":true,\"metadata\":{}},{\"name\":\"values\",\"type\":{\"type\":\"array\",\"elementType\":\"double\",\"containsNull\":false},\"nullable\":true,\"metadata\":{}}]}}"
        },
        {
         "metadata": "{}",
         "name": "label",
         "type": "\"integer\""
        }
       ],
       "type": "table"
      }
     },
     "output_type": "display_data"
    }
   ],
   "source": [
    "featVect = VectorAssembler(inputCols=[\"IslandIdx\", \"normalizedFeatures\"], outputCol=\"featuresVector\")\n",
    "preppedData = featVect.transform(scaledData)[col(\"featuresVector\").alias(\"features\"), col(\"Species\").alias(\"label\")]\n",
    "display(preppedData.limit(9))"
   ]
  },
  {
   "cell_type": "markdown",
   "metadata": {
    "application/vnd.databricks.v1+cell": {
     "cellMetadata": {
      "batchId": -7915695125888964,
      "byteLimit": 2048000,
      "rowLimit": 10000
     },
     "inputWidgets": {},
     "nuid": "b0a9491f-5805-4f93-986d-7094c061c998",
     "showTitle": false,
     "tableResultSettingsMap": {},
     "title": ""
    }
   },
   "source": [
    "## Train a machine learning model"
   ]
  },
  {
   "cell_type": "markdown",
   "metadata": {
    "application/vnd.databricks.v1+cell": {
     "cellMetadata": {
      "batchId": -7915695125888964,
      "byteLimit": 2048000,
      "rowLimit": 10000
     },
     "inputWidgets": {},
     "nuid": "227aad15-c1fe-42d4-a132-790f816931a3",
     "showTitle": false,
     "tableResultSettingsMap": {},
     "title": ""
    }
   },
   "source": [
    "Now that the training data is prepared, you can use it to train a model. Models are trained using an algorithm that tries to establish a relationship between the features and labels. Since in this case you want to train a model that predicts a category of class , you need to use a classification algorithm. There are many algorithms for classification - let’s start with a well-establish one: logistic regression, which iteratively attempts to find the optimal coefficients that can be applied to the features data in a logistic calculation that predicts the probability for each class label value. To train the model, you will fit the logistic regression algorithm to the training data."
   ]
  },
  {
   "cell_type": "code",
   "execution_count": 0,
   "metadata": {
    "application/vnd.databricks.v1+cell": {
     "cellMetadata": {
      "byteLimit": 2048000,
      "rowLimit": 10000
     },
     "inputWidgets": {},
     "nuid": "e1e5f75c-2bff-47b8-8557-abe96bc17d93",
     "showTitle": false,
     "tableResultSettingsMap": {},
     "title": ""
    }
   },
   "outputs": [
    {
     "output_type": "display_data",
     "data": {
      "application/vnd.jupyter.widget-view+json": {
       "model_id": "ccda636aa5b64a688eb5d5078a362480",
       "version_major": 2,
       "version_minor": 0
      },
      "text/plain": [
       "Downloading artifacts:   0%|          | 0/15 [00:00<?, ?it/s]"
      ]
     },
     "metadata": {},
     "output_type": "display_data"
    },
    {
     "output_type": "display_data",
     "data": {
      "application/vnd.jupyter.widget-view+json": {
       "model_id": "fd10867e43b241fe835bd16f09a137b6",
       "version_major": 2,
       "version_minor": 0
      },
      "text/plain": [
       "Uploading artifacts:   0%|          | 0/4 [00:00<?, ?it/s]"
      ]
     },
     "metadata": {},
     "output_type": "display_data"
    },
    {
     "output_type": "stream",
     "name": "stdout",
     "output_type": "stream",
     "text": [
      "Model trained!\n"
     ]
    }
   ],
   "source": [
    "from pyspark.ml.classification import LogisticRegression\n",
    "\n",
    "lr = LogisticRegression(labelCol=\"label\", featuresCol=\"features\", maxIter=10, regParam=0.3)\n",
    "model = lr.fit(preppedData)\n",
    "print (\"Model trained!\")"
   ]
  },
  {
   "cell_type": "markdown",
   "metadata": {
    "application/vnd.databricks.v1+cell": {
     "cellMetadata": {
      "batchId": -7915695125888964,
      "byteLimit": 2048000,
      "rowLimit": 10000
     },
     "inputWidgets": {},
     "nuid": "0ef5bc09-8f36-42c7-9504-155c9873837e",
     "showTitle": false,
     "tableResultSettingsMap": {},
     "title": ""
    }
   },
   "source": [
    "### Test the model"
   ]
  },
  {
   "cell_type": "markdown",
   "metadata": {
    "application/vnd.databricks.v1+cell": {
     "cellMetadata": {},
     "inputWidgets": {},
     "nuid": "6c1451b2-3950-49db-9e00-39c4cdfcf4ef",
     "showTitle": false,
     "tableResultSettingsMap": {},
     "title": ""
    }
   },
   "source": [
    "You need to perform the same feature engineering transformations to the test data as you applied to the training data (in this case, encode the island name and normalize the measurements). Then, you can use the model to predict labels for the features in the test data and compare the predicted labels to the actual known labels."
   ]
  },
  {
   "cell_type": "code",
   "execution_count": 0,
   "metadata": {
    "application/vnd.databricks.v1+cell": {
     "cellMetadata": {
      "byteLimit": 2048000,
      "rowLimit": 10000
     },
     "inputWidgets": {},
     "nuid": "7dbed53e-2768-4cee-bb70-e19a477161ec",
     "showTitle": false,
     "tableResultSettingsMap": {},
     "title": ""
    }
   },
   "outputs": [
    {
     "output_type": "display_data",
     "data": {
      "text/html": [
       "<style scoped>\n",
       "  .table-result-container {\n",
       "    max-height: 300px;\n",
       "    overflow: auto;\n",
       "  }\n",
       "  table, th, td {\n",
       "    border: 1px solid black;\n",
       "    border-collapse: collapse;\n",
       "  }\n",
       "  th, td {\n",
       "    padding: 5px;\n",
       "  }\n",
       "  th {\n",
       "    text-align: left;\n",
       "  }\n",
       "</style><div class='table-result-container'><table class='table-result'><thead style='background-color: white'><tr><th>features</th><th>probability</th><th>prediction</th><th>trueLabel</th></tr></thead><tbody><tr><td>Map(vectorType -> dense, length -> 5, values -> List(1.0, 0.10126588390798179, 0.5952381222696814, 0.23214285714285712, 0.0))</td><td>Map(vectorType -> dense, length -> 3, values -> List(0.8294058579580259, 0.038026612709396015, 0.13256752933257793))</td><td>0</td><td>0</td></tr><tr><td>Map(vectorType -> dense, length -> 5, values -> List(1.0, 0.1434599753766933, 0.3690476812202672, 0.375, 0.14516129032258066))</td><td>Map(vectorType -> dense, length -> 3, values -> List(0.7236973028229982, 0.1263491713921393, 0.14995352578486257))</td><td>0</td><td>0</td></tr><tr><td>Map(vectorType -> dense, length -> 5, values -> List(1.0, 0.24050635356319272, 0.6190475109212744, 0.0, 0.16129032258064516))</td><td>Map(vectorType -> dense, length -> 3, values -> List(0.7795747520120259, 0.039322401425116504, 0.18110284656285766))</td><td>0</td><td>0</td></tr><tr><td>Map(vectorType -> dense, length -> 5, values -> List(1.0, 0.25316454881226913, 0.40476187773031863, 0.42857142857142855, 0.29838709677419356))</td><td>Map(vectorType -> dense, length -> 3, values -> List(0.601306138564913, 0.20571754327737657, 0.19297631815771044))</td><td>0</td><td>0</td></tr><tr><td>Map(vectorType -> dense, length -> 5, values -> List(1.0, 0.27426159454662485, 0.4880953056742035, 0.4464285714285714, 0.27419354838709675))</td><td>Map(vectorType -> dense, length -> 3, values -> List(0.606325134177877, 0.17895352859875285, 0.21472133722337003))</td><td>0</td><td>0</td></tr><tr><td>Map(vectorType -> dense, length -> 5, values -> List(1.0, 0.2911392955171836, 0.5238095021842549, 0.21428571428571427, 0.20967741935483872))</td><td>Map(vectorType -> dense, length -> 3, values -> List(0.6781942736556413, 0.0954020053245875, 0.2264037210197712))</td><td>0</td><td>0</td></tr><tr><td>Map(vectorType -> dense, length -> 5, values -> List(1.0, 0.31645568601533636, 0.5476191179011717, 0.21428571428571427, 0.1935483870967742))</td><td>Map(vectorType -> dense, length -> 3, values -> List(0.6610112799404089, 0.09180046890129213, 0.24718825115829887))</td><td>0</td><td>0</td></tr><tr><td>Map(vectorType -> dense, length -> 5, values -> List(1.0, 0.3544304327202509, 0.5714285065527647, 0.23214285714285712, 0.0967741935483871))</td><td>Map(vectorType -> dense, length -> 3, values -> List(0.6276471031174391, 0.08030532299218829, 0.2920475738903726))</td><td>0</td><td>0</td></tr><tr><td>Map(vectorType -> dense, length -> 5, values -> List(1.0, 0.3586497774840479, 0.6785713231482425, 0.33928571428571425, 0.2903225806451613))</td><td>Map(vectorType -> dense, length -> 3, values -> List(0.6092332064208497, 0.11349471375481081, 0.27727207982433943))</td><td>0</td><td>0</td></tr></tbody></table></div>"
      ]
     },
     "metadata": {
      "application/vnd.databricks.v1+output": {
       "addedWidgets": {},
       "aggData": [],
       "aggError": "",
       "aggOverflow": false,
       "aggSchema": [],
       "aggSeriesLimitReached": false,
       "aggType": "",
       "arguments": {},
       "columnCustomDisplayInfos": {},
       "data": [
        [
         {
          "length": 5,
          "values": [
           1.0,
           0.10126588390798179,
           0.5952381222696814,
           0.23214285714285712,
           0.0
          ],
          "vectorType": "dense"
         },
         {
          "length": 3,
          "values": [
           0.8294058579580259,
           0.038026612709396015,
           0.13256752933257793
          ],
          "vectorType": "dense"
         },
         0,
         0
        ],
        [
         {
          "length": 5,
          "values": [
           1.0,
           0.1434599753766933,
           0.3690476812202672,
           0.375,
           0.14516129032258066
          ],
          "vectorType": "dense"
         },
         {
          "length": 3,
          "values": [
           0.7236973028229982,
           0.1263491713921393,
           0.14995352578486257
          ],
          "vectorType": "dense"
         },
         0,
         0
        ],
        [
         {
          "length": 5,
          "values": [
           1.0,
           0.24050635356319272,
           0.6190475109212744,
           0.0,
           0.16129032258064516
          ],
          "vectorType": "dense"
         },
         {
          "length": 3,
          "values": [
           0.7795747520120259,
           0.039322401425116504,
           0.18110284656285766
          ],
          "vectorType": "dense"
         },
         0,
         0
        ],
        [
         {
          "length": 5,
          "values": [
           1.0,
           0.25316454881226913,
           0.40476187773031863,
           0.42857142857142855,
           0.29838709677419356
          ],
          "vectorType": "dense"
         },
         {
          "length": 3,
          "values": [
           0.601306138564913,
           0.20571754327737657,
           0.19297631815771044
          ],
          "vectorType": "dense"
         },
         0,
         0
        ],
        [
         {
          "length": 5,
          "values": [
           1.0,
           0.27426159454662485,
           0.4880953056742035,
           0.4464285714285714,
           0.27419354838709675
          ],
          "vectorType": "dense"
         },
         {
          "length": 3,
          "values": [
           0.606325134177877,
           0.17895352859875285,
           0.21472133722337003
          ],
          "vectorType": "dense"
         },
         0,
         0
        ],
        [
         {
          "length": 5,
          "values": [
           1.0,
           0.2911392955171836,
           0.5238095021842549,
           0.21428571428571427,
           0.20967741935483872
          ],
          "vectorType": "dense"
         },
         {
          "length": 3,
          "values": [
           0.6781942736556413,
           0.0954020053245875,
           0.2264037210197712
          ],
          "vectorType": "dense"
         },
         0,
         0
        ],
        [
         {
          "length": 5,
          "values": [
           1.0,
           0.31645568601533636,
           0.5476191179011717,
           0.21428571428571427,
           0.1935483870967742
          ],
          "vectorType": "dense"
         },
         {
          "length": 3,
          "values": [
           0.6610112799404089,
           0.09180046890129213,
           0.24718825115829887
          ],
          "vectorType": "dense"
         },
         0,
         0
        ],
        [
         {
          "length": 5,
          "values": [
           1.0,
           0.3544304327202509,
           0.5714285065527647,
           0.23214285714285712,
           0.0967741935483871
          ],
          "vectorType": "dense"
         },
         {
          "length": 3,
          "values": [
           0.6276471031174391,
           0.08030532299218829,
           0.2920475738903726
          ],
          "vectorType": "dense"
         },
         0,
         0
        ],
        [
         {
          "length": 5,
          "values": [
           1.0,
           0.3586497774840479,
           0.6785713231482425,
           0.33928571428571425,
           0.2903225806451613
          ],
          "vectorType": "dense"
         },
         {
          "length": 3,
          "values": [
           0.6092332064208497,
           0.11349471375481081,
           0.27727207982433943
          ],
          "vectorType": "dense"
         },
         0,
         0
        ]
       ],
       "datasetInfos": [],
       "dbfsResultPath": null,
       "isJsonSchema": true,
       "metadata": {},
       "overflow": false,
       "plotOptions": {
        "customPlotOptions": {},
        "displayType": "table",
        "pivotAggregation": null,
        "pivotColumns": null,
        "xColumns": null,
        "yColumns": null
       },
       "removedWidgets": [],
       "schema": [
        {
         "metadata": "{\"ml_attr\":{\"attrs\":{\"numeric\":[{\"idx\":1,\"name\":\"normalizedFeatures_0\"},{\"idx\":2,\"name\":\"normalizedFeatures_1\"},{\"idx\":3,\"name\":\"normalizedFeatures_2\"},{\"idx\":4,\"name\":\"normalizedFeatures_3\"}],\"nominal\":[{\"vals\":[\"Dream\",\"Biscoe\",\"Torgersen\"],\"idx\":0,\"name\":\"IslandIdx\"}]},\"num_attrs\":5}}",
         "name": "features",
         "type": "{\"type\":\"udt\",\"class\":\"org.apache.spark.ml.linalg.VectorUDT\",\"pyClass\":\"pyspark.ml.linalg.VectorUDT\",\"sqlType\":{\"type\":\"struct\",\"fields\":[{\"name\":\"type\",\"type\":\"byte\",\"nullable\":false,\"metadata\":{}},{\"name\":\"size\",\"type\":\"integer\",\"nullable\":true,\"metadata\":{}},{\"name\":\"indices\",\"type\":{\"type\":\"array\",\"elementType\":\"integer\",\"containsNull\":false},\"nullable\":true,\"metadata\":{}},{\"name\":\"values\",\"type\":{\"type\":\"array\",\"elementType\":\"double\",\"containsNull\":false},\"nullable\":true,\"metadata\":{}}]}}"
        },
        {
         "metadata": "{\"ml_attr\":{\"num_attrs\":3}}",
         "name": "probability",
         "type": "{\"type\":\"udt\",\"class\":\"org.apache.spark.ml.linalg.VectorUDT\",\"pyClass\":\"pyspark.ml.linalg.VectorUDT\",\"sqlType\":{\"type\":\"struct\",\"fields\":[{\"name\":\"type\",\"type\":\"byte\",\"nullable\":false,\"metadata\":{}},{\"name\":\"size\",\"type\":\"integer\",\"nullable\":true,\"metadata\":{}},{\"name\":\"indices\",\"type\":{\"type\":\"array\",\"elementType\":\"integer\",\"containsNull\":false},\"nullable\":true,\"metadata\":{}},{\"name\":\"values\",\"type\":{\"type\":\"array\",\"elementType\":\"double\",\"containsNull\":false},\"nullable\":true,\"metadata\":{}}]}}"
        },
        {
         "metadata": "{}",
         "name": "prediction",
         "type": "\"integer\""
        },
        {
         "metadata": "{}",
         "name": "trueLabel",
         "type": "\"integer\""
        }
       ],
       "type": "table"
      }
     },
     "output_type": "display_data"
    }
   ],
   "source": [
    "# Prepare the test data\n",
    "indexedTestData = indexer.fit(test).transform(test).drop(\"Island\")\n",
    "vectorizedTestData = numericColVector.transform(indexedTestData)\n",
    "scaledTestData = minMax.fit(vectorizedTestData).transform(vectorizedTestData)\n",
    "preppedTestData = featVect.transform(scaledTestData)[col(\"featuresVector\").alias(\"features\"), col(\"Species\").alias(\"label\")]\n",
    "   \n",
    "# Get predictions\n",
    "prediction = model.transform(preppedTestData)\n",
    "predicted = prediction.select(\"features\", \"probability\", col(\"prediction\").astype(\"Int\"), col(\"label\").alias(\"trueLabel\"))\n",
    "display(predicted.limit(9))"
   ]
  },
  {
   "cell_type": "markdown",
   "metadata": {
    "application/vnd.databricks.v1+cell": {
     "cellMetadata": {},
     "inputWidgets": {},
     "nuid": "6b74dd3a-21b4-4aac-9b88-a4a15eb7809b",
     "showTitle": false,
     "tableResultSettingsMap": {},
     "title": ""
    }
   },
   "source": [
    "The results include the following columns:\n",
    "\n",
    "features: The prepared features data from the test dataset.\n",
    "\n",
    "probability: The probability calculated by the model for each class. This consists of a vector containing three probability values (because there are three classes) which add up to a total of 1.0 (its assumed that there’s a 100% probability that the penguin belongs to one of the three species classes).\n",
    "\n",
    "prediction: The predicted class label (the one with the highest probability).\n",
    "\n",
    "trueLabel: The actual known label value from the test data.\n",
    "\n",
    "To evaluate the effectiveness of the model, you could simply compare the predicted and true labels in these results. However, you can get more meaningful metrics by using a model evaluator - in this case, a multiclass (because there are multiple possible class labels) classification evaluator."
   ]
  },
  {
   "cell_type": "markdown",
   "metadata": {
    "application/vnd.databricks.v1+cell": {
     "cellMetadata": {},
     "inputWidgets": {},
     "nuid": "3a4bcd05-abd0-4dfa-9a96-fcc192b2c189",
     "showTitle": false,
     "tableResultSettingsMap": {},
     "title": ""
    }
   },
   "source": [
    "Use the following code to get evaluation metrics for a classification model based on the results from the test data:"
   ]
  },
  {
   "cell_type": "code",
   "execution_count": 0,
   "metadata": {
    "application/vnd.databricks.v1+cell": {
     "cellMetadata": {
      "byteLimit": 2048000,
      "rowLimit": 10000
     },
     "inputWidgets": {},
     "nuid": "71801acd-75ae-4e2b-a6bc-6ad19318b98e",
     "showTitle": false,
     "tableResultSettingsMap": {},
     "title": ""
    }
   },
   "outputs": [
    {
     "output_type": "stream",
     "name": "stdout",
     "output_type": "stream",
     "text": [
      "Accuracy: 0.943089430894309\n\nIndividual class metrics:\nClass 0\n\tPrecision: 0.9538461538461539\n\tRecall: 0.96875\n\tF1 Score: 0.9612403100775193\nClass 1\n\tPrecision: 0.9459459459459459\n\tRecall: 1.0\n\tF1 Score: 0.9722222222222222\nClass 2\n\tPrecision: 0.9047619047619048\n\tRecall: 0.7916666666666666\n\tF1 Score: 0.8444444444444444\nOverall Precision: 0.94202071275242\nOverall Recall: 0.943089430894309\nOverall F1 Score: 0.9415758072309405\n"
     ]
    }
   ],
   "source": [
    "from pyspark.ml.evaluation import MulticlassClassificationEvaluator\n",
    "   \n",
    "evaluator = MulticlassClassificationEvaluator(labelCol=\"label\", predictionCol=\"prediction\")\n",
    "   \n",
    "# Simple accuracy\n",
    "accuracy = evaluator.evaluate(prediction, {evaluator.metricName:\"accuracy\"})\n",
    "print(\"Accuracy:\", accuracy)\n",
    "   \n",
    "# Individual class metrics\n",
    "labels = [0,1,2]\n",
    "print(\"\\nIndividual class metrics:\")\n",
    "for label in sorted(labels):\n",
    "    print (\"Class %s\" % (label))\n",
    "   \n",
    "    # Precision\n",
    "    precision = evaluator.evaluate(prediction, {evaluator.metricLabel:label,\n",
    "                                                evaluator.metricName:\"precisionByLabel\"})\n",
    "    print(\"\\tPrecision:\", precision)\n",
    "   \n",
    "    # Recall\n",
    "    recall = evaluator.evaluate(prediction, {evaluator.metricLabel:label,\n",
    "                                             evaluator.metricName:\"recallByLabel\"})\n",
    "    print(\"\\tRecall:\", recall)\n",
    "   \n",
    "    # F1 score\n",
    "    f1 = evaluator.evaluate(prediction, {evaluator.metricLabel:label,\n",
    "                                         evaluator.metricName:\"fMeasureByLabel\"})\n",
    "    print(\"\\tF1 Score:\", f1)\n",
    "   \n",
    "# Weighted (overall) metrics\n",
    "overallPrecision = evaluator.evaluate(prediction, {evaluator.metricName:\"weightedPrecision\"})\n",
    "print(\"Overall Precision:\", overallPrecision)\n",
    "overallRecall = evaluator.evaluate(prediction, {evaluator.metricName:\"weightedRecall\"})\n",
    "print(\"Overall Recall:\", overallRecall)\n",
    "overallF1 = evaluator.evaluate(prediction, {evaluator.metricName:\"weightedFMeasure\"})\n",
    "print(\"Overall F1 Score:\", overallF1)"
   ]
  },
  {
   "cell_type": "markdown",
   "metadata": {
    "application/vnd.databricks.v1+cell": {
     "cellMetadata": {},
     "inputWidgets": {},
     "nuid": "b96a67e5-5815-410c-b62f-088363f066d8",
     "showTitle": false,
     "tableResultSettingsMap": {},
     "title": ""
    }
   },
   "source": [
    "The evaluation metrics that are calculated for multiclass classification include:\n",
    "\n",
    "- Accuracy: The proportion of overall predictions that were correct.\n",
    "- Per-class metrics:\n",
    "  - Precision: The proportion of predictions of this class that were correct.\n",
    "  - Recall: The proportion of actual instances of this class that were correctly predicted.\n",
    "  - F1 score: A combined metric for precision and recall\n",
    "- Combined (weighted) precision, recall, and F1 metrics for all classes."
   ]
  },
  {
   "cell_type": "markdown",
   "metadata": {
    "application/vnd.databricks.v1+cell": {
     "cellMetadata": {},
     "inputWidgets": {},
     "nuid": "f819c74d-bb92-4372-891f-b8fc17e8914b",
     "showTitle": false,
     "tableResultSettingsMap": {},
     "title": ""
    }
   },
   "source": [
    "## Use a pipeline\n",
    "\n",
    "You trained your model by performing the required feature engineering steps and then fitting an algorithm to the data. To use the model with some test data to generate predictions (referred to as inferencing), you had to apply the same feature engineering steps to the test data. \n",
    "\n",
    "A more efficient way to build and use models is to encapsulate the transformers used to prepare the data and the model used to train it in a pipeline."
   ]
  },
  {
   "cell_type": "markdown",
   "metadata": {
    "application/vnd.databricks.v1+cell": {
     "cellMetadata": {},
     "inputWidgets": {},
     "nuid": "c6fe67db-a543-4f41-b3c8-37cc2666dfdf",
     "showTitle": false,
     "tableResultSettingsMap": {},
     "title": ""
    }
   },
   "source": [
    "### Use the following code to create a pipeline that \n",
    "### encapsulates the data preparation and model training steps:"
   ]
  },
  {
   "cell_type": "code",
   "execution_count": 0,
   "metadata": {
    "application/vnd.databricks.v1+cell": {
     "cellMetadata": {
      "byteLimit": 2048000,
      "rowLimit": 10000
     },
     "inputWidgets": {},
     "nuid": "7c42e914-89a0-4fd6-9fe9-a38086ad8a22",
     "showTitle": false,
     "tableResultSettingsMap": {},
     "title": ""
    }
   },
   "outputs": [
    {
     "output_type": "display_data",
     "data": {
      "application/vnd.jupyter.widget-view+json": {
       "model_id": "f051495a28174d27aac1ba36599242d3",
       "version_major": 2,
       "version_minor": 0
      },
      "text/plain": [
       "Downloading artifacts:   0%|          | 0/45 [00:00<?, ?it/s]"
      ]
     },
     "metadata": {},
     "output_type": "display_data"
    },
    {
     "output_type": "display_data",
     "data": {
      "application/vnd.jupyter.widget-view+json": {
       "model_id": "2764f046d53b4447a951d0e4a035d8c0",
       "version_major": 2,
       "version_minor": 0
      },
      "text/plain": [
       "Uploading artifacts:   0%|          | 0/4 [00:00<?, ?it/s]"
      ]
     },
     "metadata": {},
     "output_type": "display_data"
    },
    {
     "output_type": "stream",
     "name": "stdout",
     "output_type": "stream",
     "text": [
      "Model trained!\n"
     ]
    }
   ],
   "source": [
    "from pyspark.ml import Pipeline\n",
    "from pyspark.ml.feature import StringIndexer, VectorAssembler, MinMaxScaler\n",
    "from pyspark.ml.classification import LogisticRegression\n",
    "   \n",
    "catFeature = \"Island\"\n",
    "numFeatures = [\"CulmenLength\", \"CulmenDepth\", \"FlipperLength\", \"BodyMass\"]\n",
    "   \n",
    "# Define the feature engineering and model training algorithm steps\n",
    "catIndexer = StringIndexer(inputCol=catFeature, outputCol=catFeature + \"Idx\")\n",
    "numVector = VectorAssembler(inputCols=numFeatures, outputCol=\"numericFeatures\")\n",
    "numScaler = MinMaxScaler(inputCol = numVector.getOutputCol(), outputCol=\"normalizedFeatures\")\n",
    "featureVector = VectorAssembler(inputCols=[\"IslandIdx\", \"normalizedFeatures\"], outputCol=\"Features\")\n",
    "algo = LogisticRegression(labelCol=\"Species\", featuresCol=\"Features\", maxIter=10, regParam=0.3)\n",
    "   \n",
    "# Chain the steps as stages in a pipeline\n",
    "pipeline = Pipeline(stages=[catIndexer, numVector, numScaler, featureVector, algo])\n",
    "   \n",
    "# Use the pipeline to prepare data and fit the model algorithm\n",
    "model = pipeline.fit(train)\n",
    "print (\"Model trained!\")"
   ]
  },
  {
   "cell_type": "markdown",
   "metadata": {
    "application/vnd.databricks.v1+cell": {
     "cellMetadata": {},
     "inputWidgets": {},
     "nuid": "be0be408-f83c-463d-aed6-d875a5ceb866",
     "showTitle": false,
     "tableResultSettingsMap": {},
     "title": ""
    }
   },
   "source": [
    "### Use the following code to apply the pipeline to the test data:\n",
    "\n"
   ]
  },
  {
   "cell_type": "code",
   "execution_count": 0,
   "metadata": {
    "application/vnd.databricks.v1+cell": {
     "cellMetadata": {
      "byteLimit": 2048000,
      "rowLimit": 10000
     },
     "inputWidgets": {},
     "nuid": "7c789fae-1e9c-48a6-9776-5903a5e313bd",
     "showTitle": false,
     "tableResultSettingsMap": {},
     "title": ""
    }
   },
   "outputs": [
    {
     "output_type": "display_data",
     "data": {
      "text/html": [
       "<style scoped>\n",
       "  .table-result-container {\n",
       "    max-height: 300px;\n",
       "    overflow: auto;\n",
       "  }\n",
       "  table, th, td {\n",
       "    border: 1px solid black;\n",
       "    border-collapse: collapse;\n",
       "  }\n",
       "  th, td {\n",
       "    padding: 5px;\n",
       "  }\n",
       "  th {\n",
       "    text-align: left;\n",
       "  }\n",
       "</style><div class='table-result-container'><table class='table-result'><thead style='background-color: white'><tr><th>Features</th><th>probability</th><th>prediction</th><th>trueLabel</th></tr></thead><tbody><tr><td>Map(vectorType -> dense, length -> 5, values -> List(0.0, 0.05283024625958137, 0.6202531920623882, 0.2542372881355932, 0.05555555555555555))</td><td>Map(vectorType -> dense, length -> 3, values -> List(0.8352270587863826, 0.06458507412353533, 0.10018786709008196))</td><td>0</td><td>0</td></tr><tr><td>Map(vectorType -> dense, length -> 5, values -> List(0.0, 0.09056609531618513, 0.37974692865587095, 0.3898305084745763, 0.18055555555555555))</td><td>Map(vectorType -> dense, length -> 3, values -> List(0.6952581926243824, 0.19791951109897707, 0.10682229627664055))</td><td>0</td><td>0</td></tr><tr><td>Map(vectorType -> dense, length -> 5, values -> List(0.0, 0.17735851935620578, 0.6455695010629846, 0.03389830508474576, 0.19444444444444445))</td><td>Map(vectorType -> dense, length -> 3, values -> List(0.8023228784136749, 0.06413523113393665, 0.1335418904523884))</td><td>0</td><td>0</td></tr><tr><td>Map(vectorType -> dense, length -> 5, values -> List(0.0, 0.18867924528301885, 0.41772151287502485, 0.4406779661016949, 0.3125))</td><td>Map(vectorType -> dense, length -> 3, values -> List(0.5752420607128577, 0.2936451474692828, 0.1311127918178596))</td><td>0</td><td>0</td></tr><tr><td>Map(vectorType -> dense, length -> 5, values -> List(0.0, 0.20754716981132074, 0.5063291979684083, 0.4576271186440678, 0.2916666666666667))</td><td>Map(vectorType -> dense, length -> 3, values -> List(0.5946825189574656, 0.2576849905543497, 0.14763249048818478))</td><td>0</td><td>0</td></tr><tr><td>Map(vectorType -> dense, length -> 5, values -> List(0.0, 0.22264156701429835, 0.5443037821875621, 0.23728813559322035, 0.2361111111111111))</td><td>Map(vectorType -> dense, length -> 3, values -> List(0.6911358111445404, 0.1478564325835306, 0.16100775627192898))</td><td>0</td><td>0</td></tr><tr><td>Map(vectorType -> dense, length -> 5, values -> List(0.0, 0.24528301886792453, 0.5696203326246769, 0.23728813559322035, 0.2222222222222222))</td><td>Map(vectorType -> dense, length -> 3, values -> List(0.6816041754642713, 0.14283495209084515, 0.17556087244488358))</td><td>0</td><td>0</td></tr><tr><td>Map(vectorType -> dense, length -> 5, values -> List(0.0, 0.279245340599204, 0.5949366416252734, 0.2542372881355932, 0.1388888888888889))</td><td>Map(vectorType -> dense, length -> 3, values -> List(0.6635413661071513, 0.12900274364052758, 0.20745589025232106))</td><td>0</td><td>0</td></tr><tr><td>Map(vectorType -> dense, length -> 5, values -> List(0.0, 0.2830188679245283, 0.7088606357192532, 0.3559322033898305, 0.3055555555555556))</td><td>Map(vectorType -> dense, length -> 3, values -> List(0.6377639044336078, 0.16612188030888317, 0.19611421525750913))</td><td>0</td><td>0</td></tr></tbody></table></div>"
      ]
     },
     "metadata": {
      "application/vnd.databricks.v1+output": {
       "addedWidgets": {},
       "aggData": [],
       "aggError": "",
       "aggOverflow": false,
       "aggSchema": [],
       "aggSeriesLimitReached": false,
       "aggType": "",
       "arguments": {},
       "columnCustomDisplayInfos": {},
       "data": [
        [
         {
          "length": 5,
          "values": [
           0.0,
           0.05283024625958137,
           0.6202531920623882,
           0.2542372881355932,
           0.05555555555555555
          ],
          "vectorType": "dense"
         },
         {
          "length": 3,
          "values": [
           0.8352270587863826,
           0.06458507412353533,
           0.10018786709008196
          ],
          "vectorType": "dense"
         },
         0,
         0
        ],
        [
         {
          "length": 5,
          "values": [
           0.0,
           0.09056609531618513,
           0.37974692865587095,
           0.3898305084745763,
           0.18055555555555555
          ],
          "vectorType": "dense"
         },
         {
          "length": 3,
          "values": [
           0.6952581926243824,
           0.19791951109897707,
           0.10682229627664055
          ],
          "vectorType": "dense"
         },
         0,
         0
        ],
        [
         {
          "length": 5,
          "values": [
           0.0,
           0.17735851935620578,
           0.6455695010629846,
           0.03389830508474576,
           0.19444444444444445
          ],
          "vectorType": "dense"
         },
         {
          "length": 3,
          "values": [
           0.8023228784136749,
           0.06413523113393665,
           0.1335418904523884
          ],
          "vectorType": "dense"
         },
         0,
         0
        ],
        [
         {
          "length": 5,
          "values": [
           0.0,
           0.18867924528301885,
           0.41772151287502485,
           0.4406779661016949,
           0.3125
          ],
          "vectorType": "dense"
         },
         {
          "length": 3,
          "values": [
           0.5752420607128577,
           0.2936451474692828,
           0.1311127918178596
          ],
          "vectorType": "dense"
         },
         0,
         0
        ],
        [
         {
          "length": 5,
          "values": [
           0.0,
           0.20754716981132074,
           0.5063291979684083,
           0.4576271186440678,
           0.2916666666666667
          ],
          "vectorType": "dense"
         },
         {
          "length": 3,
          "values": [
           0.5946825189574656,
           0.2576849905543497,
           0.14763249048818478
          ],
          "vectorType": "dense"
         },
         0,
         0
        ],
        [
         {
          "length": 5,
          "values": [
           0.0,
           0.22264156701429835,
           0.5443037821875621,
           0.23728813559322035,
           0.2361111111111111
          ],
          "vectorType": "dense"
         },
         {
          "length": 3,
          "values": [
           0.6911358111445404,
           0.1478564325835306,
           0.16100775627192898
          ],
          "vectorType": "dense"
         },
         0,
         0
        ],
        [
         {
          "length": 5,
          "values": [
           0.0,
           0.24528301886792453,
           0.5696203326246769,
           0.23728813559322035,
           0.2222222222222222
          ],
          "vectorType": "dense"
         },
         {
          "length": 3,
          "values": [
           0.6816041754642713,
           0.14283495209084515,
           0.17556087244488358
          ],
          "vectorType": "dense"
         },
         0,
         0
        ],
        [
         {
          "length": 5,
          "values": [
           0.0,
           0.279245340599204,
           0.5949366416252734,
           0.2542372881355932,
           0.1388888888888889
          ],
          "vectorType": "dense"
         },
         {
          "length": 3,
          "values": [
           0.6635413661071513,
           0.12900274364052758,
           0.20745589025232106
          ],
          "vectorType": "dense"
         },
         0,
         0
        ],
        [
         {
          "length": 5,
          "values": [
           0.0,
           0.2830188679245283,
           0.7088606357192532,
           0.3559322033898305,
           0.3055555555555556
          ],
          "vectorType": "dense"
         },
         {
          "length": 3,
          "values": [
           0.6377639044336078,
           0.16612188030888317,
           0.19611421525750913
          ],
          "vectorType": "dense"
         },
         0,
         0
        ]
       ],
       "datasetInfos": [],
       "dbfsResultPath": null,
       "isJsonSchema": true,
       "metadata": {},
       "overflow": false,
       "plotOptions": {
        "customPlotOptions": {},
        "displayType": "table",
        "pivotAggregation": null,
        "pivotColumns": null,
        "xColumns": null,
        "yColumns": null
       },
       "removedWidgets": [],
       "schema": [
        {
         "metadata": "{\"ml_attr\":{\"attrs\":{\"numeric\":[{\"idx\":1,\"name\":\"normalizedFeatures_0\"},{\"idx\":2,\"name\":\"normalizedFeatures_1\"},{\"idx\":3,\"name\":\"normalizedFeatures_2\"},{\"idx\":4,\"name\":\"normalizedFeatures_3\"}],\"nominal\":[{\"vals\":[\"Biscoe\",\"Dream\",\"Torgersen\"],\"idx\":0,\"name\":\"IslandIdx\"}]},\"num_attrs\":5}}",
         "name": "Features",
         "type": "{\"type\":\"udt\",\"class\":\"org.apache.spark.ml.linalg.VectorUDT\",\"pyClass\":\"pyspark.ml.linalg.VectorUDT\",\"sqlType\":{\"type\":\"struct\",\"fields\":[{\"name\":\"type\",\"type\":\"byte\",\"nullable\":false,\"metadata\":{}},{\"name\":\"size\",\"type\":\"integer\",\"nullable\":true,\"metadata\":{}},{\"name\":\"indices\",\"type\":{\"type\":\"array\",\"elementType\":\"integer\",\"containsNull\":false},\"nullable\":true,\"metadata\":{}},{\"name\":\"values\",\"type\":{\"type\":\"array\",\"elementType\":\"double\",\"containsNull\":false},\"nullable\":true,\"metadata\":{}}]}}"
        },
        {
         "metadata": "{\"ml_attr\":{\"num_attrs\":3}}",
         "name": "probability",
         "type": "{\"type\":\"udt\",\"class\":\"org.apache.spark.ml.linalg.VectorUDT\",\"pyClass\":\"pyspark.ml.linalg.VectorUDT\",\"sqlType\":{\"type\":\"struct\",\"fields\":[{\"name\":\"type\",\"type\":\"byte\",\"nullable\":false,\"metadata\":{}},{\"name\":\"size\",\"type\":\"integer\",\"nullable\":true,\"metadata\":{}},{\"name\":\"indices\",\"type\":{\"type\":\"array\",\"elementType\":\"integer\",\"containsNull\":false},\"nullable\":true,\"metadata\":{}},{\"name\":\"values\",\"type\":{\"type\":\"array\",\"elementType\":\"double\",\"containsNull\":false},\"nullable\":true,\"metadata\":{}}]}}"
        },
        {
         "metadata": "{}",
         "name": "prediction",
         "type": "\"integer\""
        },
        {
         "metadata": "{}",
         "name": "trueLabel",
         "type": "\"integer\""
        }
       ],
       "type": "table"
      }
     },
     "output_type": "display_data"
    }
   ],
   "source": [
    "prediction = model.transform(test)\n",
    "predicted = prediction.select(\"Features\", \"probability\", col(\"prediction\").astype(\"Int\"), col(\"Species\").alias(\"trueLabel\"))\n",
    "display(predicted.limit(9))"
   ]
  },
  {
   "cell_type": "markdown",
   "metadata": {
    "application/vnd.databricks.v1+cell": {
     "cellMetadata": {},
     "inputWidgets": {},
     "nuid": "fb1e34bf-7638-4988-aa06-279ed8f772a4",
     "showTitle": false,
     "tableResultSettingsMap": {},
     "title": ""
    }
   },
   "source": [
    "# Run the following code to create a pipeline that uses a \n",
    "# Decision tree algorithm:"
   ]
  },
  {
   "cell_type": "code",
   "execution_count": 0,
   "metadata": {
    "application/vnd.databricks.v1+cell": {
     "cellMetadata": {
      "byteLimit": 2048000,
      "rowLimit": 10000
     },
     "inputWidgets": {},
     "nuid": "2bf3b76d-e7c6-4917-a182-d4154f96e257",
     "showTitle": false,
     "tableResultSettingsMap": {},
     "title": ""
    }
   },
   "outputs": [
    {
     "output_type": "display_data",
     "data": {
      "application/vnd.jupyter.widget-view+json": {
       "model_id": "f0d00156fe214e0e8ead1980e9e49138",
       "version_major": 2,
       "version_minor": 0
      },
      "text/plain": [
       "Downloading artifacts:   0%|          | 0/45 [00:00<?, ?it/s]"
      ]
     },
     "metadata": {},
     "output_type": "display_data"
    },
    {
     "output_type": "display_data",
     "data": {
      "application/vnd.jupyter.widget-view+json": {
       "model_id": "bac4c4b263664cfe8f4a40f0753bb8e8",
       "version_major": 2,
       "version_minor": 0
      },
      "text/plain": [
       "Uploading artifacts:   0%|          | 0/4 [00:00<?, ?it/s]"
      ]
     },
     "metadata": {},
     "output_type": "display_data"
    },
    {
     "output_type": "stream",
     "name": "stdout",
     "output_type": "stream",
     "text": [
      "Model trained! using DecisionTreeClassifier\n"
     ]
    }
   ],
   "source": [
    "from pyspark.ml import Pipeline\n",
    "from pyspark.ml.feature import StringIndexer, VectorAssembler, MinMaxScaler\n",
    "from pyspark.ml.classification import DecisionTreeClassifier\n",
    "   \n",
    "catFeature = \"Island\"\n",
    "numFeatures = [\"CulmenLength\", \"CulmenDepth\", \"FlipperLength\", \"BodyMass\"]\n",
    "   \n",
    "# Define the feature engineering and model steps\n",
    "catIndexer = StringIndexer(inputCol=catFeature, outputCol=catFeature + \"Idx\")\n",
    "numVector = VectorAssembler(inputCols=numFeatures, outputCol=\"numericFeatures\")\n",
    "numScaler = MinMaxScaler(inputCol = numVector.getOutputCol(), outputCol=\"normalizedFeatures\")\n",
    "featureVector = VectorAssembler(inputCols=[\"IslandIdx\", \"normalizedFeatures\"], outputCol=\"Features\")\n",
    "algo = DecisionTreeClassifier(labelCol=\"Species\", featuresCol=\"Features\", maxDepth=10)\n",
    "   \n",
    "# Chain the steps as stages in a pipeline\n",
    "pipeline = Pipeline(stages=[catIndexer, numVector, numScaler, featureVector, algo])\n",
    "   \n",
    "# Use the pipeline to prepare data and fit the model algorithm\n",
    "model = pipeline.fit(train)\n",
    "print (\"Model trained! using DecisionTreeClassifier\")"
   ]
  },
  {
   "cell_type": "markdown",
   "metadata": {
    "application/vnd.databricks.v1+cell": {
     "cellMetadata": {},
     "inputWidgets": {},
     "nuid": "ccffe974-334b-4fec-b9f3-7ed8390eb887",
     "showTitle": false,
     "tableResultSettingsMap": {},
     "title": ""
    }
   },
   "source": [
    "### Run the following code to use the new pipeline using Decision tree algorithm, with the test data:"
   ]
  },
  {
   "cell_type": "code",
   "execution_count": 0,
   "metadata": {
    "application/vnd.databricks.v1+cell": {
     "cellMetadata": {
      "byteLimit": 2048000,
      "rowLimit": 10000
     },
     "inputWidgets": {},
     "nuid": "8a48877f-eb5a-4bad-81ed-f6eee7222d5e",
     "showTitle": false,
     "tableResultSettingsMap": {},
     "title": ""
    }
   },
   "outputs": [
    {
     "output_type": "stream",
     "name": "stdout",
     "output_type": "stream",
     "text": [
      "Accuracy: 0.9512195121951219\n\nIndividual class metrics:\nClass 0\n\tPrecision: 1.0\n\tRecall: 0.90625\n\tF1 Score: 0.9508196721311475\nClass 1\n\tPrecision: 0.9722222222222222\n\tRecall: 1.0\n\tF1 Score: 0.9859154929577464\nClass 2\n\tPrecision: 0.8275862068965517\n\tRecall: 1.0\n\tF1 Score: 0.9056603773584906\nOverall Precision: 0.9584540385633742\nOverall Recall: 0.9512195121951219\nOverall F1 Score: 0.9519947181017752\n"
     ]
    }
   ],
   "source": [
    "# Get predictions\n",
    "prediction = model.transform(test)\n",
    "predicted = prediction.select(\"Features\", \"probability\", col(\"prediction\").astype(\"Int\"), col(\"Species\").alias(\"trueLabel\"))\n",
    "   \n",
    "# Generate evaluation metrics\n",
    "from pyspark.ml.evaluation import MulticlassClassificationEvaluator\n",
    "   \n",
    "evaluator = MulticlassClassificationEvaluator(labelCol=\"Species\", predictionCol=\"prediction\")\n",
    "   \n",
    "# Simple accuracy\n",
    "accuracy = evaluator.evaluate(prediction, {evaluator.metricName:\"accuracy\"})\n",
    "print(\"Accuracy:\", accuracy)\n",
    "   \n",
    "# Class metrics\n",
    "labels = [0,1,2]\n",
    "print(\"\\nIndividual class metrics:\")\n",
    "for label in sorted(labels):\n",
    "    print (\"Class %s\" % (label))\n",
    "   \n",
    "    # Precision\n",
    "    precision = evaluator.evaluate(prediction, {evaluator.metricLabel:label,\n",
    "                                                    evaluator.metricName:\"precisionByLabel\"})\n",
    "    print(\"\\tPrecision:\", precision)\n",
    "   \n",
    "    # Recall\n",
    "    recall = evaluator.evaluate(prediction, {evaluator.metricLabel:label,\n",
    "                                             evaluator.metricName:\"recallByLabel\"})\n",
    "    print(\"\\tRecall:\", recall)\n",
    "   \n",
    "    # F1 score\n",
    "    f1 = evaluator.evaluate(prediction, {evaluator.metricLabel:label,\n",
    "                                         evaluator.metricName:\"fMeasureByLabel\"})\n",
    "    print(\"\\tF1 Score:\", f1)\n",
    "   \n",
    "# Weighed (overall) metrics\n",
    "overallPrecision = evaluator.evaluate(prediction, {evaluator.metricName:\"weightedPrecision\"})\n",
    "print(\"Overall Precision:\", overallPrecision)\n",
    "overallRecall = evaluator.evaluate(prediction, {evaluator.metricName:\"weightedRecall\"})\n",
    "print(\"Overall Recall:\", overallRecall)\n",
    "overallF1 = evaluator.evaluate(prediction, {evaluator.metricName:\"weightedFMeasure\"})\n",
    "print(\"Overall F1 Score:\", overallF1)"
   ]
  },
  {
   "cell_type": "markdown",
   "metadata": {
    "application/vnd.databricks.v1+cell": {
     "cellMetadata": {},
     "inputWidgets": {},
     "nuid": "29d39dff-b271-4b83-af47-62f47d3307cc",
     "showTitle": false,
     "tableResultSettingsMap": {},
     "title": ""
    }
   },
   "source": [
    "# Save the model"
   ]
  },
  {
   "cell_type": "code",
   "execution_count": 0,
   "metadata": {
    "application/vnd.databricks.v1+cell": {
     "cellMetadata": {
      "byteLimit": 2048000,
      "rowLimit": 10000
     },
     "inputWidgets": {},
     "nuid": "3f817281-4c12-4404-bc62-c8eae017248d",
     "showTitle": false,
     "tableResultSettingsMap": {},
     "title": ""
    }
   },
   "outputs": [],
   "source": [
    "model.save(\"/models/penguin.model\")"
   ]
  },
  {
   "cell_type": "code",
   "execution_count": 0,
   "metadata": {
    "application/vnd.databricks.v1+cell": {
     "cellMetadata": {
      "byteLimit": 2048000,
      "rowLimit": 10000
     },
     "inputWidgets": {},
     "nuid": "923dcaf8-1890-4f82-97e2-479eaf0ac581",
     "showTitle": false,
     "tableResultSettingsMap": {},
     "title": ""
    }
   },
   "outputs": [],
   "source": [
    "model.save(\"/Workspace/MicrosoftLearnings/models/penguin.model\")"
   ]
  },
  {
   "cell_type": "code",
   "execution_count": 0,
   "metadata": {
    "application/vnd.databricks.v1+cell": {
     "cellMetadata": {
      "byteLimit": 2048000,
      "rowLimit": 10000
     },
     "inputWidgets": {},
     "nuid": "77c338b4-79d8-484b-b11c-c1986dcabaad",
     "showTitle": false,
     "tableResultSettingsMap": {},
     "title": ""
    }
   },
   "outputs": [
    {
     "output_type": "stream",
     "name": "stdout",
     "output_type": "stream",
     "text": [
      "/Workspace/MicrosoftLearnings\n/Workspace/MicrosoftLearnings/models\ntotal 0\n"
     ]
    }
   ],
   "source": [
    "%sh\n",
    "\n",
    "pwd\n",
    "cd models\n",
    "pwd\n",
    "ls -l"
   ]
  },
  {
   "cell_type": "code",
   "execution_count": 0,
   "metadata": {
    "application/vnd.databricks.v1+cell": {
     "cellMetadata": {
      "byteLimit": 2048000,
      "rowLimit": 10000
     },
     "inputWidgets": {},
     "nuid": "a02dab05-8578-4076-b8b2-f7ea56fea9f4",
     "showTitle": false,
     "tableResultSettingsMap": {
      "0": {
       "dataGridStateBlob": "{\"version\":1,\"tableState\":{\"columnPinning\":{\"left\":[\"#row_number#\"],\"right\":[]},\"columnSizing\":{\"name\":121},\"columnVisibility\":{}},\"settings\":{\"columns\":{}},\"syncTimestamp\":1758453642712}",
       "filterBlob": null,
       "queryPlanFiltersBlob": null,
       "tableResultIndex": 0
      }
     },
     "title": ""
    }
   },
   "outputs": [
    {
     "output_type": "display_data",
     "data": {
      "text/html": [
       "<style scoped>\n",
       "  .table-result-container {\n",
       "    max-height: 300px;\n",
       "    overflow: auto;\n",
       "  }\n",
       "  table, th, td {\n",
       "    border: 1px solid black;\n",
       "    border-collapse: collapse;\n",
       "  }\n",
       "  th, td {\n",
       "    padding: 5px;\n",
       "  }\n",
       "  th {\n",
       "    text-align: left;\n",
       "  }\n",
       "</style><div class='table-result-container'><table class='table-result'><thead style='background-color: white'><tr><th>path</th><th>name</th><th>size</th><th>modificationTime</th></tr></thead><tbody><tr><td>dbfs:/Workspace/MicrosoftLearnings/models/penguin.model/</td><td>penguin.model/</td><td>0</td><td>1758453247000</td></tr></tbody></table></div>"
      ]
     },
     "metadata": {
      "application/vnd.databricks.v1+output": {
       "addedWidgets": {},
       "aggData": [],
       "aggError": "",
       "aggOverflow": false,
       "aggSchema": [],
       "aggSeriesLimitReached": false,
       "aggType": "",
       "arguments": {},
       "columnCustomDisplayInfos": {},
       "data": [
        [
         "dbfs:/Workspace/MicrosoftLearnings/models/penguin.model/",
         "penguin.model/",
         0,
         1758453247000
        ]
       ],
       "datasetInfos": [],
       "dbfsResultPath": null,
       "isJsonSchema": true,
       "metadata": {},
       "overflow": false,
       "plotOptions": {
        "customPlotOptions": {},
        "displayType": "table",
        "pivotAggregation": null,
        "pivotColumns": null,
        "xColumns": null,
        "yColumns": null
       },
       "removedWidgets": [],
       "schema": [
        {
         "metadata": "{}",
         "name": "path",
         "type": "\"string\""
        },
        {
         "metadata": "{}",
         "name": "name",
         "type": "\"string\""
        },
        {
         "metadata": "{}",
         "name": "size",
         "type": "\"long\""
        },
        {
         "metadata": "{}",
         "name": "modificationTime",
         "type": "\"long\""
        }
       ],
       "type": "table"
      }
     },
     "output_type": "display_data"
    }
   ],
   "source": [
    "%python\n",
    "%fs ls /Workspace/MicrosoftLearnings/models/"
   ]
  },
  {
   "cell_type": "markdown",
   "metadata": {
    "application/vnd.databricks.v1+cell": {
     "cellMetadata": {},
     "inputWidgets": {},
     "nuid": "70f574bb-85f2-4769-a7e2-66d9727f7045",
     "showTitle": false,
     "tableResultSettingsMap": {},
     "title": ""
    }
   },
   "source": [
    "Now, when you’ve been out and spotted a new penguin, you can load the saved model and use it to predict the penguin’s species based on your measurements of its features. Using a model to generate predictions from new data is called inferencing.\n",
    "\n",
    "Run the following code to load the model and use it to predict the species for a new penguin observation:"
   ]
  },
  {
   "cell_type": "code",
   "execution_count": 0,
   "metadata": {
    "application/vnd.databricks.v1+cell": {
     "cellMetadata": {
      "byteLimit": 2048000,
      "rowLimit": 10000
     },
     "inputWidgets": {},
     "nuid": "3c6de406-5ec7-4307-a110-ba6c621aa63e",
     "showTitle": false,
     "tableResultSettingsMap": {},
     "title": ""
    }
   },
   "outputs": [
    {
     "output_type": "display_data",
     "data": {
      "text/html": [
       "<style scoped>\n",
       "  .table-result-container {\n",
       "    max-height: 300px;\n",
       "    overflow: auto;\n",
       "  }\n",
       "  table, th, td {\n",
       "    border: 1px solid black;\n",
       "    border-collapse: collapse;\n",
       "  }\n",
       "  th, td {\n",
       "    padding: 5px;\n",
       "  }\n",
       "  th {\n",
       "    text-align: left;\n",
       "  }\n",
       "</style><div class='table-result-container'><table class='table-result'><thead style='background-color: white'><tr><th>Island</th><th>CulmenDepth</th><th>CulmenLength</th><th>FlipperLength</th><th>BodyMass</th><th>PredictedSpecies</th></tr></thead><tbody><tr><td>Biscoe</td><td>14.5</td><td>47.6</td><td>215</td><td>5400</td><td>1.0</td></tr></tbody></table></div>"
      ]
     },
     "metadata": {
      "application/vnd.databricks.v1+output": {
       "addedWidgets": {},
       "aggData": [],
       "aggError": "",
       "aggOverflow": false,
       "aggSchema": [],
       "aggSeriesLimitReached": false,
       "aggType": "",
       "arguments": {},
       "columnCustomDisplayInfos": {},
       "data": [
        [
         "Biscoe",
         14.5,
         47.6,
         215,
         5400,
         1.0
        ]
       ],
       "datasetInfos": [],
       "dbfsResultPath": null,
       "isJsonSchema": true,
       "metadata": {},
       "overflow": false,
       "plotOptions": {
        "customPlotOptions": {},
        "displayType": "table",
        "pivotAggregation": null,
        "pivotColumns": null,
        "xColumns": null,
        "yColumns": null
       },
       "removedWidgets": [],
       "schema": [
        {
         "metadata": "{}",
         "name": "Island",
         "type": "\"string\""
        },
        {
         "metadata": "{}",
         "name": "CulmenDepth",
         "type": "\"double\""
        },
        {
         "metadata": "{}",
         "name": "CulmenLength",
         "type": "\"double\""
        },
        {
         "metadata": "{}",
         "name": "FlipperLength",
         "type": "\"long\""
        },
        {
         "metadata": "{}",
         "name": "BodyMass",
         "type": "\"long\""
        },
        {
         "metadata": "{\"ml_attr\":{\"type\":\"nominal\",\"num_vals\":3}}",
         "name": "PredictedSpecies",
         "type": "\"double\""
        }
       ],
       "type": "table"
      }
     },
     "output_type": "display_data"
    }
   ],
   "source": [
    "from pyspark.ml.pipeline import PipelineModel\n",
    "\n",
    "persistedModel = PipelineModel.load(\"/models/penguin.model\")\n",
    "   \n",
    "newData = spark.createDataFrame ([{\"Island\": \"Biscoe\",\n",
    "                                  \"CulmenLength\": 47.6,\n",
    "                                  \"CulmenDepth\": 14.5,\n",
    "                                  \"FlipperLength\": 215,\n",
    "                                  \"BodyMass\": 5400}])\n",
    "\n",
    "\n",
    "predictions = persistedModel.transform(newData)\n",
    "display(predictions.select(\"Island\", \"CulmenDepth\", \"CulmenLength\", \"FlipperLength\", \"BodyMass\", col(\"prediction\").alias(\"PredictedSpecies\")))"
   ]
  },
  {
   "cell_type": "code",
   "execution_count": 0,
   "metadata": {
    "application/vnd.databricks.v1+cell": {
     "cellMetadata": {},
     "inputWidgets": {},
     "nuid": "2e0c2206-d8a2-42d5-95b0-85900f217954",
     "showTitle": false,
     "tableResultSettingsMap": {},
     "title": ""
    }
   },
   "outputs": [],
   "source": []
  }
 ],
 "metadata": {
  "application/vnd.databricks.v1+notebook": {
   "computePreferences": null,
   "dashboards": [],
   "environmentMetadata": {
    "base_environment": "",
    "environment_version": "3"
   },
   "inputWidgetPreferences": null,
   "language": "python",
   "notebookMetadata": {
    "mostRecentlyExecutedCommandWithImplicitDF": {
     "commandId": 6105390372871165,
     "dataframes": [
      "_sqldf"
     ]
    },
    "pythonIndentUnit": 4
   },
   "notebookName": "3_Build machine learning solutions using Azure Databricks",
   "widgets": {}
  },
  "language_info": {
   "name": "python"
  }
 },
 "nbformat": 4,
 "nbformat_minor": 0
}